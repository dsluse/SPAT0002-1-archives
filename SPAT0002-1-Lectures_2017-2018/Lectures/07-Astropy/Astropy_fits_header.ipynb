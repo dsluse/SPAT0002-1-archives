{
 "cells": [
  {
   "cell_type": "markdown",
   "metadata": {},
   "source": [
    "# Introduction to Astropy: II: Edit a fits header"
   ]
  },
  {
   "cell_type": "markdown",
   "metadata": {},
   "source": [
    "## Table of Content\n",
    "\n",
    "II. [Edit a FITS header](#II.-Edit-a-FITS-header)    \n",
    "- II.1 [Accessing and editing](#II.1-Access-and-edit-the-header)\n",
    "- II.2 [Creating a brand new fits image file](#II.2-Creating-a-brand-new-fits-image-file:)\n",
    "- II.3 [HISTORY-and-COMMENT-cards](#II.3-HISTORY-and-COMMENT-cards:)    \n",
    "\n",
    "XX. [References](#XX-References)\n"
   ]
  },
  {
   "cell_type": "code",
   "execution_count": null,
   "metadata": {
    "collapsed": true
   },
   "outputs": [],
   "source": [
    "# As usual, we start with some imports\n",
    "%matplotlib inline: \n",
    "import numpy as np\n",
    "import matplotlib.pyplot as plt"
   ]
  },
  {
   "cell_type": "markdown",
   "metadata": {},
   "source": [
    "## II. Edit a FITS header\n",
    "\n",
    "We will now see how to edit a FITS header, and then write it back out to disk. For this example we're going to change the `OBJECT` keyword.\n"
   ]
  },
  {
   "cell_type": "markdown",
   "metadata": {},
   "source": [
    "### II.1 Access and edit the header\n",
    "\n",
    "As we have seen before, there is basically three equivalent ways to access the header: \n",
    "\n",
    "1. Through the hdulist (element 0 if you want the header associated with the first HDU): \n",
    "``` python\n",
    "header = hdulist[0].header\n",
    "```\n",
    "\n",
    "\n",
    "2. Using the convenience function getdata, specifying the option `header=True`, and also `ext=0`. Hence: \n",
    "``` python\n",
    "data, header = fits.getdata('input_file.fits', header=True, ext=0)\n",
    "```\n",
    "\n",
    "3. Using a convenience function `fits.getheader()`, specifying the HDU extension:\n",
    "``` python\n",
    "header = fits.getheader('input_file.fits', 0)\n",
    "```\n",
    "\n",
    "Those functions/attribute return a Header instance, another Astropy object. To get the value associated with a header keyword, you do as you do to access elements of a python dictionary:\n",
    "`header['OBJECT']`. "
   ]
  },
  {
   "cell_type": "code",
   "execution_count": null,
   "metadata": {
    "collapsed": true
   },
   "outputs": [],
   "source": [
    "data, header = fits.getdata('stacked_M13_blue.fits', ext=0, header=True)\n",
    "header"
   ]
  },
  {
   "cell_type": "markdown",
   "metadata": {},
   "source": [
    "Although keyword names are always in upper case inside the FITS file, specifying a keyword name with Astropy is case-insensitive, for the user’s convenience.\n",
    "\n",
    "This header is filled only with default values, we can add some cards and e.g. add the correct object name. \n",
    "\n",
    "You could do:\n",
    "'''\n",
    "header['OBJECT'] = 'M31'\n",
    "'''\n",
    "But as the header does not exist yet, you do not have any description of that keyword. If yo want to also add a description you may need to set a tuple value: "
   ]
  },
  {
   "cell_type": "code",
   "execution_count": null,
   "metadata": {
    "collapsed": true
   },
   "outputs": [],
   "source": [
    "header['OBJECT'] = ('M31', 'Object name')\n",
    "header"
   ]
  },
  {
   "cell_type": "markdown",
   "metadata": {},
   "source": [
    "Finally, we have to write out the FITS file. Again, the convenience  function for this is the most useful command to remember:"
   ]
  },
  {
   "cell_type": "code",
   "execution_count": null,
   "metadata": {
    "collapsed": true
   },
   "outputs": [],
   "source": [
    "fits.writeto('output_file.fits', data, header, clobber=True)"
   ]
  },
  {
   "cell_type": "markdown",
   "metadata": {},
   "source": [
    "The option `clobber = True` is needed to overwrite the file if already existing. "
   ]
  },
  {
   "cell_type": "markdown",
   "metadata": {},
   "source": [
    "If instead of using getdata, you have worked only with hdulist (and modified `data` and/or `header` instances), you can also save your new fits (with all its layers !) using: \n",
    "`hdulist.writeto('newfile.fits')`"
   ]
  },
  {
   "cell_type": "code",
   "execution_count": null,
   "metadata": {
    "collapsed": true
   },
   "outputs": [],
   "source": [
    "hdu_list = fits.open(image_file)\n",
    "hdu_list[0].data = hdu_list[0].data*1.5  # I perform a simple operation on the \"data\" of the first HDU\n",
    "hdu_list.writeto('new_file.fits', clobber=True)\n",
    "hdu_list.close()"
   ]
  },
  {
   "cell_type": "markdown",
   "metadata": {},
   "source": [
    "### II.2 Creating a brand-new fits image file:\n",
    "\n",
    "Imagine you have an array containing your data (e.g. a model PSF, a model sky, ...) that you want to save as a fits file. For simplicity here, we'll consider an arbitrary array:"
   ]
  },
  {
   "cell_type": "code",
   "execution_count": null,
   "metadata": {
    "collapsed": true
   },
   "outputs": [],
   "source": [
    "myarray = np.ones(shape=(20, 10))\n",
    "hdu = fits.PrimaryHDU(myarray)"
   ]
  },
  {
   "cell_type": "markdown",
   "metadata": {},
   "source": [
    "We then create a HDUList to contain the newly created primary HDU, and write to a new file:"
   ]
  },
  {
   "cell_type": "code",
   "execution_count": null,
   "metadata": {
    "collapsed": true
   },
   "outputs": [],
   "source": [
    "hdulist = fits.HDUList([hdu])\n",
    "hdulist.writeto('new.fits')"
   ]
  },
  {
   "cell_type": "markdown",
   "metadata": {},
   "source": [
    "In fact, Astropy even provides a shortcut for the last two lines to accomplish the same behavior: `hdu.writeto('new.fits')`"
   ]
  },
  {
   "cell_type": "markdown",
   "metadata": {},
   "source": [
    "### II.3 `HISTORY` and `COMMENT` cards:\n",
    "\n",
    "Some of the fits CARDS have different properties than the others. Normal cards are unique and should be no larger than 80 characters. \n",
    "For the `HISTORY` and `COMMENT` cards, each new entry will be appended after the previous one (i.e. those keywords can be seen as lists on multiple elements, while other keywords only have one element). "
   ]
  },
  {
   "cell_type": "code",
   "execution_count": null,
   "metadata": {
    "collapsed": true
   },
   "outputs": [],
   "source": [
    "header['COMMENT'] = 'Night was not photometric' \n",
    "\n",
    "# If you have \"datetime\"package installed, you may automatically add the date to the HISTORY card\n",
    "try:\n",
    "    from datetime import datetime\n",
    "    now = datetime.datetime.now()\n",
    "    header['HISTORY'] = 'I updated this file on '+now.strftime('%Y-%m-%d %H:%M:%S')\n",
    "except:\n",
    "    now = '2017-05-15'\n",
    "    header['HISTORY'] = 'I updated this file on '+now\n",
    "header"
   ]
  },
  {
   "cell_type": "code",
   "execution_count": null,
   "metadata": {
    "collapsed": true
   },
   "outputs": [],
   "source": [
    "header['COMMENT'] = 'Combination of 10 images'\n",
    "header['COMMENT'][2] = ''\n",
    "print header['COMMENT']"
   ]
  },
  {
   "cell_type": "code",
   "execution_count": null,
   "metadata": {
    "collapsed": true
   },
   "outputs": [],
   "source": [
    "header['COMMENT'][2] = 'Combination of 5 images'\n",
    "print header['COMMENT']"
   ]
  },
  {
   "cell_type": "markdown",
   "metadata": {},
   "source": [
    "### Exercise: \n",
    "\n",
    "Read in the file `stacked_M13_blue.fits` we wrote above, and add three header keywords/cards:\n",
    "\n",
    "1. 'RA' for the Right Ascension of M13\n",
    "2. 'DEC' for the Declination of M13\n",
    "3. 'COMMENT' where you specify that you added RA,DEC manually and give its source\n",
    "\n",
    "then write the updated header back out to a new file. \n",
    "\n",
    "Right Ascension and Declination of M13:    \n",
    "(RA, DEC) = ('16h41m41.44s', '36d27m36.9s')"
   ]
  },
  {
   "cell_type": "markdown",
   "metadata": {},
   "source": [
    "## Credits:\n",
    "\n",
    "If you use Astropy directly—or as a dependency to another package—for your work, please remember to include the following acknowledgment at the end of papers:\n",
    "\n",
    "*This research made use of Astropy, a community-developed core Python package for Astronomy (Astropy Collaboration, 2013).*\n",
    "\n",
    "Where the astropy paper is 2013, A&A, 558, 33 http://adsabs.harvard.edu//abs/2013A%26A...558A..33A"
   ]
  },
  {
   "cell_type": "markdown",
   "metadata": {},
   "source": [
    "## XX References\n",
    "\n",
    "This notebook is mostly based on the astropy tutorials available here: http://www.astropy.org/astropy-tutorials/\n",
    "\n",
    "- Your reference for using astropy should be the online documentation http://docs.astropy.org/en/latest\n",
    "\n",
    "- Documentation regarding the wcs module: http://docs.astropy.org/en/stable/visualization/wcsaxes/\n",
    "\n",
    "- Documentation regarding the use of coordinates: http://docs.astropy.org/en/stable/coordinates/index.html\n",
    "\n",
    "- The doc of astropy.io.fits also provides relevant information: http://docs.astropy.org/en/stable/io/fits/#f1\n",
    "\n",
    "- Calabreta and Greisen 2002, A&A 395, 1077, Representations of celestial coordinates in FITS http://adsabs.harvard.edu/abs/2002A%26A...395.1077C\n",
    "\n",
    "- Regarding `Table` objects and dealing with various i/o within astropy, you should consult those chapters of the doc: http://docs.astropy.org/en/stable/io/unified.html#table-io  and http://docs.astropy.org/en/stable/table/io.html \n",
    "\n",
    "- For an in-depth discussion of `Quantity` objects, see the [astropy documentation section](http://docs.astropy.org/en/stable/units/quantity.html). See also http://docs.astropy.org/en/stable/units/ for various informations of interest regarding the use of units in general !\n",
    "\n",
    "- How bad is your color map ? (aka how not to be fooled by a poor choice of color map): https://jakevdp.github.io/blog/2014/10/16/how-bad-is-your-colormap/\n",
    "\n",
    "- Github link to astropy tutorial notebooks: https://github.com/astropy/astropy-tutorials/tree/master/tutorials/"
   ]
  },
  {
   "cell_type": "markdown",
   "metadata": {},
   "source": []
  }
 ],
 "metadata": {
  "kernelspec": {
   "display_name": "Python [default]",
   "language": "python",
   "name": "python2"
  },
  "language_info": {
   "codemirror_mode": {
    "name": "ipython",
    "version": 2
   },
   "file_extension": ".py",
   "mimetype": "text/x-python",
   "name": "python",
   "nbconvert_exporter": "python",
   "pygments_lexer": "ipython2",
   "version": "2.7.14"
  }
 },
 "nbformat": 4,
 "nbformat_minor": 2
}
