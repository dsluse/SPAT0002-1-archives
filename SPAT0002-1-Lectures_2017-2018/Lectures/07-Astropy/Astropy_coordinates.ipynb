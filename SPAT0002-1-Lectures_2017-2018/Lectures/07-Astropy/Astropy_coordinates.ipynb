{
 "cells": [
  {
   "cell_type": "markdown",
   "metadata": {},
   "source": [
    "# Introduction to Astropy: IV: Image coordinates"
   ]
  },
  {
   "cell_type": "markdown",
   "metadata": {},
   "source": [
    "## Table of Content\n",
    "\n",
    "\n",
    "IV. [Image coordinates](#Image-coordinates)\n",
    "- IV.1 [Overlaying-image-coordinates](#IV.1-Overlaying-image-coordinates)\n",
    "- IV.2 [Basic operations with coordinates](#IV.2-Basic-operations-with-coordinates)\n",
    "- IV.3 [Coordinates and images](#IV.3-Coordinates-and-images)\n",
    "\n",
    "XX. [References](#XX-References)\n"
   ]
  },
  {
   "cell_type": "code",
   "execution_count": null,
   "metadata": {
    "collapsed": true
   },
   "outputs": [],
   "source": [
    "# As usual, we start with some imports\n",
    "%matplotlib inline: \n",
    "import numpy as np\n",
    "import matplotlib.pyplot as plt"
   ]
  },
  {
   "cell_type": "markdown",
   "metadata": {},
   "source": [
    "## IV. Image coordinates\n",
    "\n",
    "### IV.1 Overlaying image coordinates\n",
    "\n",
    "To overlay coordinates on an image, we need to import the `WCS` module of `astropy.wcs`."
   ]
  },
  {
   "cell_type": "code",
   "execution_count": null,
   "metadata": {
    "collapsed": true
   },
   "outputs": [],
   "source": [
    "from astropy.wcs import WCS"
   ]
  },
  {
   "cell_type": "code",
   "execution_count": null,
   "metadata": {
    "collapsed": true
   },
   "outputs": [],
   "source": [
    "image_file = 'HorseHead.fits'\n",
    "data, header = fits.getdata(image_file, header=True)"
   ]
  },
  {
   "cell_type": "markdown",
   "metadata": {},
   "source": [
    "We can check in the header that information regarding coordinates exist in there. We have seen below that the list of keywords can sometimes be very long and that it can be tedious to find the keyword of interest. Fortunately, we can filter a bit using `*` to replace characters. Things related to \"object\" will start with an `O` ... so let's filter this way: "
   ]
  },
  {
   "cell_type": "code",
   "execution_count": null,
   "metadata": {
    "collapsed": true
   },
   "outputs": [],
   "source": [
    "header['o*']"
   ]
  },
  {
   "cell_type": "markdown",
   "metadata": {},
   "source": [
    "Yeah ! Good guess, we see the object RA, DEC are there. But this is not enough, we need to know the complete coordinate transformation system.  \n",
    "Now, let's check that the coordinate system and transformation (pixels -> physical coordinates) is also defined in the header. \n",
    "\n",
    "This information is generally located in cards starting with \"C\": `CTYPE`, `CRPIX`, `CRVAL`, ... :"
   ]
  },
  {
   "cell_type": "code",
   "execution_count": null,
   "metadata": {
    "collapsed": true
   },
   "outputs": [],
   "source": [
    "header['c*']"
   ]
  },
  {
   "cell_type": "code",
   "execution_count": null,
   "metadata": {
    "collapsed": true
   },
   "outputs": [],
   "source": [
    "w = WCS(header)\n",
    "ax = plt.subplot(projection=w)   # This initialises your axes transforming it to WCS \n",
    "ax.imshow(data, origin='lower')\n",
    "ax.grid(color='white', ls='solid')\n",
    "ax.set_xlabel('Right Ascension (J2000)')\n",
    "ax.set_ylabel('Declination (J2000)')"
   ]
  },
  {
   "cell_type": "code",
   "execution_count": null,
   "metadata": {
    "collapsed": true
   },
   "outputs": [],
   "source": [
    "w.get_axis_types"
   ]
  },
  {
   "cell_type": "markdown",
   "metadata": {},
   "source": [
    "You can overlay a different system of axis coordinates easily"
   ]
  },
  {
   "cell_type": "code",
   "execution_count": null,
   "metadata": {
    "collapsed": true
   },
   "outputs": [],
   "source": [
    "w = WCS(header)\n",
    "ax = plt.subplot(projection=w)   # This initialises your axes transforming it to WCS \n",
    "ax.imshow(data, origin='lower')\n",
    "ax.grid(color='white', ls='solid')\n",
    "ax.set_xlabel('Right Ascension (J2000)')\n",
    "ax.set_ylabel('Declination (J2000)')\n",
    "overlay = ax.get_coords_overlay('galactic')\n",
    "overlay.grid(color='white', ls='dotted')\n",
    "overlay[0].set_axislabel('Galactic longitude')\n",
    "overlay[1].set_axislabel('Galactic latitude')"
   ]
  },
  {
   "cell_type": "markdown",
   "metadata": {},
   "source": [
    "You may want to refine a bit the labeling of the axis (let's drop here the galactic coordinates for clarity)"
   ]
  },
  {
   "cell_type": "code",
   "execution_count": null,
   "metadata": {
    "collapsed": true
   },
   "outputs": [],
   "source": [
    "w = WCS(header)\n",
    "ax = plt.subplot(projection=w)\n",
    "ax.imshow(data, origin='lower')\n",
    "ax.grid(color='white', ls='solid')\n",
    "ax.set_xlabel('Right Ascension (J2000)')\n",
    "ax.set_ylabel('Declination (J2000)')\n",
    "\n",
    "cRA = ax.coords[0]\n",
    "cDEC = ax.coords[1]\n",
    "cRA.set_major_formatter('hh:mm:ss')\n",
    "cDEC.set_major_formatter('dd:mm:ss')\n",
    "plt.show()"
   ]
  },
  {
   "cell_type": "markdown",
   "metadata": {},
   "source": [
    "For more options regarding fine tuning of your grid overlay, you may consult: http://docs.astropy.org/en/stable/visualization/wcsaxes/ticks_labels_grid.html . \n",
    "\n",
    "Let's note that there is another powerful (astropy-affiliated) package (developped by Robitaille and Bressert) that allows coordinate overlays with a lot of functionalities, checking for you the coordinate system and equinox, and all that with a somehow more simple syntax (but new objects): `aplpy`.   "
   ]
  },
  {
   "cell_type": "code",
   "execution_count": null,
   "metadata": {
    "collapsed": true
   },
   "outputs": [],
   "source": [
    "# !pip install aplpy  # If aplpy is not installed\n",
    "# Have a look to https://aplpy.github.io/\n",
    "import aplpy\n",
    "fig = plt.figure()\n",
    "img = aplpy.FITSFigure(image_file, figure=fig)\n",
    "img.show_grayscale(stretch='arcsinh', invert=True)\n",
    "img.tick_labels.set_xformat('hh:mm:ss')\n",
    "img.tick_labels.set_yformat('dd:mm:ss')\n",
    "img.add_grid()\n",
    "img.set_grid_color('black')\n",
    "img.set_grid_alpha(0.5)"
   ]
  },
  {
   "cell_type": "markdown",
   "metadata": {},
   "source": [
    "### IV.2 Basic operations with coordinates\n",
    "\n",
    "To use those coordinates and calculate e.g. separations between objects, we need to import `SkyCoord` module from `astropy.coordinates`. In addition, as \"coordinates\" always have units attached, we need to import `astropy.units` that will allow us to work with \"unit-attached quantities\"."
   ]
  },
  {
   "cell_type": "code",
   "execution_count": null,
   "metadata": {
    "collapsed": true
   },
   "outputs": [],
   "source": [
    "from astropy.coordinates import SkyCoord\n",
    "from astropy import units as u"
   ]
  },
  {
   "cell_type": "code",
   "execution_count": null,
   "metadata": {
    "collapsed": true
   },
   "outputs": [],
   "source": [
    "# Coordinates can be instanciated in various ways\n",
    "# E.g. giving the coordinate in degree\n",
    "c = SkyCoord(10.625, 41.2, frame='icrs', unit='deg')\n",
    "c"
   ]
  },
  {
   "cell_type": "markdown",
   "metadata": {},
   "source": [
    "But you can also explicitly attach the units to your variable using: `u.degree`"
   ]
  },
  {
   "cell_type": "code",
   "execution_count": null,
   "metadata": {
    "collapsed": true
   },
   "outputs": [],
   "source": [
    "RA, DEC = 10.625*u.degree, 41.2*u.degree\n",
    "c = SkyCoord(ra=RA, dec=DEC, frame='icrs')\n",
    "print '(RA, DEC) = ', RA, DEC\n",
    "print 'c', c"
   ]
  },
  {
   "cell_type": "markdown",
   "metadata": {},
   "source": [
    "I always have hard time playing with units in degree ... I prefer `hh:mm:ss` / `dd:mm:ss`. No problem:"
   ]
  },
  {
   "cell_type": "code",
   "execution_count": null,
   "metadata": {
    "collapsed": true
   },
   "outputs": [],
   "source": [
    "c = SkyCoord('00h42.5m', '+41d12m')\n",
    "c"
   ]
  },
  {
   "cell_type": "markdown",
   "metadata": {},
   "source": [
    "You can specify explictly that your coordinates is effectively ICRS ([International Celestial Reference System](https://en.wikipedia.org/wiki/International_Celestial_Reference_System)) -i.e. this is almost Equatorial J2000- using the optional argument `frame`. If not, you can specify the system through the argument `frame` (e.g. galactic, FK5, ...). \n",
    "\n",
    "Note that if you give RA, DEC and specify `frame=galactic`, RA and DEC will be converted and galactic coordinates will be stored. You need to specify arguments `l=my_galactic_longitude, b=my_galactic_latitude` to get the coordinates read as a longitude/latitude. "
   ]
  },
  {
   "cell_type": "code",
   "execution_count": null,
   "metadata": {
    "collapsed": true
   },
   "outputs": [],
   "source": [
    "c = SkyCoord('00h42m30s', '+41d12m00s', frame='icrs')\n",
    "print c"
   ]
  },
  {
   "cell_type": "markdown",
   "metadata": {},
   "source": [
    "Another possibility is to do the following:"
   ]
  },
  {
   "cell_type": "code",
   "execution_count": null,
   "metadata": {
    "collapsed": true
   },
   "outputs": [],
   "source": [
    "c = SkyCoord('00 42 30 +41 12 00', unit=(u.hourangle, u.deg))\n",
    "c = SkyCoord('00:42.5 +41:12', unit=(u.hourangle, u.deg))\n",
    "c"
   ]
  },
  {
   "cell_type": "code",
   "execution_count": null,
   "metadata": {
    "collapsed": true
   },
   "outputs": [],
   "source": [
    "c = SkyCoord('5h40m50s', '-2d27m26s')\n",
    "c"
   ]
  },
  {
   "cell_type": "markdown",
   "metadata": {},
   "source": [
    "Once you have a coordinate object you can now access the components of that coordinate (e.g. RA, Dec) and get a specific string representation of the full coordinate."
   ]
  },
  {
   "cell_type": "code",
   "execution_count": null,
   "metadata": {
    "collapsed": true
   },
   "outputs": [],
   "source": [
    "c.ra "
   ]
  },
  {
   "cell_type": "code",
   "execution_count": null,
   "metadata": {
    "collapsed": true
   },
   "outputs": [],
   "source": [
    "c.ra.hour  "
   ]
  },
  {
   "cell_type": "code",
   "execution_count": null,
   "metadata": {
    "collapsed": true
   },
   "outputs": [],
   "source": [
    "c.ra.hms  "
   ]
  },
  {
   "cell_type": "code",
   "execution_count": null,
   "metadata": {
    "collapsed": true
   },
   "outputs": [],
   "source": [
    "c.dec.radian"
   ]
  },
  {
   "cell_type": "markdown",
   "metadata": {},
   "source": [
    "Coordinates can easily be converted to strings using the `to_string()` method:"
   ]
  },
  {
   "cell_type": "code",
   "execution_count": null,
   "metadata": {
    "collapsed": true
   },
   "outputs": [],
   "source": [
    "print 'c.to_string(\\'decimal\\') ->', c.to_string('decimal')\n",
    "print 'c.to_string(\\'dms\\')     ->', c.to_string('dms')\n",
    "print 'c.to_string(\\'hmsdms\\')  ->', c.to_string('hmsdms')"
   ]
  },
  {
   "cell_type": "markdown",
   "metadata": {},
   "source": [
    "And if you want to know your coordinate in another coordinate system:"
   ]
  },
  {
   "cell_type": "code",
   "execution_count": null,
   "metadata": {
    "collapsed": true
   },
   "outputs": [],
   "source": [
    "print c.galactic \n",
    "print 'A more flexible way is to use transform_to:'\n",
    "print c.transform_to('galactic')"
   ]
  },
  {
   "cell_type": "markdown",
   "metadata": {},
   "source": [
    "Transform to 'FK5' and change to get coordinates for an old J1950 equinox. "
   ]
  },
  {
   "cell_type": "code",
   "execution_count": null,
   "metadata": {
    "collapsed": true
   },
   "outputs": [],
   "source": [
    "from astropy.coordinates import FK5\n",
    "c_fk5 = c.transform_to('fk5')\n",
    "print 'coord J2000:', c_fk5\n",
    "c_J1950 = c_fk5.transform_to(FK5(equinox='J1950'))  # precess to a different equinox \n",
    "print 'coord, J1950', c_J1950"
   ]
  },
  {
   "cell_type": "markdown",
   "metadata": {},
   "source": [
    "### IV.3 Coordinates and images"
   ]
  },
  {
   "cell_type": "markdown",
   "metadata": {},
   "source": [
    "Let's now see how to overlay a symbol on an image at a specific position.    \n",
    "Let's work with the image of the Horse Head nebula again. Remember that we have done:\n",
    "``` python\n",
    "data, header = fits.getdata(image_file, header=True)\n",
    "w = WCS(header)\n",
    "```"
   ]
  },
  {
   "cell_type": "code",
   "execution_count": null,
   "metadata": {
    "collapsed": true
   },
   "outputs": [],
   "source": [
    "# Let's look to some pixel coordinates of interest\n",
    "pixcrd = np.array([[500, 300], [224, 438]], np.float_)\n",
    "\n",
    "# Convert pixel coordinates to world coordinates\n",
    "# The second argument is \"origin\" -- in this case we're declaring we\n",
    "# have 1-based (Fortran-like) coordinates.\n",
    "world = w.wcs_pix2world(pixcrd, 1)\n",
    "print(world)"
   ]
  },
  {
   "cell_type": "markdown",
   "metadata": {},
   "source": [
    "You can now convert those coordinates into `SkyCoord` instances:"
   ]
  },
  {
   "cell_type": "code",
   "execution_count": null,
   "metadata": {
    "collapsed": true
   },
   "outputs": [],
   "source": [
    "world_SC = [SkyCoord(wc[0], wc[1], unit='deg') for wc in world]\n",
    "world_SC"
   ]
  },
  {
   "cell_type": "markdown",
   "metadata": {},
   "source": [
    "You can also measure the separation between those two pixels ... "
   ]
  },
  {
   "cell_type": "code",
   "execution_count": null,
   "metadata": {
    "collapsed": true
   },
   "outputs": [],
   "source": [
    "world_SC[0].separation(world_SC[1])"
   ]
  },
  {
   "cell_type": "markdown",
   "metadata": {},
   "source": [
    "... and convert this into arcseconds. \n",
    "The separation is an angle and you can convert it to other angular units using the method `to(newunits)`:"
   ]
  },
  {
   "cell_type": "code",
   "execution_count": null,
   "metadata": {
    "collapsed": true
   },
   "outputs": [],
   "source": [
    "world_SC[0].separation(world_SC[1]).to(u.arcsec)"
   ]
  },
  {
   "cell_type": "markdown",
   "metadata": {},
   "source": [
    "Now you can also overlay those to pixels on your image (but you simply have to give their pixel coordinates ... nothing fancy in there !). Conversely, you may want to see to which pixel corresponds a specific coordinate. You therefore need to use a `wcs.WCS` method to convert a coordinate into pixel.  "
   ]
  },
  {
   "cell_type": "code",
   "execution_count": null,
   "metadata": {
    "collapsed": true
   },
   "outputs": [],
   "source": [
    "w.wcs_world2pix( world_SC[0].ra.value, world_SC[0].dec.value, 1 )  \n",
    "# Again 1 is here to fix the origin of the coordinate system "
   ]
  },
  {
   "cell_type": "markdown",
   "metadata": {},
   "source": [
    "Note that above, we have used taken the \"unitless\" value of the `RA` and `DEC`. For this purpose, we have used the `units` method `value` to extract only the numerical value of `RA`/`DEC` as given by `world_SC[0].ra`/`world_SC[0].dec`.   "
   ]
  },
  {
   "cell_type": "code",
   "execution_count": null,
   "metadata": {
    "collapsed": true
   },
   "outputs": [],
   "source": [
    "print world_SC[0].ra.value, world_SC[0].dec.value\n",
    "print 85.2598025546, -2.49940926988"
   ]
  },
  {
   "cell_type": "code",
   "execution_count": null,
   "metadata": {
    "collapsed": true
   },
   "outputs": [],
   "source": [
    "w = WCS(header)\n",
    "ax = plt.subplot(projection=w)\n",
    "ax.imshow(data, origin='lower')\n",
    "ax.grid(color='white', ls='solid')\n",
    "ax.set_xlabel('Right Ascension (J2000)')\n",
    "ax.set_ylabel('Declination (J2000)')\n",
    "\n",
    "mrk = ['x', 'd']\n",
    "[ax.plot(px[0], px[1], marker=mrk[i], color='red') for i, px in enumerate(pixcrd)]\n",
    "\n",
    "\n",
    "newpx = w.wcs_world2pix(85.2296, -2.4434, 1)\n",
    "print newpx\n",
    "ax.plot(newpx[0], newpx[1], marker='o', color='orange')"
   ]
  },
  {
   "cell_type": "markdown",
   "metadata": {},
   "source": [
    "## Credits:\n",
    "\n",
    "If you use Astropy directly—or as a dependency to another package—for your work, please remember to include the following acknowledgment at the end of papers:\n",
    "\n",
    "*This research made use of Astropy, a community-developed core Python package for Astronomy (Astropy Collaboration, 2013).*\n",
    "\n",
    "Where the astropy paper is 2013, A&A, 558, 33 http://adsabs.harvard.edu//abs/2013A%26A...558A..33A"
   ]
  },
  {
   "cell_type": "markdown",
   "metadata": {},
   "source": [
    "## XX References\n",
    "\n",
    "This notebook is mostly based on the astropy tutorials available here: http://www.astropy.org/astropy-tutorials/\n",
    "\n",
    "- Your reference for using astropy should be the online documentation http://docs.astropy.org/en/latest\n",
    "\n",
    "- Documentation regarding the wcs module: http://docs.astropy.org/en/stable/visualization/wcsaxes/\n",
    "\n",
    "- Documentation regarding the use of coordinates: http://docs.astropy.org/en/stable/coordinates/index.html\n",
    "\n",
    "- The doc of astropy.io.fits also provides relevant information: http://docs.astropy.org/en/stable/io/fits/#f1\n",
    "\n",
    "- Calabreta and Greisen 2002, A&A 395, 1077, Representations of celestial coordinates in FITS http://adsabs.harvard.edu/abs/2002A%26A...395.1077C\n",
    "\n",
    "- Regarding `Table` objects and dealing with various i/o within astropy, you should consult those chapters of the doc: http://docs.astropy.org/en/stable/io/unified.html#table-io  and http://docs.astropy.org/en/stable/table/io.html \n",
    "\n",
    "- For an in-depth discussion of `Quantity` objects, see the [astropy documentation section](http://docs.astropy.org/en/stable/units/quantity.html). See also http://docs.astropy.org/en/stable/units/ for various informations of interest regarding the use of units in general !\n",
    "\n",
    "- How bad is your color map ? (aka how not to be fooled by a poor choice of color map): https://jakevdp.github.io/blog/2014/10/16/how-bad-is-your-colormap/\n",
    "\n",
    "- Github link to astropy tutorial notebooks: https://github.com/astropy/astropy-tutorials/tree/master/tutorials/"
   ]
  },
  {
   "cell_type": "markdown",
   "metadata": {},
   "source": []
  }
 ],
 "metadata": {
  "kernelspec": {
   "display_name": "Python [default]",
   "language": "python",
   "name": "python2"
  },
  "language_info": {
   "codemirror_mode": {
    "name": "ipython",
    "version": 2
   },
   "file_extension": ".py",
   "mimetype": "text/x-python",
   "name": "python",
   "nbconvert_exporter": "python",
   "pygments_lexer": "ipython2",
   "version": "2.7.14"
  }
 },
 "nbformat": 4,
 "nbformat_minor": 2
}
