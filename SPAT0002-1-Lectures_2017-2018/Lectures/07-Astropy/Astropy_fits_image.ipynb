{
 "cells": [
  {
   "cell_type": "markdown",
   "metadata": {},
   "source": [
    "# Introduction to Astropy: I. Viewing and manipulating FITS images"
   ]
  },
  {
   "cell_type": "markdown",
   "metadata": {},
   "source": [
    "## Table of Content\n",
    "\n",
    "I. [Viewing and manipulating FITS images](#I.-Viewing-and-manipulating-FITS-images)     \n",
    "- I.1 Opening [FITS files, loading the image data, exploring the header](#I.1-Opening-FITS-files,-loading-the-image-data,-exploring-the-header)\n",
    "- I.2 [Viewing the image and getting basic statistics](#I.2-Viewing-the-image-data-and-getting-basic-statistics)\n",
    "- I.3 [Displaying the image with log scale](#I.3-Displaying-the-image-with-a-logarithmic-scale)\n",
    "- I.4 [Basic image math: image stacking](#I.4-Basic-image-math:-image-stacking)\n",
    "- I.5 [Wrinting image data to a fits file](#I.5-Writing-image-data-to-a-FITS-file)\n",
    "\n",
    "XX. [References](#XX-References)\n"
   ]
  },
  {
   "cell_type": "code",
   "execution_count": null,
   "metadata": {
    "collapsed": true
   },
   "outputs": [],
   "source": [
    "# As usual, we start with some imports\n",
    "%matplotlib inline: \n",
    "import numpy as np\n",
    "import matplotlib.pyplot as plt"
   ]
  },
  {
   "cell_type": "markdown",
   "metadata": {},
   "source": [
    "## I. Viewing and manipulating FITS images"
   ]
  },
  {
   "cell_type": "markdown",
   "metadata": {},
   "source": [
    "Originally, reading and manupulating fits file was included in the package `pyfits` developped by stsci. You may still find that this is the way to do when skimming the internet. This is surely not a bad package to use (most of the early astronomical python development come from stsci ) ... but `astropy` includes that facility as well within a larger growing  astronomical working environment. Hence, we will look here how to do within `astropy.io.fits`. The commands with `pyfits` are essentially the same. \n",
    "\n",
    "``astropy.io.fits`` provides a lot of flexibility for reading FITS  files and headers, but most of the time the convenience functions are the easiest way to access the data. "
   ]
  },
  {
   "cell_type": "code",
   "execution_count": null,
   "metadata": {
    "collapsed": true
   },
   "outputs": [],
   "source": [
    "# The first step is to import fits\n",
    "from astropy.io import fits"
   ]
  },
  {
   "cell_type": "markdown",
   "metadata": {},
   "source": [
    "### I.1 Opening FITS files, loading the image data, exploring the header\n",
    "\n",
    "\n",
    "``fits.getdata()`` reads just the  data from a FITS file, but with the `header=True` keyword argument will also read the header. "
   ]
  },
  {
   "cell_type": "code",
   "execution_count": null,
   "metadata": {
    "collapsed": true
   },
   "outputs": [],
   "source": [
    "image_file = 'HorseHead.fits'\n",
    "get_data, get_header = fits.getdata(image_file, header=True)"
   ]
  },
  {
   "cell_type": "markdown",
   "metadata": {},
   "source": [
    "You can also add an 'ext' parameter which specifies the extension of the fits file you are interested in: \n",
    "i.e. This can be the extension number:\n",
    "```\n",
    "        getdata('in.fits', 0)      # the primary header\n",
    "        getdata('in.fits', 2)      # the second extension\n",
    "        getdata('in.fits', ext=2)  # the second extension\n",
    "```\n",
    "But the can also be the ``EXTNAME`` value (if unique) (e.g. for HST data):\n",
    "```\n",
    "        getdata('in.fits', 'sci')\n",
    "        getdata('in.fits', extname='sci')  # equivalent\n",
    "```"
   ]
  },
  {
   "cell_type": "markdown",
   "metadata": {},
   "source": [
    "For those unfamiliar with FITS headers, they consist of a list of 80 byte `cards`, where a card contains a keyword, a value, and a comment. The keyword and comment must both be strings, whereas the value can be a string or an integer, floating point number, complex number, or True/False. Keywords are usually unique within a header, except in a few special cases."
   ]
  },
  {
   "cell_type": "markdown",
   "metadata": {},
   "source": [
    "We can also open the fits and see what it contains. The function `fits.open()` is a higher level function that allows one to perform more advanced operations on a fits file. \n",
    "You'll see that the real structure can be a bit more complicated than just a header and a data set in binary format. "
   ]
  },
  {
   "cell_type": "code",
   "execution_count": null,
   "metadata": {
    "collapsed": true
   },
   "outputs": [],
   "source": [
    "hdu_list = fits.open(image_file)\n",
    "hdu_list.info()"
   ]
  },
  {
   "cell_type": "markdown",
   "metadata": {},
   "source": [
    "The fits is made of \"HDU\" or \"Header Data Units\". The function `open()` provides a list of HDU objects.  An HDU (Header Data Unit) is the highest level component of the FITS file structure, consisting of a header and (typically) a data array or table. After the above open call, `hdulist[0]` is the primary HDU, `hdulist[1]` is the first extension HDU, etc (if there are any extensions), and so on.\n",
    "\n",
    "**NOTE:** The open() function will seamlessly open FITS files that have been compressed with gzip, bzip2 or pkzip."
   ]
  },
  {
   "cell_type": "markdown",
   "metadata": {},
   "source": [
    "Generally the image information is located in the `PRIMARY` block. The blocks are numbered and can be accessed by indexing `hdu_list`. The scientific data are *not always* in the primary block. Similarly, all the keywords are not stored in the primary HDU. So, remember that if you do not find a keyword of interest in the header (especially while doing `getdata()`), this could simply be because it is not in the pimary header. "
   ]
  },
  {
   "cell_type": "markdown",
   "metadata": {},
   "source": [
    "Each element of an HDUList is an HDU object with `.header` and `.data` attributes, which can be used to access the header and data portions of the HDU."
   ]
  },
  {
   "cell_type": "code",
   "execution_count": null,
   "metadata": {
    "collapsed": true
   },
   "outputs": [],
   "source": [
    "image_data = hdu_list[0].data"
   ]
  },
  {
   "cell_type": "code",
   "execution_count": null,
   "metadata": {
    "collapsed": true
   },
   "outputs": [],
   "source": [
    "header_data = hdu_list[0].header"
   ]
  },
  {
   "cell_type": "markdown",
   "metadata": {},
   "source": [
    "Your data are now stored as a 2-D numpy array.  Want to know the dimensions of the image?  Just look at the `shape` of the array."
   ]
  },
  {
   "cell_type": "code",
   "execution_count": null,
   "metadata": {
    "collapsed": true
   },
   "outputs": [],
   "source": [
    "print(type(image_data))\n",
    "print(image_data.shape)"
   ]
  },
  {
   "cell_type": "markdown",
   "metadata": {},
   "source": [
    "While your header is saved in a Header object (that has basically the same structure as a dictionary)"
   ]
  },
  {
   "cell_type": "code",
   "execution_count": null,
   "metadata": {
    "collapsed": true
   },
   "outputs": [],
   "source": [
    "print type(header_data)"
   ]
  },
  {
   "cell_type": "markdown",
   "metadata": {},
   "source": [
    "**Note**: You can also access the extension by its extension name (specified in the EXTNAME keyword) instead of its ID in the list, i.e. `hdu_list['Primary'].data`\n",
    "If there is more than one extension with the same `EXTNAME`, the `EXTVER` value needs to be specified along with the `EXTNAME` as a tuple; e.g.: `scidata = hdulist['sci',2].data`"
   ]
  },
  {
   "cell_type": "markdown",
   "metadata": {},
   "source": [
    "At this point, we can just close the FITS file.  We have stored everything we wanted to a variable."
   ]
  },
  {
   "cell_type": "code",
   "execution_count": null,
   "metadata": {
    "collapsed": true
   },
   "outputs": [],
   "source": [
    "hdu_list.close()"
   ]
  },
  {
   "cell_type": "markdown",
   "metadata": {},
   "source": [
    "When you close(), the header is still available ... but not always the data. \n",
    "\n"
   ]
  },
  {
   "cell_type": "markdown",
   "metadata": {},
   "source": [
    "**Note:** \n",
    "\n",
    "If you don't need to examine the FITS header, you can call `fits.getdata` to bypass the previous steps."
   ]
  },
  {
   "cell_type": "markdown",
   "metadata": {},
   "source": [
    "### I.2 Viewing the image data and getting basic statistics"
   ]
  },
  {
   "cell_type": "code",
   "execution_count": null,
   "metadata": {
    "collapsed": true
   },
   "outputs": [],
   "source": [
    "plt.imshow(image_data, cmap='hot')\n",
    "plt.colorbar()\n",
    "\n",
    "# To see more color maps\n",
    "# http://wiki.scipy.org/Cookbook/Matplotlib/Show_colormaps\n",
    "# See also https://jakevdp.github.io/blog/2014/10/16/how-bad-is-your-colormap/"
   ]
  },
  {
   "cell_type": "markdown",
   "metadata": {},
   "source": [
    "This is nice, but we have to be careful as the x-y scale appearing here is a bit misleading. Indeed, remember that an array is indexed `[row, columns]`, hence the first index corresponds to `y` and the second to `x`. Let's slice the above image:"
   ]
  },
  {
   "cell_type": "code",
   "execution_count": null,
   "metadata": {
    "collapsed": true
   },
   "outputs": [],
   "source": [
    "f, ax = plt.subplots(ncols=2, figsize=(10,5))\n",
    "ax[0].imshow(image_data[:, 0:300], cmap='hot')\n",
    "ax[1].imshow(image_data[300:600, :], cmap='hot')"
   ]
  },
  {
   "cell_type": "markdown",
   "metadata": {},
   "source": [
    "The bright star on bottom of the left panel is apparently located at `(170, 738)`, but to get its value you have to look at `image_data[738, 170]`. To avoid doing this mantal change, one sometimes transpose the array before working with it. "
   ]
  },
  {
   "cell_type": "code",
   "execution_count": null,
   "metadata": {
    "collapsed": true
   },
   "outputs": [],
   "source": [
    "plt.imshow(image_data, cmap='gray')\n",
    "plt.plot(170, 738, 'd', color='green')\n",
    "plt.plot(738, 170, 'x', color='red')\n",
    "print 'value at at the star position (diamond)', image_data[738, 170]\n",
    "print 'value at at the flipped position (cross)', image_data[170, 738]"
   ]
  },
  {
   "cell_type": "markdown",
   "metadata": {},
   "source": [
    "In summary, to access the values in the array, you have to swap between `x` and `y` positions compared to the x,y you see with `plt.imshow()`, or w.r.t. the position you would measure with another viewer (e.g. `ds9`, `qfitsview`, `aladin`). Note also that the pixel positions given by these viewers start at (1,1) (so you have to subtract 1). WIth those viewers, your image will also appear upside-down compared to what you see with imshow() (unless you work with world coordinates). "
   ]
  },
  {
   "cell_type": "markdown",
   "metadata": {},
   "source": [
    "Now let's come back to manipulating our image. \n",
    "You can e.g. get some basic statistics about your image "
   ]
  },
  {
   "cell_type": "code",
   "execution_count": null,
   "metadata": {
    "collapsed": true
   },
   "outputs": [],
   "source": [
    "print 'Min:', np.min(image_data) \n",
    "print 'Max:', np.max(image_data) \n",
    "print 'Mean:', np.mean(image_data) \n",
    "print 'Stdev:', np.std(image_data) "
   ]
  },
  {
   "cell_type": "markdown",
   "metadata": {},
   "source": [
    "You can also plot hisograms of some regions of the image. \n",
    "To make a histogram with `matplotlib.pyplot.hist()`, you need to cast the data from a 2-D to array to something one dimensional.    \n",
    "\n",
    "For that purpose, you can use e.g. the iterable python object `img_data.flat`."
   ]
  },
  {
   "cell_type": "code",
   "execution_count": null,
   "metadata": {
    "collapsed": true
   },
   "outputs": [],
   "source": [
    "print(type(image_data.flat))\n",
    "NBINS = 1000\n",
    "histogram = plt.hist(image_data.flat, NBINS)"
   ]
  },
  {
   "cell_type": "markdown",
   "metadata": {},
   "source": [
    "### I.3 Displaying the image with a logarithmic scale\n",
    "\n",
    "Want to use a logarithmic color scale? To do so we need to load the `LogNorm` object from `matplotlib`."
   ]
  },
  {
   "cell_type": "code",
   "execution_count": null,
   "metadata": {
    "collapsed": true
   },
   "outputs": [],
   "source": [
    "from matplotlib.colors import LogNorm\n",
    "plt.imshow(image_data, cmap='gray', norm=LogNorm())\n",
    "\n",
    "# I chose the tick marks based on the histogram above\n",
    "cbar = plt.colorbar(ticks=[5.e3,1.e4,2.e4])\n",
    "cbar.ax.set_yticklabels(['5,000','10,000','20,000'])"
   ]
  },
  {
   "cell_type": "markdown",
   "metadata": {},
   "source": [
    "### I.4 Basic image math: image stacking\n",
    "\n",
    "You can perform math with the image data like any other numpy array.  In this particular example, we will stack several images of M13 taken with a ~10'' telescope.\n",
    "\n",
    "Here, we'll open a series of FITS files and store the data in a list, which will be named `image_concat`.\n"
   ]
  },
  {
   "cell_type": "code",
   "execution_count": null,
   "metadata": {
    "collapsed": true
   },
   "outputs": [],
   "source": [
    "image_list = ['M13_blue_000'+n+'.fits' for n in ['1','2','3','4','5'] ]\n",
    "# The short way  (remember that it is better to use list comprehension)\n",
    "image_concat = [ fits.getdata(image) for image in image_list]\n",
    "\n",
    "# The long way\n",
    "#image_concat = []\n",
    "#for image in image_list:\n",
    "#    image_concat.append(fits.getdata(image))"
   ]
  },
  {
   "cell_type": "markdown",
   "metadata": {},
   "source": [
    "Now I'll stack the images by summing my concatenated list and then visualize the histogram to decide on the best stretch for vizualisation."
   ]
  },
  {
   "cell_type": "code",
   "execution_count": null,
   "metadata": {
    "collapsed": true
   },
   "outputs": [],
   "source": [
    "final_image = np.sum(image_concat, axis=0)\n",
    "image_hist = plt.hist(final_image.flat, 1000)"
   ]
  },
  {
   "cell_type": "code",
   "execution_count": null,
   "metadata": {
    "collapsed": true
   },
   "outputs": [],
   "source": [
    "plt.imshow(final_image, cmap='gray', vmin=2.e3, vmax=3.e3)\n",
    "plt.colorbar()"
   ]
  },
  {
   "cell_type": "markdown",
   "metadata": {},
   "source": [
    "### I.5 Writing image data to a FITS file\n",
    "\n",
    "This is easy to do with the `writeto()` method.\n",
    "You will receive an error if the file you are trying to write already exists. To avoid this/allow for overwritting, you should set the option `clobber=True`."
   ]
  },
  {
   "cell_type": "code",
   "execution_count": null,
   "metadata": {
    "collapsed": true
   },
   "outputs": [],
   "source": [
    "outfile = 'stacked_M13_blue.fits'\n",
    "\n",
    "hdu = fits.PrimaryHDU(final_image)\n",
    "hdu.writeto(outfile, clobber=True)"
   ]
  },
  {
   "cell_type": "markdown",
   "metadata": {},
   "source": [
    "#### Exercise:\n",
    "\n",
    "- Select several regions of the image which are apparently sky regions. \n",
    "- For simplicity, let's assume that the background is constant over the whole image and subtract the background from the image. \n",
    "- Plot the histogram of pixel values for the background subtracted image and display this background subtracted image with adequate cuts.\n",
    "- Optionally, plot a slice of the frame that crosses the highest density peak of stars in M13."
   ]
  },
  {
   "cell_type": "markdown",
   "metadata": {},
   "source": [
    "## Credits:\n",
    "\n",
    "If you use Astropy directly—or as a dependency to another package—for your work, please remember to include the following acknowledgment at the end of papers:\n",
    "\n",
    "*This research made use of Astropy, a community-developed core Python package for Astronomy (Astropy Collaboration, 2013).*\n",
    "\n",
    "Where the astropy paper is 2013, A&A, 558, 33 http://adsabs.harvard.edu//abs/2013A%26A...558A..33A"
   ]
  },
  {
   "cell_type": "markdown",
   "metadata": {},
   "source": [
    "## XX References\n",
    "\n",
    "This notebook is mostly based on the astropy tutorials available here: http://www.astropy.org/astropy-tutorials/\n",
    "\n",
    "- Your reference for using astropy should be the online documentation http://docs.astropy.org/en/latest\n",
    "\n",
    "- Documentation regarding the wcs module: http://docs.astropy.org/en/stable/visualization/wcsaxes/\n",
    "\n",
    "- Documentation regarding the use of coordinates: http://docs.astropy.org/en/stable/coordinates/index.html\n",
    "\n",
    "- The doc of astropy.io.fits also provides relevant information: http://docs.astropy.org/en/stable/io/fits/#f1\n",
    "\n",
    "- Calabreta and Greisen 2002, A&A 395, 1077, Representations of celestial coordinates in FITS http://adsabs.harvard.edu/abs/2002A%26A...395.1077C\n",
    "\n",
    "- Regarding `Table` objects and dealing with various i/o within astropy, you should consult those chapters of the doc: http://docs.astropy.org/en/stable/io/unified.html#table-io  and http://docs.astropy.org/en/stable/table/io.html \n",
    "\n",
    "- For an in-depth discussion of `Quantity` objects, see the [astropy documentation section](http://docs.astropy.org/en/stable/units/quantity.html). See also http://docs.astropy.org/en/stable/units/ for various informations of interest regarding the use of units in general !\n",
    "\n",
    "- How bad is your color map ? (aka how not to be fooled by a poor choice of color map): https://jakevdp.github.io/blog/2014/10/16/how-bad-is-your-colormap/\n",
    "\n",
    "- Github link to astropy tutorial notebooks: https://github.com/astropy/astropy-tutorials/tree/master/tutorials/"
   ]
  },
  {
   "cell_type": "markdown",
   "metadata": {},
   "source": []
  }
 ],
 "metadata": {
  "kernelspec": {
   "display_name": "Python [default]",
   "language": "python",
   "name": "python2"
  },
  "language_info": {
   "codemirror_mode": {
    "name": "ipython",
    "version": 2
   },
   "file_extension": ".py",
   "mimetype": "text/x-python",
   "name": "python",
   "nbconvert_exporter": "python",
   "pygments_lexer": "ipython2",
   "version": "2.7.14"
  }
 },
 "nbformat": 4,
 "nbformat_minor": 2
}
