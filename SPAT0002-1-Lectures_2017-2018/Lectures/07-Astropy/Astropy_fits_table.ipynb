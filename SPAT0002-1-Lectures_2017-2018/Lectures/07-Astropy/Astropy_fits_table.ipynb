{
 "cells": [
  {
   "cell_type": "markdown",
   "metadata": {},
   "source": [
    "# Introduction to Astropy: III. Fits Tables"
   ]
  },
  {
   "cell_type": "markdown",
   "metadata": {},
   "source": [
    "## Table of Content\n",
    "\n",
    "\n",
    "III. [Fits Tables](#III.-Fits-Tables)\n",
    "- III.1 [Example](#III.1-Example)\n",
    "- III.2 [What if my table is not fits format?](#III.2-What-if-my-table-is-not-fits-format-?)\n",
    "\n",
    "XX. [References](#XX-References)\n"
   ]
  },
  {
   "cell_type": "code",
   "execution_count": null,
   "metadata": {
    "collapsed": true
   },
   "outputs": [],
   "source": [
    "# As usual, we start with some imports\n",
    "%matplotlib inline: \n",
    "import numpy as np\n",
    "import matplotlib.pyplot as plt"
   ]
  },
  {
   "cell_type": "markdown",
   "metadata": {},
   "source": [
    "## III. Fits Tables\n",
    "\n",
    "### III.1 Example\n",
    "\n",
    "We can proceed as for images to see the content of the file.  \n",
    "\n",
    "Here, we will use a big fits table corresponding to a Chandra X-ray observation \"chandra_events.fits\". Since the file is big, we will open with `memmap=True` to prevent RAM storage issues."
   ]
  },
  {
   "cell_type": "code",
   "execution_count": null,
   "metadata": {
    "collapsed": true
   },
   "outputs": [],
   "source": [
    "event_filename = 'chandra_events.fits'\n",
    "hdu_list = fits.open(event_filename, memmap=True)\n",
    "hdu_list.info()"
   ]
  },
  {
   "cell_type": "markdown",
   "metadata": {},
   "source": [
    "We are interested in reading `EVENTS`, which contains information about each X-ray photon that hit the detector. \n",
    "\n",
    "We see in the `Dimensions` columns of the output of `info` that the different HDU (from the second one) contains a certain number of \"rows\" (`R`) and \"columns\" (`C`). You can print the column name simply using the attribute `columns` : "
   ]
  },
  {
   "cell_type": "code",
   "execution_count": null,
   "metadata": {
    "collapsed": true
   },
   "outputs": [],
   "source": [
    "hdu_list[1].columns"
   ]
  },
  {
   "cell_type": "markdown",
   "metadata": {},
   "source": [
    "To access the table data (content of the columns) you can follow the same procedure as for images, with the possibility to select a specific column:"
   ]
  },
  {
   "cell_type": "code",
   "execution_count": null,
   "metadata": {
    "collapsed": true
   },
   "outputs": [],
   "source": [
    "event_data = hdu_list[1].data"
   ]
  },
  {
   "cell_type": "code",
   "execution_count": null,
   "metadata": {
    "collapsed": true
   },
   "outputs": [],
   "source": [
    "type(event_data)"
   ]
  },
  {
   "cell_type": "markdown",
   "metadata": {},
   "source": [
    "I can now for example plot a histogram of the events energy:"
   ]
  },
  {
   "cell_type": "code",
   "execution_count": null,
   "metadata": {
    "collapsed": true
   },
   "outputs": [],
   "source": [
    "he = plt.hist(event_data['energy'], bins=500)\n",
    "plt.show()"
   ]
  },
  {
   "cell_type": "code",
   "execution_count": null,
   "metadata": {
    "collapsed": true
   },
   "outputs": [],
   "source": [
    "# We ca now close the fits file\n",
    "hdu_list.close()"
   ]
  },
  {
   "cell_type": "markdown",
   "metadata": {},
   "source": [
    "### III.2 What if my table is not fits format ? \n",
    "\n",
    "Astropy provides a unified interface for reading and writing data in different formats. For many common cases this will simplify the process of file I/O and reduce the need to master the separate details of all the I/O packages within Astropy. "
   ]
  },
  {
   "cell_type": "code",
   "execution_count": null,
   "metadata": {
    "collapsed": true
   },
   "outputs": [],
   "source": [
    "# A quick example\n",
    "from astropy.table import Table\n",
    "t = Table.read('SNdata.txt', format='ascii')\n"
   ]
  },
  {
   "cell_type": "code",
   "execution_count": null,
   "metadata": {
    "collapsed": true
   },
   "outputs": [],
   "source": [
    "t[0:10]"
   ]
  },
  {
   "cell_type": "code",
   "execution_count": null,
   "metadata": {
    "collapsed": true
   },
   "outputs": [],
   "source": [
    "t[2]['z']"
   ]
  },
  {
   "cell_type": "markdown",
   "metadata": {},
   "source": [
    "Note that this also works with reading/writing `tex` formats ! \n",
    "\n",
    "You should consult those two \"docs\" to know more about `Table` objects in astropy:   \n",
    "\n",
    "http://docs.astropy.org/en/stable/io/unified.html#table-io\n",
    "\n",
    "http://docs.astropy.org/en/stable/table/io.html"
   ]
  },
  {
   "cell_type": "markdown",
   "metadata": {},
   "source": [
    "## Credits:\n",
    "\n",
    "If you use Astropy directly—or as a dependency to another package—for your work, please remember to include the following acknowledgment at the end of papers:\n",
    "\n",
    "*This research made use of Astropy, a community-developed core Python package for Astronomy (Astropy Collaboration, 2013).*\n",
    "\n",
    "Where the astropy paper is 2013, A&A, 558, 33 http://adsabs.harvard.edu//abs/2013A%26A...558A..33A"
   ]
  },
  {
   "cell_type": "markdown",
   "metadata": {},
   "source": [
    "## XX References\n",
    "\n",
    "This notebook is mostly based on the astropy tutorials available here: http://www.astropy.org/astropy-tutorials/\n",
    "\n",
    "- Your reference for using astropy should be the online documentation http://docs.astropy.org/en/latest\n",
    "\n",
    "- Documentation regarding the wcs module: http://docs.astropy.org/en/stable/visualization/wcsaxes/\n",
    "\n",
    "- Documentation regarding the use of coordinates: http://docs.astropy.org/en/stable/coordinates/index.html\n",
    "\n",
    "- The doc of astropy.io.fits also provides relevant information: http://docs.astropy.org/en/stable/io/fits/#f1\n",
    "\n",
    "- Calabreta and Greisen 2002, A&A 395, 1077, Representations of celestial coordinates in FITS http://adsabs.harvard.edu/abs/2002A%26A...395.1077C\n",
    "\n",
    "- Regarding `Table` objects and dealing with various i/o within astropy, you should consult those chapters of the doc: http://docs.astropy.org/en/stable/io/unified.html#table-io  and http://docs.astropy.org/en/stable/table/io.html \n",
    "\n",
    "- For an in-depth discussion of `Quantity` objects, see the [astropy documentation section](http://docs.astropy.org/en/stable/units/quantity.html). See also http://docs.astropy.org/en/stable/units/ for various informations of interest regarding the use of units in general !\n",
    "\n",
    "- How bad is your color map ? (aka how not to be fooled by a poor choice of color map): https://jakevdp.github.io/blog/2014/10/16/how-bad-is-your-colormap/\n",
    "\n",
    "- Github link to astropy tutorial notebooks: https://github.com/astropy/astropy-tutorials/tree/master/tutorials/"
   ]
  },
  {
   "cell_type": "markdown",
   "metadata": {},
   "source": []
  }
 ],
 "metadata": {
  "kernelspec": {
   "display_name": "Python [default]",
   "language": "python",
   "name": "python2"
  },
  "language_info": {
   "codemirror_mode": {
    "name": "ipython",
    "version": 2
   },
   "file_extension": ".py",
   "mimetype": "text/x-python",
   "name": "python",
   "nbconvert_exporter": "python",
   "pygments_lexer": "ipython2",
   "version": "2.7.14"
  }
 },
 "nbformat": 4,
 "nbformat_minor": 2
}
