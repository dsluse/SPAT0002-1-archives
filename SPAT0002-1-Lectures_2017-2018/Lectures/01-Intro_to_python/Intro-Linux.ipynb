{
 "cells": [
  {
   "cell_type": "markdown",
   "metadata": {},
   "source": [
    "# Linux for newbees\n",
    "\n",
    "# TOC\n",
    "\n",
    "- 1 [What is Linux ?](#1-What-is-Linux-?)\n",
    "- 2 [Why learning shell ?](#2-Why-learning-Shell-and-deal-with-terminal-?)\n",
    "- 3 [Important shell commands](#3-Important-shell-commands)\n",
    "- 4 [A few words about various shells](#4-A-few-words-about-the-various-shells)\n",
    "- 5 [Summary](#5-Summary)\n",
    "- 6 [References](#6-References)"
   ]
  },
  {
   "cell_type": "markdown",
   "metadata": {},
   "source": [
    "## 1 What is Linux ?\n",
    "\n",
    "It is a free operating system created by Linus Torvald (a finish software engeneer), and currently developped by enthusiastic communities of programmers all over the world. It is widely used in the scientific community. Even if you see scientists using Apple-Macintosh machines, don't be fooled ... This is because OS-X is built on top of a linux kernel and basically offers (most of) the functionalities of linux, with on top fancy Apple software developments. It also means that in general, many applications/programs developed under Linux will work on a Mac. Linux is also the kernel for Android or Chrome OS.   "
   ]
  },
  {
   "cell_type": "markdown",
   "metadata": {},
   "source": [
    "## 2 Why learning Shell and deal with terminal ? \n",
    "\n",
    "You probably wonder why I start bothering you with Linux, and terminal when there is \"windows\", \"icons\" and \"menus\" (even in Linux).    \n",
    "Answer:   \n",
    "- This is in general quicker and more efficient to use terminal\n",
    "- You can access and run commands on terminal **on other machines** even when bandpass is low\n",
    "- You are always free to use Menus and icons when you know command lines but the reverse is not true. "
   ]
  },
  {
   "cell_type": "markdown",
   "metadata": {},
   "source": [
    "## 3 Important shell commands\n",
    "\n",
    "The \"shell\" is a program (set of commands) that allows the user to interact with the computer (i.e. transforms basic instructions into binary code directly understood by the computer's kernel). We won't go into the details of shell scripting but give a brief overview of the most important commands (that are the same for all shells and also under Unix environment -i.e Original Sun \"Operating system\")\n",
    "You can type shell commands directly in a terminal to see their effect, or in ipython/Jupyter by preceding the command with a \"!\".   \n",
    "Here is a list of the most usefull ones. They always come with a series of option that you can access by appending `--help` to the command. You can also have a detailed description of the command and its options with `man myshellcommand`. \n",
    "\n",
    "|Command | Usage | GUI equivalent  |\n",
    "|:-------|:------|:----------------|   \n",
    "| `echo \"message\"`| Write 'message' at the screen | *None* |     \n",
    "| `cmd > myfile` | Write the output of `cmd` into the file `myfile`| *None* | \n",
    "| `cmd >> myfile` | Write the output of `cmd` *after the last line* of file `myfile`| *None* |   \n",
    "| `cp file1 file2` | copy `file1` to location corresponding to `file2` (file1/2 can be paths !) | *Ctrl-C/Right click Copy* |    \n",
    "| `rsync file1 file2` | copy `file1` to location corresponding to `file2` only if the 2 files are different | *None* |\n",
    "| `find -name file` | search for `file` in the present directory and subdirs | *Ctrl-F/ /Right Click Find*\n",
    "| `ls`  | list the files and folders in the present directory | *Click on a folder* | \n",
    "| `ls -lh --color` | List file properties, use human readable file sizes, color the filenames | *Click on Folder - detailed listing* | \n",
    "| `chmod ugo=rwx file ` | Change permissions$^1$ of file: `ugo` for `user`, `group`, `other`, `rwx` for read, write, execute| *Open file properties * | \n",
    "| `mv file1 file2` | Move `file1` to `file2` (equivalent to renaming) | *Click on a file name* | \n",
    "| `rm file1`  | Remove (delete) file1 (** Be carefull, you won't recover removed files **) | *Put a file in trash+empty trash *\n",
    "| `mkdir mydir ` | creates a new subdirectory in the current one | *Menu Create a new folder* |\n",
    "| `pwd` | Gives the exhaustive path name in which you are | ? |   \n",
    "| `cd`  | Alias to go back to your home directory | *None* | \n",
    "| `cd newdir` | Go to the directory newdir | *Click on destination folder* | \n",
    "| `which cmd` | Locate a command/files executed when running cmd | *None* |\n",
    "| `head -10 file` | Displays the *first* 10 lines of `file` | *None* | \n",
    "| `tail -10 file` | Displays the *last* 10 lines of `file` | *None* | \n",
    "| `more file` | Display the content of `file`; type space to go to next page (see also `less`) | *None* |\n",
    "| `grep` | searches the named input FILEs for lines containing a match to the given PATTERN | *None* | \n",
    "| `who`    | Who is the user logged in | *None* | \n",
    "| `expr 1 + 3` | Calculates the result of 1 + 3 (careful, keep the space between 1, +, 3 | *None* | \n",
    "\n",
    "\n",
    "(1): You cannot always change the permission of a file, especially if you are not the owner of this file. "
   ]
  },
  {
   "cell_type": "code",
   "execution_count": null,
   "metadata": {},
   "outputs": [],
   "source": [
    "# Use this cell to experiment with shell commands\n",
    "!ls"
   ]
  },
  {
   "cell_type": "markdown",
   "metadata": {},
   "source": [
    "You can use `;` to run multiple commands on the same line, and the `|` (Pipe) if you want to run two commands one after the other, such that the second command takes as input the output of the first one.\n",
    "``` bash\n",
    "ls | grep 'Lecture'\n",
    "```\n",
    "If you follow your command with `&`, you run it in background, which means that you have access to the terminal again and can start running another command while the previous one is still running. ** WARNING **: Don't do this (use `&`) within a Jupyter notebook or you'll have to kill the cell you are running. \n",
    "\n",
    "The above command displays all the files that have in their name the text pattern \"Lecture\". This is equivalent to:\n",
    "``` bash\n",
    "ls > tmp.txt\n",
    "grep 'Lecture' tmp.txt\n",
    "rm tmp.txt\n",
    "```\n",
    "\n",
    "There is three WILDCARDS you can you to replace missing characters in files: `*`, `?` and `[...]`: \n",
    "- You can use `*` (STAR) to replace an ensemble of characters. For example if you search a file named \"myproject\", but do not remember the exact extension, you can do: \n",
    "```bash \n",
    "find -name myproject.*\n",
    "```\n",
    "The `*` (STAR) ignore the exact extension, but as it is placed after \".\", the hypothetic file \"myproject_v1\" will be ignored. \n",
    "\n",
    "- If there is only one single character that you want to replace/do not know (e.g. you do not remember if this is myproject.tex or Myproject.tex), you can use `?`, hence:\n",
    "```bash\n",
    "find -name ?roject.tex\n",
    "```\n",
    "\n",
    "- You can also use `[...]` (e.g. [mM]rojects ) to replace the missing character by any of the character located into brackets. \n",
    "\n",
    "Finally, avoid using special characters (#, %, ...), accents, ... in filenames, as well as very long filenames. "
   ]
  },
  {
   "cell_type": "code",
   "execution_count": null,
   "metadata": {},
   "outputs": [],
   "source": [
    "# Use this cell or a terminal window to experiment with WILDCARDs"
   ]
  },
  {
   "cell_type": "markdown",
   "metadata": {},
   "source": [
    "## 4 A few words about the various shells"
   ]
  },
  {
   "cell_type": "markdown",
   "metadata": {},
   "source": [
    "There are various shells operating under linux: \n",
    "- `sh` and `bash` = Bourne shell (two different bourne shells, sh is the oldest one)\n",
    "- `csh` = C-shell (scripting is inspired by the C- programming language)\n",
    "- `tcsh` = TENEX/TOPS C shell (a different version of cshell)\n",
    "- `ksh` = Korn shell\n",
    "\n",
    "Most of the time you can ignore which shell is running, but not when installing some programs, or defining some environment variable. You'll also need to know which shell is running if you want to do shell scripting (obviously), or if you want to customize your terminal, \"permanently\" define aliases on your machine, ...    \n",
    "\n",
    "To know (in a terminal window) which shell is running:   \n",
    "\n",
    "``` bash\n",
    "echo $0\n",
    "```\n",
    "\n",
    "To modify the default behaviour of your terminal, you'll have to look, in your home directory, for hidden file called `.bashrc` (`bash` shell), `.cshrc` (`csh` shell), `.tcshrc` (`.tcsh` shell).\n"
   ]
  },
  {
   "cell_type": "markdown",
   "metadata": {},
   "source": [
    "## 5 Summary\n",
    "\n",
    "You have got a survival kit in Linux environment. This inlcudes:\n",
    "- Commands to list (`ls`), copy (`cp`), find (`find`), move (`mv`), remove (`rm`) files and directories (`mkdir`, `rmdir`), and change permissions (`chmod`)\n",
    "- Commands to do basic explorations of files: `echo \"message\" >>`  ,  `tail`, `head`, `more`, `less`. \n",
    "- Know the existence of shells and of hidden files (`.bashrc`, `.cshrc`, ...) that define environment variables, aliases, ...\n"
   ]
  },
  {
   "cell_type": "markdown",
   "metadata": {},
   "source": [
    "## 6 References\n",
    "\n",
    "\n",
    "- Linux Shell Scripting tutorial (Vivek G. Gite): http://www.freeos.com/guides/lsst"
   ]
  },
  {
   "cell_type": "code",
   "execution_count": null,
   "metadata": {},
   "outputs": [],
   "source": []
  }
 ],
 "metadata": {
  "kernelspec": {
   "display_name": "Python 2",
   "language": "python",
   "name": "python2"
  },
  "language_info": {
   "codemirror_mode": {
    "name": "ipython",
    "version": 2
   },
   "file_extension": ".py",
   "mimetype": "text/x-python",
   "name": "python",
   "nbconvert_exporter": "python",
   "pygments_lexer": "ipython2",
   "version": "2.7.13"
  }
 },
 "nbformat": 4,
 "nbformat_minor": 2
}
