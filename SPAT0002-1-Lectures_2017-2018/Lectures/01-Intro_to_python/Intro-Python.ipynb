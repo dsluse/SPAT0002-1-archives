{
 "cells": [
  {
   "cell_type": "markdown",
   "metadata": {},
   "source": [
    "# Introduction to `python` programming language\n",
    "\n",
    "## TOC\n",
    "\n",
    "- [Introduction to Python](#III)\n",
    "    * [Motivation](#IIIa)\n",
    "    * [History](#IIIb)\n",
    "    * [What is an interpreted language ?](#IIIc)\n",
    "    * [First steps](#IIId)\n",
    "    * [Container objects](#IIIe)\n",
    "        - [Lists](#I.5.1-Lists:)\n",
    "        - [Sets](#1.5.2-Sets:)\n",
    "        - [Tuples](#1.5.3-Tuples)\n",
    "        - [Lists, sets and tuple methods](#1.5.4-Lists,-sets-and-tuple-methods:)\n",
    "        - [Dictionnaries](#1.5.5-Dictionaries)\n",
    "    * [Functions](#IIIf)\n",
    "    * [Control flow statements](#IIIg)\n",
    "        - `if` [statements](#1.7.1-if-statements)\n",
    "        - `for` [loops](#1.7.2-for-loops)\n",
    "        - `while` [loops](#1.7.3-while-loops)\n",
    "        - [List comprehensions](#1.7.4-List-Comprehensions)\n",
    "    * [Python Coding recommendations](#IIIh)\n",
    "    * [Summary](#1.9-Summary)\n",
    "- [About Jupyter](#IV)\n",
    "- [References and Additional material](#V)"
   ]
  },
  {
   "cell_type": "markdown",
   "metadata": {},
   "source": [
    "## I. Landing on Planet Python <a class=\"anchor\" id=\"III\"></a>\n",
    "\n",
    "### I.1 Why should we learn `python` ? <a class=\"anchor\" id=\"IIIa\"></a>\n",
    "\n",
    "Is it Yet Another Language ? No, this is, in my opinion, the most important programming language you should masterize before the end of your cursus. In the last (two) decade(s), `Python` became one of the most popular/used language in data science and in particular in astronomy. The reasons for this are rooted in several of the advantages of `Python`:\n",
    "- Readability\n",
    "- Flexibility\n",
    "- High-level language\n",
    "- Robust methods for binding with `C`, `C++` and `FORTRAN` libraries (speed, legacy)\n",
    "- Growing number of libraries (coordinated by a very active community) and modules dedicated to specific scientific problems\n",
    "- You can use basically one single scripting language for every task you may need to do in astronomy. \n",
    "- Data reduction for a growing number of space observatories are running in python. This is the case for ALMA ([CASA](https://casa.nrao.edu/) environment calls C/C++ programs within ipython), JWST (not yet launched but [data reduction tools](https://jwst.stsci.edu/science-planning/data-analysis-tools-and-software) are develloped in python), `HST`, `Chandra` (there is `CIAO` modules for python), ... and many others. All the data reduction developped within iraf are available through `pyraf`. The only noticable exception remains `ESO` data reduction tools ... but `python` still allows you to analyze the data. So most of the time, you can *reduce* and *analyse* your data within the same environment ! You may even be able, some times, to query them through `python`.\n",
    "\n",
    "If you are not yet convinced, I encourage you to have a look to this Nature paper (Nature 518, 7537) by J.M. Perkel http://www.nature.com/news/programming-pick-up-python-1.16833?WT.ec_id=NATURE-20150206  \n",
    "The following quote from this paper summarizes what I have just said before: \n",
    "> \" With the explosive growth of 'big data' in disciplines such as bioinformatics, neuroscience and astronomy, programming know-how is becoming ever more crucial. Researchers who can write code in Python can deftly manage their data sets, and work much more efficiently on a whole host of research-related tasks — from crunching numbers to cleaning up, analysing and visualizing data. Whereas some programming languages, such as MATLAB and R, focus on mathematical and statistical operations, Python is a general-purpose language, along the lines of C and C++ (the languages in which much commercial software and operating systems are written). As such, it is perhaps more complicated, Brown says, but also more capable: it is amenable to everything from automating small sets of instructions, to building websites, to fully fledged applications.\""
   ]
  },
  {
   "cell_type": "markdown",
   "metadata": {},
   "source": [
    "### I.2 A Brief history   <a class=\"anchor\" id=\"IIIb\"></a>\n",
    "\n",
    "The inventor of this language is the Dutch programer Guido Van Rossum. It was conceptualized in the late 1980s. Guido van Rossum worked at that time in a project called Amoeba, a distributed operating system. He programmed in a language called ABC but was not fully happy with that language. \n",
    "In an interview with Bill Venners (January 2003 ; http://www.python-course.eu/history_and_philosophy.php), Guido van Rossum said: \n",
    "> \"I remembered all my experience and some of my frustration with ABC. I decided to try to design a simple scripting language that possessed some of ABC's better properties, but without its problems. So I started typing. I created a simple virtual machine, a simple parser, and a simple runtime. I made my own version of the various ABC parts that I liked. I created a basic syntax, used indentation for statement grouping instead of curly braces or begin-end blocks, and developed a small number of powerful data types: a hash table ( or dictionary, as we call it), a list, strings, and numbers. \" \n",
    "\n",
    "... and as explained in another interview, this started as an holiday occupation. In 1996, Van Rossum said ( https://www.python.org/doc/essays/foreword/ ): \n",
    "> Over six years ago, in December 1989, I was looking for a \"hobby\" programming project that would keep me occupied during the week around Christmas. My office ... would be closed, but I had a home computer, and not much else on my hands. I decided to write an interpreter for the new scripting language I had been thinking about lately: a descendant of ABC that would appeal to Unix/C hackers. I chose Python as a working title for the project, being in a slightly irreverent mood (and a big fan of Monty Python's Flying Circus).\n",
    "\n",
    "(BTW, imagine the same quote simply between \" \" ... would it be so easy to read ! Identation is one of the things that makes of python a readable langue.) \n",
    "\n",
    "So, the naming `Python` has nothing to do with the snake, but refers to the BBC show [Monty Python's Flying Circus](https://www.youtube.com/watch?v=T70-HTlKRXo) "
   ]
  },
  {
   "cell_type": "markdown",
   "metadata": {},
   "source": [
    "### 1.3 What is an interpreted language ? <a class=\"anchor\" id=\"IIIc\"></a>\n",
    "\n",
    "Programming languages are generally categorized in two classes: *compiled* and *interpreted*. `python` may be seen as an *interpreted* language (although at some level it is *compiled*). One speaks of **compiled** language when a code is executed natively through the operating system after an operation, called *compilation* that converts the original code into a code natively understandable by the machine. *Instead*, when the code is evaluated line by line through another program (which is NOT the OS) which handles its execution (in principle this execution is done in a language natively understood by the machine, also called *low-level* language) via *interpretation*, one speaks of an ** interpreted** language. \n",
    "\n",
    "Why is this important ? Although a given language often exists in different flavours/implementations that are either interpreted or compiled, the difference has an impact on the language properties. \n",
    "\n",
    "#### Advantages of interpreted language:\n",
    "1. platform independence (you can easily transport a code from one machine to another\n",
    "2. dynamic typing / flexibility (you do not have to do \"compile/recompile/test/recompile\" all the time !; you can run individual commands without writing a full script.)\n",
    "3. ease of debugging (it is easier to get source code information in interpreted languages)\n",
    "4. small program size (since interpreted languages have flexibility to choose instruction code)\n",
    "5. automatic memory management    \n",
    "\n",
    "#### Disadvantages of interpreted language: \n",
    "1. Speed\n",
    "2. Speed\n",
    "3. Speed\n",
    "\n",
    "`Python` is effectively a (very) high-level language, which means that there is *a lot* of built-in data-types (and we will spend most of the remaining of this class to go though the most important ones: arrays, dictionnary, lists). This variety of data types is part of the reason why python became so popular as it can deal easily with many different kind of input/outputs. \n",
    "\n",
    "Examples of compiled/interpreted languages:    \n",
    "\n",
    "| Name | Category |\n",
    "|:-----|:---------|\n",
    "| C/C++| Compiled |\n",
    "| Fortran | Compiled |\n",
    "| Perl | Interpreted |\n",
    "| Python | Interpreted (but compiled to byte code) |\n",
    "| MATLAB  | Interpreted | \n"
   ]
  },
  {
   "cell_type": "markdown",
   "metadata": {},
   "source": [
    "### I.4 First steps  <a class=\"anchor\" id=\"IIId\"></a>\n",
    "\n",
    "*When do we start ?*  Now.    \n",
    "We have two ways to run python, either interactively, or from scripts. *Interactive* use is favoured when you want to do small exploratory analysis, test part of codes, visualise some results, while scripts will be used in general to run (and re-run) more complex programs.    \n",
    "\n",
    "To run Python code interactively, one can use the standard Python prompt, which can be launched by typing `python` in a terminal. Instead, one can use a feature enhanced prompt, `ipython`, where \"i\" stands for interactive (which also means that IPython is an *interpreter*). This is an add-on package that adds many features to the default Python shell, including the ability to edit and navigate the history of previous commands, as well as the ability to tab-complete variable and function names. You can also write several commands one after the other before executing them by typing `Ctrl Enter` between each command instead of `Enter`. For some versions of ipython, this is rather `Ctrl o`. `IPython` allows you also to use any shell command by preceding it with a `!` as we did at the beginning of this Notebook (If this does not work, try without the `!`). This is basically telling Ipython that this shell is activated in the *code* cells of this Jupyter Notebook.    \n",
    "     \n",
    "Once you have launched `ipython`, you can proceed as follows to type your first `python` commands: \n",
    "``` python\n",
    "x = 10\n",
    "x\n",
    "\n",
    "Out[1]: 10\n",
    "```\n",
    "     \n",
    "As you can see in that example, in python you can define variable \"*on the fly*\", there is in general no need to declare a variable and its type before using it. We'll come back to this later in the course. \n",
    "    \n",
    "**Note:** Depending of how/which version of python has been installed (syntax differs between python 2.7 -that we work with here- and python 3.6), you may run ipython with command `ipython2` or `ipython3` (or `ipython` the latter being linked to either `ipython2` or `ipython3`). "
   ]
  },
  {
   "cell_type": "code",
   "execution_count": null,
   "metadata": {},
   "outputs": [],
   "source": [
    "# Use this cell to experiment typing commands. You can also run a ipython shell in a separate terminal\n",
    "print \"Hello\""
   ]
  },
  {
   "cell_type": "code",
   "execution_count": null,
   "metadata": {},
   "outputs": [],
   "source": [
    "%history"
   ]
  },
  {
   "cell_type": "markdown",
   "metadata": {},
   "source": [
    "It is important to note that in `python`, variables are *CASE sensitive*, so `x` and `X` refer to two *different* objects.\n",
    "\n",
    "You can do operations, assign values to variables but also *print text*. For this, you can do\n",
    "``` python\n",
    "print \"Hello world\"\n",
    "```\n",
    "but you can also do \n",
    "``` python\n",
    "\"Hello world !\"\n",
    "```\n",
    "\n",
    "You can also print the result of an operation and some text, separating the objects to be printed with `,`:\n",
    "``` python\n",
    "print 'Result=', x/2. \n",
    "\n",
    "```\n",
    "\n",
    "You have also a possibility to format the output (we'll see this in more details later):\n",
    "\n",
    "``` python\n",
    "print 'Result= %.2f, %.i' %(x, x/2)    # .2f = float with 2 digits ; .i = integer\n",
    "\n",
    "```\n",
    "\n",
    "**Notes**: \n",
    "- If you use version 3 of python, you'll type `print(\"mytext\")` instead of `print \"mytext\"`\n",
    "- Operations work as expected except DIVISION of two integers that gives an integer (3/2 = 1). To get a float, you can convert number into float (float(x) or add a `.` after integers to define them as floats (`3` is an integer but `2` is a float). This behaviour is different with python 3 where division of 2 integers is a float.\n",
    "- Unless `r` or `R` is preceding a string, escape sequences *in strings* are interpreted according to rules similar to standard `C`. The most common escape sequences are `\"\\n\"` (adds a new line at the end of the string), `\"\\t\"` (adds a tab), `\"\\b\"` (Backspace). Note that typing in an interactive shell `Hello \\n`, or print r`Hello \\n` wont' have the same effect. When `r` or `R` is preceding the string, the backslash is left in the string. See https://docs.python.org/2.0/ref/strings.html for more details regarding string formatting. (We'll come back to strings and number formatting later). "
   ]
  },
  {
   "cell_type": "code",
   "execution_count": null,
   "metadata": {},
   "outputs": [],
   "source": [
    "x=4\n",
    "x*4 # Try it out"
   ]
  },
  {
   "cell_type": "markdown",
   "metadata": {},
   "source": [
    "When you use an `ipython` shell, you can access the command history by pressing up/down arrows. This feature doesn't work within jupyter.      \n",
    "\n",
    "While the interactive Python mode is very useful for exploring and trying out code, you will eventually want to write a script to record and reproduce what you did, or to do things that are too complex to type in interactively (defining functions, classes, etc.). To write a Python script, just use your favorite code editor to put the code in a file with a .py extension. For example, we can create a file called test.py containing:\n",
    "``` python\n",
    "x = 10\n",
    "print x\n",
    "```\n",
    "And then you can run it within a terminal by typing `python test.py`\n",
    "\n",
    "**Note:** It is also possible to make Python scripts executable. Simply add `#!/usr/bin/env python` on the first line of your test.py script and change the file permission to make it executable with `chmod +x test.py`. Now the script can be run without the preceeding python command; instead you can just type `./test.py` in the command line. Note that this will only work on Linux and Macs, not on Windows."
   ]
  },
  {
   "cell_type": "markdown",
   "metadata": {},
   "source": [
    "It can sometimes be useful to run a script to set things up, and to continue in interactive mode. This can be done using the `%run` IPython command to run the script, which then gets executed.     \n",
    "\n",
    "``` python\n",
    "%run test.py\n",
    "```\n",
    "This way, the IPython session then has access to the last state of the variables from the script."
   ]
  },
  {
   "cell_type": "code",
   "execution_count": null,
   "metadata": {},
   "outputs": [],
   "source": [
    "# Try creating a file using a text editor (e.g. run nano or gedit in a terminal, or search for a an editor in a menu) \n",
    "# and launch the editor from a terminal window or in a cell of a jupyter notebook (Do not forget the `!` in that case)\n",
    "%run test.py"
   ]
  },
  {
   "cell_type": "code",
   "execution_count": null,
   "metadata": {},
   "outputs": [],
   "source": [
    "x+5"
   ]
  },
  {
   "cell_type": "markdown",
   "metadata": {},
   "source": [
    "Later on, we will learn functional programming and how to call modules and execute user defined functions in an interactive prompt or within a standalone program. "
   ]
  },
  {
   "cell_type": "markdown",
   "metadata": {},
   "source": [
    "### I.5 Container Objects  <a class=\"anchor\" id=\"IIIe\"></a>\n",
    "\n",
    "Besides strings, and numeric variables (floats, integer), there is in python a variety of container types. These containers include **lists**, **tuples**, **sets** and **dictionaries**"
   ]
  },
  {
   "cell_type": "markdown",
   "metadata": {},
   "source": [
    "#### I.5.1 Lists: \n",
    "\n",
    "A list is an *ordered* sequence of objects that can be accessed by item indexing via square brackets `[ ]`. In python, indexing **is always zero-based**, i.e. the first index of a list (but this is also true for arrays -that we will study later-) is zero.\n",
    "\n",
    " **Example:**\n",
    "``` python\n",
    "L = [1,2,3,4]\n",
    "L[0] \n",
    "    Out: 1\n",
    "L[2]\n",
    "    Out: 3\n",
    "```\n",
    "\n",
    "An important characteristic of lists is that they can include objects of *various types*, including other lists. \n",
    "\n",
    "**Example: **\n",
    "``` python\n",
    "L2 = [1., L, 'hello world']\n",
    "L2[2]\n",
    "    Out: 'hello world'\n",
    "```\n",
    "\n",
    "To access several elements of a list/a sublist, this is called **index slicing**, you can use the semicolon `:`. The slicing can work in various ways:   \n",
    "**Example: **\n",
    "``` python\n",
    "L[0:2]   # First two elements of a list  ; note that item with index #2 is EXCLUDED\n",
    "L[:2]    # First two elements, 0 is implicit\n",
    "L[::2]   # every 2 elements (from the first one with index 0)\n",
    "L[-2:]   # Last two items \n",
    "L[i:]    # From the item i until the end (last entry is implicit). No error message if i > len(L) \n",
    "L[::-1]  # All items in reverse order\n",
    "    \n",
    "```\n",
    "List can be generated also using the function list()\n",
    "\n",
    "##### About SLICING: \n",
    "\n",
    "One way to remember how slices work is to think of the indices as pointing between characters, with the left edge of the first character numbered 0. Then the right edge of the last character of a string of n characters has index n, for example:\n",
    "``` python\n",
    " +---+---+---+---+---+---+\n",
    " | P | y | t | h | o | n |\n",
    " +---+---+---+---+---+---+\n",
    " 0   1   2   3   4   5   6\n",
    "-6  -5  -4  -3  -2  -1\n",
    "```\n",
    "The first row of numbers gives the position of the indices 0...6 (hereabove, in the string `'python'`); the second row gives the corresponding negative indices. The slice `[i:j]` from `i` to `j` consists of all characters between the edges labeled `i` and `j`, respectively.  \n",
    "\n",
    "By calling item \\# i, one gets the item at the right side of i. This is why calling item `n` of a list or string or (...) of size `n` will result an error message: there is no item on the right side of position `n` (n=6 in the example above).   \n",
    "\n",
    "For non-negative indices, the length of a slice is the difference of the indices, if both are within bounds. \n",
    "\n",
    "\n",
    "**Notes**: \n",
    "- A list is an *[iterable](https://docs.python.org/2/glossary.html#term-iterable)*, which means that one can iterate over the elements of a list. (`list.__iter__()`, `enumerate(list)`). This also means that there is special *methods* that allow you to get e.g. its length (`list.__len__()` or `len(list)`). \n",
    "- Contrary to a `string`, a `list` is mutable, which means that you can replace values of elements, or even clear elements of a list. For example `L[2:4] = []`, will clear elements \\#2 and \\#3 of list `L`.    \n",
    "- *Slicing* in `python` works for any *[sequence](https://docs.python.org/2/glossary.html#term-sequence)* type  object. This includes built-in iterables (i.e. `string`, `list`, `tuple`), but also non iterable objects such as `dict` whose length can also be accessed with method `len()`. "
   ]
  },
  {
   "cell_type": "code",
   "execution_count": null,
   "metadata": {},
   "outputs": [],
   "source": [
    "# use this cell to experiment with lists as described in the above examples, \n",
    "# and experiment with the various ways to slice through a list as described above\n",
    "L = ['P', 'y', 't', 'h', 'o', 'n']\n",
    "for ll in L.__iter__():\n",
    "    print ll"
   ]
  },
  {
   "cell_type": "markdown",
   "metadata": {},
   "source": [
    "#### 1.5.2 Sets:\n",
    "\n",
    "A **set** is a bit like a list BUT its elements are **unordered** and **unique** (no repetition).  \n",
    "A set is built using the function `set([])`\n",
    "\n",
    "**Example:**\n",
    "``` python \n",
    "S = set([1,1,2,4,3,5])\n",
    "\n",
    "S = {1,1,2,4,3,5}  # Another way to define a set object !\n",
    "```\n",
    "Use the cell below to see the output of `set` (`set` did not exist before python 2.6)\n"
   ]
  },
  {
   "cell_type": "code",
   "execution_count": null,
   "metadata": {},
   "outputs": [],
   "source": [
    "L = [1,2,3.4, 4]\n",
    "L[2]=3\n",
    "L"
   ]
  },
  {
   "cell_type": "code",
   "execution_count": null,
   "metadata": {},
   "outputs": [],
   "source": [
    "S = set([1,1,2,4,5,3])\n",
    "print S\n",
    "S[2]"
   ]
  },
  {
   "cell_type": "markdown",
   "metadata": {},
   "source": [
    "#### 1.5.3 Tuples\n",
    "\n",
    "Tuples are similar to lists but they are separated by parentheses `( )` instead of square brackets `[ ]`.   \n",
    "They support indexing and slicing like lists. However, Tuples (like strings) are **immutable**, which means that once they are created, the items cannot be changed. \n",
    "\n",
    "**Example:**\n",
    "``` python\n",
    "L = [1,2,3,4]  # this is a List\n",
    "T = (1,2,3,4)  # this is a Tuple\n",
    "```"
   ]
  },
  {
   "cell_type": "code",
   "execution_count": null,
   "metadata": {},
   "outputs": [],
   "source": [
    "# Create a list of length 5, and assign a value to item #2. Do the same with a tuple. What is the difference ? "
   ]
  },
  {
   "cell_type": "markdown",
   "metadata": {},
   "source": [
    "#### 1.5.4 Lists, sets and tuple methods:\n",
    "\n",
    "There is many operations that can be done on lists, sets and tuples and that you may want to do very soon.\n",
    "\n",
    "- Add and remove elements from a list:\n",
    "``` python\n",
    "L.append(5) # Append an object at the end of a list\n",
    "L.insert(3, 'q')  # insert a string \"q\" at location 3. \n",
    "L.pop()     # Removes last object (or object at a specified index) of a list\n",
    "L.extend([6,8])  # Extend list, 'in-place'\n",
    "```\n",
    "- Concatenate and repeat lists:\n",
    "``` python\n",
    "L + L     # Concatenation\n",
    "    Out: [1,2,3,4,1,2,3,4]\n",
    "2 * L     # Repetition\n",
    "    Out: [1, 2, 3, 4, 1, 2, 3, 4]\n",
    "```\n",
    "- Sort elements of a list:\n",
    "\n",
    "``` python\n",
    "L.sort()   # sort in-place\n",
    "\n",
    "```\n",
    "\n",
    "- Conversion of lists to other types:\n",
    "\t* Convert list to a tuple (Remember that tuple are immutable -> cannot be changed !):   \n",
    "        `tuple(mylist)` \n",
    "\t* Convert list to set: (set is a unordered collection of unique items => duplicates are LOST!)    \n",
    "        `set(mylist)`\n",
    "    * Convert list of strings to strings:    \n",
    "        `''.join(Ls)`  \n",
    "\n",
    "**Notes**: \n",
    "- For a more exhaustive overview of the methods applicable to lists, consult the [Data Structure section](https://docs.python.org/2/tutorial/datastructures.html#more-on-lists) of the Python tutorial.\n",
    "- Convert list of integers to strings:\n",
    "    ``` python\n",
    "        listOfNumbers = [1, 2, 3]\n",
    "        strOfNumbers = ''.join(str(n) for n in listOfNumbers)\n",
    "\t```"
   ]
  },
  {
   "cell_type": "code",
   "execution_count": null,
   "metadata": {},
   "outputs": [],
   "source": [
    "# Create a list of 6 integers, remove the 3rd one. Add a list of 2 strings. \n",
    "# Then use L.append(9) and L.extend([17, 24]) and compare the output at each step\n"
   ]
  },
  {
   "cell_type": "markdown",
   "metadata": {},
   "source": [
    "#### 1.5.5 Dictionaries\n",
    "\n",
    "Another common built-in `Python` object is the **dictionary**. The dictionnary stores unordered sequence(s) of key-value pairs. It is defined using curly brackets `{ }`, and like lists allows mixing of types. It is a bit like a `list` for which each element has a label such that you can access this element by its label instead of accessing it by its position.    \n",
    "**Example:**\n",
    "``` python\n",
    "D = {'one': 1, 'two': 2, 'three': 3, 'four': L}  # L is a list as defined above\n",
    "D['two']\n",
    "    Out:  2\n",
    "D = dict(one=1, two=2, three=3, four=L)  # Another way to create a dictionary \n",
    "```\n",
    "\n",
    "Dictionaries are often found as input/outputs of built-in or contributed functions. They work in fact behind the scene when you define new variables that you use within an `ipython` or `juPyter` session. You may have a look behind the curtain by calling `globals()` in the code-cell below. \n",
    "\n",
    "Also a dictionnary is NOT an iterable, you can get its lenght using the method `len(). "
   ]
  },
  {
   "cell_type": "code",
   "execution_count": null,
   "metadata": {},
   "outputs": [],
   "source": [
    "# Use this cell  to play with dictionaries"
   ]
  },
  {
   "cell_type": "markdown",
   "metadata": {},
   "source": [
    "### 1.6 Functions:    <a class=\"anchor\" id=\"IIIf\"></a>\n",
    "\n",
    "We have seen the first bricks of python coding, but once it is necessary to automate some task, it becomes convenient to define **functions**. A function is a kind of \"mini-script\" that can accept (optionally) one or several parameters. Here is how you define a function:\n",
    "\n",
    "``` python\n",
    "def moffat1D(r, I, alpha, beta):\n",
    "    arg = (r / alpha)**2 + 1\n",
    "    y = I / arg**(beta)\n",
    "    return y\n",
    "```\n",
    "\n",
    "This function returns the value of a Moffat profile/function at position `r`:   \n",
    "$ y = I_0  \\left( \\left ( \\frac{r}{\\alpha} \\right )^2 +1 \\right)^{-\\beta}$\n",
    "\n",
    "This Moffat profile is characterized by the parameters `I`, a normalization factor, `alpha`, the width of the moffat, or rather a scale parameter, and `beta`, a parameter governing the shape of the profile. When $\\beta = 1$, the Moffat profile is identical to a Lorentz \"profile\".    \n",
    "\n",
    "The characteristics of functions are:\n",
    "- They start with the `def` keyword, followed by the function name\n",
    "- The argument of the function is in parentheses \n",
    "- After the parentheses, starts a colon `:` which marks the beginning of the code block corresponding to your operation. \n",
    "- The code block associated with the function is **indentated** w.r.t. the main text. This is a *very important* property the python language: indentation (with tabulation or 4-spaces -4-spaces are officially recommended by many python-friendly editors convert your tab into space within your code.) are part of the code, they help legibility BUT not only. They tell the code that something special is happening. \n",
    "- In the above code, a **local variable** (you won't have access to it outside your function) `arg` has been defined\n",
    "- The function ends when new code is NOT indented or when a `return` statement is encountered.\n",
    "- There are some rules regarding function arguments:\n",
    "    * First argument(s) of a function should be mandatory arguments, with no default value. \n",
    "    * Next argument(s) are optional arguments for which you give default values\n",
    "    * You cannot put an argument without default value *after* one with a default value. \n",
    "    * Arguments without default value are positional ones, so if you define `def f(a):`, you do no have to specify the keyword of the function when giving it a value. i.e. `f(0)` will evaluate the function at 0, but `f(a=0)` will also work. On the other hand `f(0, a=0)` will return an Error !\n",
    "    \n",
    "\n",
    "**Note:**\n",
    "- `Python` has many built-in functions (some are called methods when they are defined in some objects-classes). For example, the function `range(5)` returns a sequential list of integers.\n",
    "- Python 3 disallows mixing the use of tabs and spaces for indentation. Python 2 code indented with a mixture of tabs and spaces should be converted to using spaces exclusively. \n",
    "- When a final formal parameter of the form `**name` (often `**kwargs` is used) is present, it receives a dictionary containing all keyword arguments except for those corresponding to a formal parameter. This may be combined with a formal parameter of the form `*name` (`*args`) which receives a tuple containing the positional arguments beyond the formal parameter list. (`*name` must occur before `**name`.)"
   ]
  },
  {
   "cell_type": "code",
   "execution_count": null,
   "metadata": {},
   "outputs": [],
   "source": [
    "def moffat1D(r, I, alpha=3, beta=None):\n",
    "    \"\"\"\n",
    "    I = Intensity at origin \n",
    "    \"\"\"\n",
    "    arg = (r / alpha)**2 + 1\n",
    "    y = I / arg**(beta)\n",
    "    return y\n",
    "help(moffat1D)\n",
    "#moffat1D(2, 2, 3, 1)\n"
   ]
  },
  {
   "cell_type": "code",
   "execution_count": null,
   "metadata": {},
   "outputs": [],
   "source": [
    "# Define a function that converts an angle given in degrees into radians\n"
   ]
  },
  {
   "cell_type": "markdown",
   "metadata": {},
   "source": [
    "A **very useful** functionality of python is the ability to write, together with your function a simple `help` / basic documentation. For this, you simply have to start the \"help\"-block with triple-quotes (i.e. `\"\"\"`) and end it similarly (This `help()` block needs to be indentated). In python jargon, this help block is effectively called a `Docstring`. This `Docstring` can be called in interactive mode (`help(myfunction)`) will return the information present in that Doctring. *Within Jupyter notebooks*, you can use the combination of keys `Shift + Tab` when your cursor is positioned just after the opening parenthese, to see the help in a small *pop-up window* (repeat `Shift+Tab` for different options). Because `Docstring` are used to design the `help`, it means that it is better to follow some rules when writing them. Unfortunately, those rules are not universal. I like the following structure (that is also compliant with Sphinx Documentation tool): \n",
    "``` python \n",
    "\"\"\"\n",
    "My description of a of very exhautive\n",
    "format docstring.\n",
    "\n",
    "Parameters\n",
    "----------\n",
    "first : array_like\n",
    "    the 1st param name `first`\n",
    "second :\n",
    "    the 2nd param\n",
    "third : {'value', 'other'}, optional\n",
    "    the 3rd param, by default 'value'\n",
    "\n",
    "Returns\n",
    "-------\n",
    "string\n",
    "    a value in a string\n",
    "\n",
    "Raises\n",
    "------\n",
    "KeyError\n",
    "    when a key error\n",
    "OtherError\n",
    "    when an other error\n",
    "\"\"\"\n",
    "```\n",
    "\n",
    "Applied to the `moffat1D()` this would be:\n",
    "\n",
    "``` python\n",
    "def moffat1D(r, I, alpha, beta):\n",
    "    \"\"\"\n",
    "    Calculates the value of a Moffat profile \n",
    "    at position r. \n",
    "    y = I * (1+(r/alpha)^2)^(-beta)\n",
    "    \n",
    "    Parameters:\n",
    "    -----------\n",
    "    r : float\n",
    "        Position at which function is evaluated\n",
    "    I : float\n",
    "        Intensity\n",
    "    alpha: float\n",
    "        alpha param\n",
    "    beta: float\n",
    "        beta param\n",
    "    Returns:\n",
    "    --------\n",
    "    float\n",
    "        The value of the moffat at position r\n",
    "    \"\"\"\n",
    "    arg = (r / alpha)**2 + 1\n",
    "    y = I / arg**(beta)\n",
    "    return y\n",
    "```\n",
    "\n",
    "\n",
    "** Notes: **\n",
    "- You can read the [Docstring convention](https://www.python.org/dev/peps/pep-0257/) that lists recommendations in writing the help of your function. The one described above, the one used by the numpy programmers, is explained on the [numpy git](https://github.com/numpy/numpy/blob/master/doc/HOWTO_DOCUMENT.rst.txt#docstring-standard) \n",
    "- In the \"programming\" section of this class, we *learn to drive* (python) but we won't spend too much time on the *traffic regulation* (i.e. how to drive well and how to drive together with other people -in the same code or not-). Therefore, the [Style guide for Python code](https://www.python.org/dev/peps/pep-0008/) is probably a good way to get recommendations on *good practices* for programming in `Python`. We'll try to get used to some of them, but we cannot afford spending too much time on this topic. As you may be encouraged to release your code with your scientific results, or may want to release a public code in the future, I encourage you to read such a document before doing any serious programming. (See at the end of this notebook for a summary)"
   ]
  },
  {
   "cell_type": "code",
   "execution_count": null,
   "metadata": {},
   "outputs": [],
   "source": [
    "# Add a Docstring to the function you have defined above to create degrees to Radians. \n",
    "# Visualise the help() you have created using help() \n"
   ]
  },
  {
   "cell_type": "markdown",
   "metadata": {},
   "source": [
    "### 1.7 Control flow statements:     <a class=\"anchor\" id=\"IIIg\"></a>\n",
    "From http://www.ster.kuleuven.be/~pieterd/python/html/pure_python/control_flow.html\n",
    "\n",
    "#### 1.7.1 if statements\n",
    "\n",
    "The basic syntax for an if-statement is the following:\n",
    "``` python \n",
    "if condition:\n",
    "    # do something\n",
    "elif condition:\n",
    "    # do something else\n",
    "else:\n",
    "    # do yet something else\n",
    "```\n",
    "\n",
    "Notice that there is no statement to end the `if` statement. Beware of the presence of a colon (:) after each control flow statement. Python relies on indentation and colons to determine whether it is in a specific block of code. For example, in the following example:\n",
    "\n",
    "``` python \n",
    "if a == 1:\n",
    "    print(\"a is 1, changing to 2\")\n",
    "    a = 2\n",
    "print(\"finished\")\n",
    "```\n",
    "\n",
    "The first print statement, and the `a = 2` statement only get executed if a is 1. On the other hand, `print(\"finished\")` gets executed regardless, once Python exits the if statement.\n",
    "\n",
    "The conditions in the statements can be anything that returns a boolean value. For example, `a == 1`, `b != 4`, and `c <= 5` are valid conditions because they return either `True` or `False` depending on whether the statements are true or not. Standard comparisons can be used (`==` for equal, `!=` for not equal, `<=` for less or equal, `>=` for greater or equal, `<` for less than, and `>` for greater than), as well as logical operators (`and`, `or`, `not`). Parentheses can be used to isolate different parts of conditions, to make clear in what order the comparisons should be executed, for example:\n",
    "\n",
    "``` python\n",
    "if (a == 1 and b <= 3) or c > 3:\n",
    "    # do something\n",
    "```\n",
    "\n",
    "More generally, any function or expression that ultimately returns `True` or `False` can be used.\n",
    "\n",
    "Along with comparisons, another commonly-used operator is `in`. This is used to test whether an item is contained in any collection:\n",
    "\n",
    "``` python\n",
    "b = [1, 2, 3]   \n",
    "2 in b   \n",
    "    Out: True   \n",
    "5 in b   \n",
    "    Out: False\n",
    "```\n",
    "\n",
    "If `b` is a dictionary , this tests that the item is a key of `b`."
   ]
  },
  {
   "cell_type": "code",
   "execution_count": null,
   "metadata": {},
   "outputs": [],
   "source": [
    "# Try value in b with different kind of containers (i.e. list, set, tuple, dictionnary)"
   ]
  },
  {
   "cell_type": "markdown",
   "metadata": {},
   "source": [
    "#### 1.7.2 `for` loops\n",
    "\n",
    "The most common type of loop is the `for` loop. In its most basic form, its synthax is straightforward:\n",
    "\n",
    "``` python\n",
    "for value in iterable:\n",
    "    # do things\n",
    "```\n",
    "\n",
    "The iterable can be any `Python` object that can be iterated over. This includes `lists`, `tuples`, `dictionaries`, `strings`. ``"
   ]
  },
  {
   "cell_type": "code",
   "execution_count": null,
   "metadata": {},
   "outputs": [],
   "source": [
    "range(0,10, 1)\n",
    "# Try this out\n",
    "L = [1, 2, 3, 4, 6]\n",
    "for i in range(5):\n",
    "    print L[i]\n"
   ]
  },
  {
   "cell_type": "markdown",
   "metadata": {},
   "source": [
    "A common type of for loop is one where the value should go between two integers with a specific set size. To do this, we can use the `range` function. If given a single value, it will give a list ranging from 0 to the value minus 1:\n",
    "\n",
    "``` python\n",
    "range(10)\n",
    "    Out: [0, 1, 2, 3, 4, 5, 6, 7, 8, 9]\n",
    "range(3, 12)   # 3 and 12 are the starting and one plus the ending value\n",
    "    Out: [3, 4, 5, 6, 7, 8, 9, 10, 11]\n",
    "range(2, 20, 2)  # the third number, if specified, is taken to be the step size\n",
    "    Out: [2, 4, 6, 8, 10, 12, 14, 16, 18]\n",
    "``` \n",
    "\n",
    "The range function can be used as the iterable in a for loop."
   ]
  },
  {
   "cell_type": "code",
   "execution_count": null,
   "metadata": {},
   "outputs": [],
   "source": [
    "# Use for loop to print at the screen the elements of a list that contains both integers and strings. \n",
    "# Try to do it using range and try again without looping over the indices / using range\n",
    "len(L)"
   ]
  },
  {
   "cell_type": "markdown",
   "metadata": {},
   "source": [
    "To iterate over elements of a list and also get in return the indices of these elements in the list, you may use `enumerate`.\n",
    "``` python\n",
    "for i, item in enumerate(L): \n",
    "    print 'i=', i, ' : L = ', item\n",
    "```"
   ]
  },
  {
   "cell_type": "code",
   "execution_count": null,
   "metadata": {},
   "outputs": [],
   "source": [
    "for i, item in enumerate(L): \n",
    "    print 'i=', i, ' : L = ', item"
   ]
  },
  {
   "cell_type": "markdown",
   "metadata": {},
   "source": [
    "You can also iterate over elements of 2 lists (of the same length) in parallel using `zip()`\n",
    "``` Python\n",
    "L1, L2 = range(4), range(10,14)\n",
    "for l1, l2 in zip(L1, L2): \n",
    "    print 'l1=', l1, 'l2=', l2\n",
    "```"
   ]
  },
  {
   "cell_type": "code",
   "execution_count": null,
   "metadata": {},
   "outputs": [],
   "source": [
    "L1, L2 = range(4), range(10,14)\n",
    "for l1, l2 in zip(L1, L2): \n",
    "    print 'l1=', l1, 'l2=', l2"
   ]
  },
  {
   "cell_type": "markdown",
   "metadata": {},
   "source": [
    "#### 1.7.3 `while` loops\n",
    "\n",
    "Python also provides a `while` loop which is similar to a for loop, but where the number of iterations is defined by a condition rather than an iterator:\n",
    "\n",
    "``` python \n",
    "a = 0\n",
    "while a < 10:   # a < 10 is the condition\n",
    "    print(a)    # This line is the first \"looping block\n",
    "    a += 1      # This line is the second \"looping block\"\n",
    "\n",
    "```"
   ]
  },
  {
   "cell_type": "code",
   "execution_count": null,
   "metadata": {},
   "outputs": [],
   "source": [
    "# Visualize the output of the above code\n",
    "a = 0\n",
    "while a < 10:   # a < 10 is the condition\n",
    "    print(a)    # This line is the first \"looping block\n",
    "    a += 1      # This line is the second \"looping block\"\n"
   ]
  },
  {
   "cell_type": "markdown",
   "metadata": {},
   "source": [
    "#### 1.7.4 List Comprehensions\n",
    "\n",
    "This is very useful and often overlooked by beginners ... this is however very efficient and quite \"pythonic\" to use list comprehension. ** When possible try to favor list comprehensions over the use of `for` loops **.\n",
    "A common programming structure when assigning values to a list is the following:\n",
    "\n",
    "```python\n",
    "l = []                      # create the list\n",
    "for i in range(10):\n",
    "    l.append(i**2)\n",
    "```\n",
    "\n",
    "List comprehensions provide a shorter and more readable way of writing the same loop:\n",
    "\n",
    "``` python\n",
    "l = [i**2 for i in range(10)]\n",
    "``` "
   ]
  },
  {
   "cell_type": "code",
   "execution_count": null,
   "metadata": {},
   "outputs": [],
   "source": [
    "# Write a list comprehension that creates a list of 10 odd numbers\n",
    "%timeit l = [i**2 for i in range(10)]\n"
   ]
  },
  {
   "cell_type": "markdown",
   "metadata": {},
   "source": [
    "**Note:** `and`, `or` are boolean operators. `&`, `|` are the equivalent bitwise operator. The difference is that boolean operators are used on boolean values (i.e. the two expression that are compared should be boolean) while `&` and `|` are generally used on integer values (they just compare the bits and so work at a low level). This means that: boolean operators evaluate the first operand for its truth value, and depending on that value, either evaluate and return the second argument, or don't evaluate the second argument and return the first. In other words, the `and` operator works like: ``` x and y => if x is false, then x, else y ```  \n",
    "For that reason we will have the following behaviour: \n",
    "``` Python\n",
    "mylist1 = [True,  True,  True,  False,  True]\n",
    "mylist2 = [False, True, False,  True, False]  \n",
    "\n",
    "# ---- Example 1 ----  Boolean comparison, each elements of the list are compared pair-wise\n",
    ">>>mylist1 and mylist2 \n",
    "[False, True, False, True, False]\n",
    "# You would have expected [False, True, False, False, False]\n",
    "# However as explained above\n",
    "# something_true and x -> x\n",
    "# something_false and x -> something_false\n",
    "```\n",
    "Another important thing to keep in mind is that empty built-in object is treated as logically `False`. This means that:\n",
    "``` Python\n",
    "if []:\n",
    "    print 'True'\n",
    "    >>> # Returns nothing\n",
    "    \n",
    "if [False]:\n",
    "    print 'True'\n",
    "    >>> 'True'\n",
    "```\n",
    "Finally, the comparison of 2 lists of booleans, as defined above, with bitwise operator will raise an error because bitwise operations work only on numbers (or conversion of objects to bits, e.g. a string): \n",
    "``` python\n",
    "# ---- Example 2 ----  Comparison of the 2 lists with bitwise operators\n",
    "mylist1 & mylist2 \n",
    "TypeError: unsupported operand type(s) for &: 'list' and 'list'\n",
    "\n",
    "```\n",
    "\n",
    "See [here](https://stackoverflow.com/questions/22646463/difference-between-and-boolean-vs-bitwise-in-python-why-difference-i) for more detailed explanation of those subtelties and use of bitwise operators with numpy arrays (that we will introduce later). \n"
   ]
  },
  {
   "cell_type": "code",
   "execution_count": null,
   "metadata": {},
   "outputs": [],
   "source": [
    "if []:\n",
    "    print 'True'\n",
    "\n",
    "if [False]:\n",
    "    print 'True'"
   ]
  },
  {
   "cell_type": "code",
   "execution_count": null,
   "metadata": {},
   "outputs": [],
   "source": [
    "mylist1 = [True,  True,  True,  False,  True]\n",
    "mylist2 = [False, True, False,  True, False]  \n",
    "\n",
    "mylist1 and mylist2"
   ]
  },
  {
   "cell_type": "code",
   "execution_count": null,
   "metadata": {},
   "outputs": [],
   "source": [
    "mylist1 & mylist2"
   ]
  },
  {
   "cell_type": "markdown",
   "metadata": {},
   "source": [
    "### 1.8 A brief summary of the Python coding recommendations    <a class=\"anchor\" id=\"IIIh\"></a>\n",
    "\n",
    "From Official `Python` doc https://docs.python.org/2/tutorial/controlflow.html\n",
    "The full style guide for python coding: https://www.python.org/dev/peps/pep-0008/\n",
    "\n",
    "- Use 4-space indentation, and no tabs.\n",
    "- 4 spaces are a good compromise between small indentation (allows greater nesting depth) and large indentation (easier to read). Tabs introduce confusion, and are best left out.\n",
    "- Wrap lines so that they don’t exceed 79 characters. This helps users with small displays and makes it possible to have several code files side-by-side on larger displays.\n",
    "- Use blank lines to separate functions and classes, and larger blocks of code inside functions.\n",
    "- When possible, put comments on a line of their own.\n",
    "- Use docstrings.\n",
    "- Use spaces around operators and after commas, but not directly inside bracketing constructs: `a = f(1, 2) + g(3, 4)`.\n",
    "- Don’t use fancy encodings if your code is meant to be used in international environments. Plain ASCII works best in any case."
   ]
  },
  {
   "cell_type": "markdown",
   "metadata": {},
   "source": [
    "### 1.9 Summary\n",
    "\n",
    "\n",
    "We have seen that `python` is a multi-paradigm language, namely both *interpreted* and *compiled*. This is the reason why it is very versatile, portable and powerful.  \n",
    "We have learned about: \n",
    "- the main built-in structures: `list`, `tuple`, `dictionary`, `set`\n",
    "- The importance of indentation in writing code, especially when defining a `function`, create `loops`, set `conditions`. \n",
    "- We have seen that there is in general no need to pre-declare a variable, nor its type. However, one should be careful that *numbers not followed by a .* are interpreted as integers, but are float otherwise. This can generate bugs as the division of 2 integers is an integer (in python 2.7, not for version > 3). \n",
    "- We have started to be familiar with slicing through lists, and realise that the *first index* of a sequence is *zero*. \n",
    "- We have seen that it is very easy to add documentation to a function using triple quotes \"\"\"\n",
    "- We have learned how to write `list comprehensions` ( [ x+1 for x in L] ) to increase speed and improve readability. "
   ]
  },
  {
   "cell_type": "markdown",
   "metadata": {},
   "source": [
    "## 2 About Jupyter       <a class=\"anchor\" id=\"IV\"></a>\n",
    "\n",
    "Project Jupyter was born out of the IPython project. It started as Ipython notebook but evolved to be a multi-language notebook environment. The name Jupyter is an indirect acronym of the three core languages it was designed for: **JU**lia, **PYT**hon, and **R**. So it is not because of its \"planet's\" sounding (the acronym has been designed for this !) that I have picked it up for this class ... but because this is a very useful tool and handy way to use python. As it is a notebook, you keep track of everything you want which is an important feature for:     \n",
    "- (i) Repeatability of work/research    \n",
    "- (ii) Finding out the origin of strange results (that were in fact bugs)    \n",
    "- (iii) Sharing results with collaborators, giving them the opportunity to understand in details what you did.  "
   ]
  },
  {
   "cell_type": "markdown",
   "metadata": {},
   "source": [
    "### Should I only work with Jupyter ? \n",
    "\n",
    "I think that Jupyter is very handy for number of daily work but not for everything. You may need, from time to time, to run python scripts in non interactive mode. These would be scripts you have developped and that are e.g. quite demanding in memory, perform long and/or complex calculation, or maybe need to be run on a powerful machine (which is not your Desktop). Use of GUI (Graphical User Interface) is also recommended (in my opinion) to write your functions/packages and debug them. For this, there is IDE (Interactive Development environment) that provides you with editor, debuger, (i-)python consoles, command history consoles, help windows, \"variable\" properties consoles, ...  \n",
    "\n",
    "Non exhaustive list of IDEs to develop your code: \n",
    "- SPYDER that comes with anaconda python distribution. https://www.continuum.io/\n",
    "- Canopy (developped by Enthought) also provides a powerful IDE. https://www.enthought.com/products/canopy/\n",
    "- Pycharm: A very popular one developed by JetBrains  https://www.jetbrains.com/pycharm/"
   ]
  },
  {
   "cell_type": "markdown",
   "metadata": {},
   "source": [
    "### Jupyter key-shortcuts Cheat sheet \n",
    "\n",
    "Type `Esc-H`  to see them all ... \n",
    "\n",
    "Two modes: Command mode (type Esc; the cell is outlines with a Blue border) and Edit mode (type Enter; Green border).  \n",
    "We recommend learning the command mode shortcuts in the following rough order:\n",
    "\n",
    "-    Basic navigation: `enter`, `shift-enter`, `up/k`, `down/j`\n",
    "-    Saving the notebook: `s`\n",
    "-    Change Cell types: `y`, `m`, `1-6`, `t`\n",
    "-    Cell creation: `a`, `b`\n",
    "-    Cell editing: `x`, `c`, `v`, `d`, `z`\n",
    "-    Kernel operations: `i`, `0` (press twice)\n",
    "\n",
    "Overview of useful shortcuts (mostly Command-mode): \n",
    "<pre>\n",
    "------------------------------------------    \n",
    "| Command       | Action                 |\n",
    "|:--------------|:----------------------:|\n",
    "| Enter         | enter edit mode        | \n",
    "| Shift-Enter   | run cell, select below |   \n",
    "| Ctrl-Enter    | run cell               |   \n",
    "| Alt-Enter     | run cell, insert below | \n",
    "| Shift-Tab     | Help on a function     |\n",
    "| Shift-Tab (2times)  | Detailed Help on a function     |\n",
    "| Shift-Tab (3times)  | Try it out !     |\n",
    "| Esc-Y         | code cell              |   \n",
    "| Esc-M         | to markdown            |   \n",
    "| Esc-R         | to raw                 |  \n",
    "| Esc-1         | to heading 1           |   \n",
    "| Esc-2,3,4,5,6 | to heading 2,3,4,5,6   |   \n",
    "| Up/Esc-K      | select cell above      |   \n",
    "| Down/Esc-J    | select cell below      |  \n",
    "| Esc-A/B       | insert cell above/below|   \n",
    "| Esc-X         | cut selected cell      |   \n",
    "| Esc-C         | copy selected cell     |   \n",
    "| Shift-V       | paste cell above       |   \n",
    "| Esc-V         | paste cell below       |   \n",
    "| Esc-Z         | undo last cell deletion|   \n",
    "| Shift-M       | merge cell below       |   \n",
    "| Ctrl-S\t    | Save and Checkpoint    |   \n",
    "------------------------------------------    \n",
    "</pre>"
   ]
  },
  {
   "cell_type": "markdown",
   "metadata": {},
   "source": [
    "### List of Magic Jupyter commands \n",
    "\"Magic\" commands always start with \"%\" or \"%%\"    \n",
    "The \"%\" commands also work if you are simply running ipython. \n",
    "\n",
    "And guess what, there is a magic command to have a quick overview of all the \"magic\" Jupyter commands. Simply enter:"
   ]
  },
  {
   "cell_type": "code",
   "execution_count": null,
   "metadata": {},
   "outputs": [],
   "source": [
    "%quickref"
   ]
  },
  {
   "cell_type": "markdown",
   "metadata": {},
   "source": [
    "## 3 References and Additional material:   <a class=\"anchor\" id=\"V\"></a>\n",
    "\n",
    "**Appendix A** of the book *Statistics, data mining and Machine learning in astronomy* by Z. Ivezic et al. in Princeton Series in Modern Astronomy.  \n",
    "\n",
    "Other useful references to know more about the topics covered in this class: \n",
    "\n",
    "* Jupyter Notebooks: \n",
    "    - General: https://www.datacamp.com/community/tutorials/tutorial-jupyter-notebook#gs.HoI=454\n",
    "    - Syntax: https://guides.github.com/features/mastering-markdown/\n",
    "\n",
    "* About interpreted/compiled language:\n",
    "    - General: https://thesocietea.org/2015/07/programming-concepts-compiled-and-interpreted-languages/ \n",
    "    - About pyc files in python: http://www.network-theory.co.uk/docs/pytut/CompiledPythonfiles.html\n",
    "\n",
    "* Introduction to python:  \n",
    "    - An Introduction to Python - The Python Tutorial by Guido van Rossum (python creator) and Fred L. Drake, Jr. https://docs.python.org/2/tutorial/index.html (see also) http://www.network-theory.co.uk/python/intro/\n",
    "    - Python for astronomers course http://python4esac.github.io/  written by Tom Aldcroft, Tom Robitaille, Brian Refsdal, Gus Muench (Copyright 2011, Smithsonian Astrophysical Observatory; Creative common license), and their version adapted by  Eli Bressert, Neil Creighton and Pieter Degroote : http://www.ster.kuleuven.be/~pieterd/python/html/index.html\n",
    "    - Python 2 web-tutorial written by Bernd Klein: http://www.python-course.eu/course.php \n",
    "    - Visual way to see how a code is running and how objects are called and filled  http://www.pythontutor.com/visualize.html#mode=edit\n",
    "    - Style guide for python coding: https://www.python.org/dev/peps/pep-0008/"
   ]
  },
  {
   "cell_type": "code",
   "execution_count": null,
   "metadata": {},
   "outputs": [],
   "source": []
  }
 ],
 "metadata": {
  "kernelspec": {
   "display_name": "Python 2",
   "language": "python",
   "name": "python2"
  },
  "language_info": {
   "codemirror_mode": {
    "name": "ipython",
    "version": 2
   },
   "file_extension": ".py",
   "mimetype": "text/x-python",
   "name": "python",
   "nbconvert_exporter": "python",
   "pygments_lexer": "ipython2",
   "version": "2.7.13"
  }
 },
 "nbformat": 4,
 "nbformat_minor": 2
}
