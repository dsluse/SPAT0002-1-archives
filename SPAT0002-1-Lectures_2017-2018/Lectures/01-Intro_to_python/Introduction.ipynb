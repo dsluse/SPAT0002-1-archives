{
 "cells": [
  {
   "cell_type": "markdown",
   "metadata": {},
   "source": [
    "# About this course\n",
    "\n",
    "This course aims at providing you with a *practical* understanding of (some of) the statistical concepts/methods existing to analyse data (how to properly estimate errors, derive trends in data points, ...). For this, we will not only review the theory of data analysis but also spend time in learning to use some exisiting tools implementing those concepts. We will mostly pick topics among the following:  statistical classical or frequentist inference (i.e. Maximum Likelihood Estimation,  confidence interval via Jackknife and bootstrapping, hypothesis test), Baysian statistical inference (MCMC for confidence interval estimation, model selection). Finally, we will also introduce you to general principles of neural network and machine learning (supervised, unsupervised), giving more a taste of how this works. \n",
    " \n",
    "I know that if you choose to learn physics and astronomy, this was probably not to learn coding. Writing lines of code to execute routine tasks, do complex calculations, dig into large databases or simply analyze data is however part of astronomer's (and physicist's) life. The idea of this class is to provide you with a *toolbox* into which you will pick tools to extract all the relevant information from the data you have in hands. It is not only sufficient to know where is the tool ! We want to understand how to use them correctly and understand the concepts that make them such powerful ! \n",
    " \n",
    "In this notebook, you will often see a few lines starting with \"**Notes**\". Those notes can generally be skipped at first lecture, but may become more insightful when the reader (you !) is already familiar with the topic covered by the main text. \n",
    "\n",
    "These notebooks may evolve with time. Any comment, suggestions are welcome, in order to improve your learning experience and the one of the others.  \n",
    "\n",
    "\n",
    "## This course in practice\n",
    "\n",
    "These Notebooks are saved on a [github repository](https://github.com/dsluse/SPAT0002-1-preliminary_notes/tree/master/Ongoing) (`repos`).     \n",
    "You have three ways to use these notebooks:\n",
    "\n",
    "- (1) Get a local copy of the repository using the download button. This is easy but as the repository content will evolve with time, this is not very practical. See (3) for a better solution. Note that consulting the [github repository](https://github.com/dsluse/SPAT0002-1-preliminary_notes/tree/master/Ongoing) through the web is another option but it should just be if you want a quick access to a specific information or refresh your memory about a specific topic. This does not allow you to run interactively the different cells.  \n",
    "- (2) Ignore the github and copy the Notebooks on a USB key after each lecture. This is not an optimal solution but it allows you to have Notebooks including the work you have done during the lecture. \n",
    "- (3) Use `git` to download the repository and then update your local copy. This is not difficult. A very good introduction to git can be found here:  https://swcarpentry.github.io/git-novice/reference/ or https://github.com/drphilmarshall/GettingStarted#top (the latter link even includes a link to a youtube video). Since git does not require an external repository, you can use this \"system versioning\" tool to track any of your project on your computer. This works for a code, but also for e.g. a paper or a thesis you are writing.  \n",
    "\n",
    "\n",
    "In practice, if you follow (3) and want to be up-to date with the lectures, you will end up typing the following in a terminal:\n",
    "\n",
    "The First time: \n",
    "```shell\n",
    "mkdir SPAT0002   # create a directory to save a local copy of the repository\n",
    "cd SPAT0002      # move into that directory\n",
    "git init      # Only the first time\n",
    "git clone https://github.com/dsluse/SPAT0002-1-preliminary_notes.git         \n",
    "```\n",
    "\n",
    "Another day, when you know that the course repository has been updated, you go into the directory containing your repository.  \n",
    "``` shell\n",
    "git pull\n",
    "```"
   ]
  },
  {
   "cell_type": "code",
   "execution_count": null,
   "metadata": {
    "collapsed": true
   },
   "outputs": [],
   "source": []
  }
 ],
 "metadata": {
  "kernelspec": {
   "display_name": "Python 2",
   "language": "python",
   "name": "python2"
  },
  "language_info": {
   "codemirror_mode": {
    "name": "ipython",
    "version": 2
   },
   "file_extension": ".py",
   "mimetype": "text/x-python",
   "name": "python",
   "nbconvert_exporter": "python",
   "pygments_lexer": "ipython2",
   "version": "2.7.13"
  }
 },
 "nbformat": 4,
 "nbformat_minor": 2
}
