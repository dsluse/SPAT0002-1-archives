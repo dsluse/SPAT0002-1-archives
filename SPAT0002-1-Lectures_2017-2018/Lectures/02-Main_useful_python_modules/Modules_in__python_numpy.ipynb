{
 "cells": [
  {
   "cell_type": "markdown",
   "metadata": {},
   "source": [
    "# Introduction to `numpy`"
   ]
  },
  {
   "cell_type": "markdown",
   "metadata": {},
   "source": [
    "This Notebook provides an overview of the capabilities of the `numpy` module. It covers Sect. II of [Modules_in__python.ipynb](Modules_in__python.ipynb). \n",
    "\n",
    "## Table of Content\n",
    "\n",
    "- [II. Numpy](#II)\n",
    "    * [II.1 Array Definition and construction](#II.1)\n",
    "    * [II.2 Array copies and views](#II.2)\n",
    "    * [II.3 Shape manipulation](#II.3)\n",
    "    * [II.4 What makes numpy Arrays useful structures ?](#II.4)\n",
    "        - [II.4.1 ufunc](#II.4.1)\n",
    "        - [II.4.2 Aggregation](#II.4.2)\n",
    "        - [II.4.3 Broadcasting](II.4.3)\n",
    "        - [II.4.4 Slicing, masking, fancy indexing](#II.4.4)\n",
    "    * [II.5 Reading arrays from a file and string formatting](#II.5)\n",
    "    * [II.6 Summary](#II.6)\n",
    "    * [II.7 References](#VI)"
   ]
  },
  {
   "cell_type": "markdown",
   "metadata": {},
   "source": [
    "## II. `numpy`:  <a class=\"anchor\" id=\"II\"></a>\n",
    "\n",
    "`numpy` can be seen as the implementation of mathematical functions and operations for python language. It also introduces one key object `arrays`. \n",
    "\n",
    "### II.1 `array` definition and construction:  <a class=\"anchor\" id=\"II.1\"></a>\n",
    "\n",
    "- A `numpy` array is an object of the type `np.ndarray` (although this type specifier is rarely used directly). Instead one can create arrays in several ways: \n",
    "\n",
    "``` python\n",
    "import numpy as np\n",
    "np.array([1,2,3,4])   # creates an array from a python list\n",
    "np.array([[0, 1, 2], [3, 4, 5]])   # Creates a 2D array from a python list\n",
    "np.arange(5) # similar to the built-in range() function.\n",
    "np.linspace(1, 10, 10) # creates an array of 10 elements from 1 to 10\n",
    "np.zeros(10)  # creates an array of 10 elements filled with 0\n",
    "np.ones(10)   # creates an array of 5 elements filled with 1\n",
    "np.zeros((2, 5))  # mulitdimensional arrays of 2 rows and 5 columns\n",
    "```\n",
    "- 2-D arrays of `shape=(r, c)` are arrays with `r` *rows* and `c` *columns*. "
   ]
  },
  {
   "cell_type": "code",
   "execution_count": null,
   "metadata": {},
   "outputs": [],
   "source": [
    "# Let's try the above commands and visualise the output. \n",
    "import numpy as np\n",
    "#a = np.arange(0,5,0.7)\n",
    "a = np.zeros((3, 4))\n",
    "print a\n",
    "a[2, 3] = 1\n",
    "print a "
   ]
  },
  {
   "cell_type": "markdown",
   "metadata": {},
   "source": [
    "- numpy has also tools to create arrays filled with random elements:\n",
    "\n",
    "``` python\n",
    "np.random.random(size=4)  # uniform between 0 and 1\n",
    "np.random.normal(size=4)  # elements are std-normal distributed\n",
    "\n",
    "```"
   ]
  },
  {
   "cell_type": "code",
   "execution_count": null,
   "metadata": {},
   "outputs": [],
   "source": [
    "# Try out the above commands "
   ]
  },
  {
   "cell_type": "markdown",
   "metadata": {},
   "source": [
    "- You can explicitly specify which **data-type** you want:\n",
    "\n",
    "``` python \n",
    "c = np.array([1, 2, 3], dtype=float)\n",
    "c.dtype\n",
    "    Out: dtype('float64')\n",
    "```"
   ]
  },
  {
   "cell_type": "code",
   "execution_count": null,
   "metadata": {},
   "outputs": [],
   "source": [
    "# Try out the above commands "
   ]
  },
  {
   "cell_type": "markdown",
   "metadata": {},
   "source": [
    "The default data type is floating point. Other possible data types are: \n",
    "\n",
    "* **COMPLEX** numbers: \n",
    "``` python\n",
    "d = np.array([1+2j, 3+4j, 5+6*1j])\n",
    "d.dtype\n",
    "    Out: dtype('complex128')\n",
    "```"
   ]
  },
  {
   "cell_type": "code",
   "execution_count": null,
   "metadata": {
    "collapsed": true
   },
   "outputs": [],
   "source": []
  },
  {
   "cell_type": "markdown",
   "metadata": {},
   "source": [
    "* **BOOL**:\n",
    "``` python\n",
    "e = np.array([True, False, False, True])\n",
    "e.dtype\n",
    "    Out: dtype('bool')\n",
    "```"
   ]
  },
  {
   "cell_type": "code",
   "execution_count": null,
   "metadata": {},
   "outputs": [],
   "source": [
    "# Try out the above commands "
   ]
  },
  {
   "cell_type": "markdown",
   "metadata": {},
   "source": [
    "* **String**:\n",
    "``` python\n",
    "f = np.array(['abc', 'eddafg', 'hjk'])\n",
    "f.dtype\n",
    "    Out: dtype('S6')   # <--- String of 6 characters (by default largest elements of the array \n",
    "```"
   ]
  },
  {
   "cell_type": "code",
   "execution_count": null,
   "metadata": {
    "collapsed": true
   },
   "outputs": [],
   "source": []
  },
  {
   "cell_type": "markdown",
   "metadata": {},
   "source": [
    "* **Other data types**:  `int32`, `int64`, `uint32`, `uint64`"
   ]
  },
  {
   "cell_type": "markdown",
   "metadata": {},
   "source": [
    "Note that `type(f)` tells you that `f` is a numpy array, while `f.dtype` gives you the *type of the elements* containted in `f`. `dtype` is an attribute of the object `np.array`. If you try to access the attribute dtype of a List, you will get an error message. "
   ]
  },
  {
   "cell_type": "code",
   "execution_count": null,
   "metadata": {},
   "outputs": [],
   "source": [
    "# Difference between type/dtype; application to List/arrays.\n",
    "f = np.array(['abc', 'eddafg', 'hjk'])\n",
    "print type(f)\n",
    "print f.dtype\n",
    "L = ['abc', 'eddafg', 'hjk']\n",
    "print type(L)\n",
    "print L.dtype"
   ]
  },
  {
   "cell_type": "markdown",
   "metadata": {},
   "source": [
    "- Last but not least, `numpy` is also the package that allows you to calculate many common mathematical function (see also [`ufunc`](#II.4.1)): `np.log10()` (base 10 log), `np.log()` (natural log), `np.exp()`, `np.sin()`, `np.cos()`, etc. See the list of `numpy` mathematical functions [here](https://docs.scipy.org/doc/numpy/reference/routines.math.html)"
   ]
  },
  {
   "cell_type": "code",
   "execution_count": null,
   "metadata": {},
   "outputs": [],
   "source": [
    "# create an array of floats and calculate its log / sin / ... \n"
   ]
  },
  {
   "cell_type": "markdown",
   "metadata": {},
   "source": [
    "**Exercise:**   \n",
    "For the array:\n",
    "``` python\n",
    "a = np.array([[1,2,3,4], [4,5,6,7], [2,3,4,5] ])\n",
    "```\n",
    "- What is the output of `a.ndim`, `a.shape`, `len(a)` ?     \n",
    "- How does the above commands relate to the rows, columns, dimensions ?       \n",
    "- How do you access 2nd item of the first row ?   \n",
    "\n",
    "*Note:* \n",
    "Try to do the same with the following array:\n",
    "``` python\n",
    "b = np.array([[1,2,3], []])\n",
    "```"
   ]
  },
  {
   "cell_type": "code",
   "execution_count": null,
   "metadata": {},
   "outputs": [],
   "source": []
  },
  {
   "cell_type": "code",
   "execution_count": null,
   "metadata": {},
   "outputs": [],
   "source": []
  },
  {
   "cell_type": "markdown",
   "metadata": {},
   "source": [
    "**Exercise:** Elementwise operations\n",
    "\n",
    "In the code cell below, try simple arithmetic elementwise operations: \n",
    "- add even elements with odd elements using 2 different techniques\n",
    "- Time the two solution using %timeit.\n",
    "- Generate an array from a list made of strings and floats. What is the final array type ?\n",
    "- Generate 2 arrays such that their elements are as follow :    \n",
    "   `[2**0, 2**1, 2**2, 2**3, 2**4]`    \n",
    "   `a_i = 2^(3*i) - i `    \n"
   ]
  },
  {
   "cell_type": "code",
   "execution_count": null,
   "metadata": {
    "collapsed": true
   },
   "outputs": [],
   "source": []
  },
  {
   "cell_type": "markdown",
   "metadata": {},
   "source": [
    "### II.2 `array` copies and views:   <a class=\"anchor\" id=\"II.2\"></a>\n",
    "\n",
    "A slicing operation creates a **view** on the original array, which is just a way of accessing array data. Thus the original array is not copied in memory. You can use `np.may_share_memory()` to check if two arrays share the same memory block.\n",
    "To provide this behaviour, and create a brand new array from the slice of the original one *without modifying the latter*, you may use the method `copy()`: `c = a[0:2].copy()` will create a **new array** that is a **copy** of the first two elements of a. \n",
    "\n",
    "**When modifying the view, the original array is modified as well**. Try the cells below to understand how memory allocation work. "
   ]
  },
  {
   "cell_type": "code",
   "execution_count": null,
   "metadata": {},
   "outputs": [],
   "source": [
    "import numpy as np\n",
    "a = np.arange(10)\n",
    "a"
   ]
  },
  {
   "cell_type": "code",
   "execution_count": null,
   "metadata": {},
   "outputs": [],
   "source": [
    "b =m a[::2]\n",
    "b"
   ]
  },
  {
   "cell_type": "code",
   "execution_count": null,
   "metadata": {},
   "outputs": [],
   "source": [
    "np.may_share_memory(a, b)"
   ]
  },
  {
   "cell_type": "code",
   "execution_count": null,
   "metadata": {},
   "outputs": [],
   "source": [
    "b[0] = 12\n",
    "b"
   ]
  },
  {
   "cell_type": "code",
   "execution_count": null,
   "metadata": {},
   "outputs": [],
   "source": [
    "a   # (!)"
   ]
  },
  {
   "cell_type": "code",
   "execution_count": null,
   "metadata": {},
   "outputs": [],
   "source": [
    "a = np.arange(10)\n",
    "c = a[::2].copy()  # force a copfiy\n",
    "c[0] = 12\n",
    "a"
   ]
  },
  {
   "cell_type": "code",
   "execution_count": null,
   "metadata": {},
   "outputs": [],
   "source": [
    "np.may_share_memory(a, c)"
   ]
  },
  {
   "cell_type": "markdown",
   "metadata": {},
   "source": [
    "### II.3 Array shape manipulation <a class=\"anchor\" id=\"II.3\"></a>\n",
    "\n",
    "- **II.3.1 Flattening**:    \n",
    "The method `ravel()` flattens the array into a single-row array (each row of the array is merged with the previous one). "
   ]
  },
  {
   "cell_type": "code",
   "execution_count": null,
   "metadata": {},
   "outputs": [],
   "source": [
    "import numpy as np\n",
    "a = np.array([[1, 2, 3], [4, 5, 6]])\n",
    "a.ravel()"
   ]
  },
  {
   "cell_type": "code",
   "execution_count": null,
   "metadata": {},
   "outputs": [],
   "source": [
    "a.T   # Transpose the array"
   ]
  },
  {
   "cell_type": "code",
   "execution_count": null,
   "metadata": {},
   "outputs": [],
   "source": [
    "a.T.ravel()"
   ]
  },
  {
   "cell_type": "markdown",
   "metadata": {},
   "source": [
    "**Note**: `a.T` is a property of array `a` that returns the array transposed, while np.transpose(a) is a function that returns a view of the array(a) transposed. As a.T is a property of the object a, it is relatively quicker than the call of a function as you can test using the `%timeit` magic command. For N dim arrays, transpose() allows a bit more than just transposing (see below II.3.4.)"
   ]
  },
  {
   "cell_type": "code",
   "execution_count": null,
   "metadata": {},
   "outputs": [],
   "source": [
    "%timeit(a.transpose())\n",
    "%timeit(a.T)"
   ]
  },
  {
   "cell_type": "markdown",
   "metadata": {},
   "source": [
    "- **II.3.2 Reshaping**:   \n",
    "The method `reshape(newshape)` allows one to reorganise the elements of an array, to create a \"new\" array (see below) that has a different shape. The total number of items of the array has to be the same ! "
   ]
  },
  {
   "cell_type": "code",
   "execution_count": null,
   "metadata": {},
   "outputs": [],
   "source": [
    "a.shape"
   ]
  },
  {
   "cell_type": "code",
   "execution_count": null,
   "metadata": {},
   "outputs": [],
   "source": [
    "b = a.ravel()\n",
    "b = b.reshape((2, 3))\n",
    "b"
   ]
  },
  {
   "cell_type": "code",
   "execution_count": null,
   "metadata": {},
   "outputs": [],
   "source": [
    "# Alternatively \n",
    "a.reshape((2, -1))    # unspecified (-1) value is inferred"
   ]
  },
  {
   "cell_type": "markdown",
   "metadata": {},
   "source": [
    "**WARNING:** Reshaping may return a **view** or a **copy** !"
   ]
  },
  {
   "cell_type": "code",
   "execution_count": null,
   "metadata": {},
   "outputs": [],
   "source": [
    "a = np.array([[1, 2, 3], [4, 5, 6]])\n",
    "b=a.ravel()\n",
    "b=b.reshape((2,3))\n",
    "# Let's modify b and show a to see if we have a view or a copy ... \n",
    "b[0, 0] = 99\n",
    "a\n"
   ]
  },
  {
   "cell_type": "code",
   "execution_count": null,
   "metadata": {},
   "outputs": [],
   "source": [
    "# let's now create an array with np.zeros and reshape it \n",
    "a = np.zeros((3, 2))\n",
    "b = a.T.reshape(3*2)\n",
    "b[0] = 9\n",
    "a\n"
   ]
  },
  {
   "cell_type": "markdown",
   "metadata": {},
   "source": [
    "To understand this you need to learn more about the memory layout of a numpy array. This is beyond the scope of this class. "
   ]
  },
  {
   "cell_type": "markdown",
   "metadata": {},
   "source": [
    "- **II.3.3 Adding a dimension**:\n",
    "\n",
    "Indexing with the `np.newaxis` object allows us to add an axis to an array. You can also use the `reshape` method.  "
   ]
  },
  {
   "cell_type": "code",
   "execution_count": null,
   "metadata": {},
   "outputs": [],
   "source": [
    "z = np.array([1, 2, 3])\n",
    "z"
   ]
  },
  {
   "cell_type": "code",
   "execution_count": null,
   "metadata": {},
   "outputs": [],
   "source": [
    "z[:, np.newaxis]"
   ]
  },
  {
   "cell_type": "code",
   "execution_count": null,
   "metadata": {},
   "outputs": [],
   "source": [
    "z[:, np.newaxis].shape"
   ]
  },
  {
   "cell_type": "code",
   "execution_count": null,
   "metadata": {},
   "outputs": [],
   "source": [
    "z[np.newaxis, :]"
   ]
  },
  {
   "cell_type": "code",
   "execution_count": null,
   "metadata": {},
   "outputs": [],
   "source": [
    "z[np.newaxis, :].shape"
   ]
  },
  {
   "cell_type": "code",
   "execution_count": null,
   "metadata": {},
   "outputs": [],
   "source": [
    "# An alternative is to reshape your array\n",
    "y = np.array([1, 2, 3])\n",
    "\n",
    "# When one shape dimension is -1, the value is inferred from the length of the array and remaining dimensions.\n",
    "y = y.reshape((-1,1))   \n",
    "y.shape"
   ]
  },
  {
   "cell_type": "code",
   "execution_count": null,
   "metadata": {},
   "outputs": [],
   "source": [
    "y = np.array([1, 2, 3])\n",
    "y = y.reshape((1,-1))\n",
    "y.shape"
   ]
  },
  {
   "cell_type": "markdown",
   "metadata": {},
   "source": [
    "- **II.3.4. Dimension shuffling**:"
   ]
  },
  {
   "cell_type": "code",
   "execution_count": null,
   "metadata": {},
   "outputs": [],
   "source": [
    "a = np.arange(4*3*2).reshape(4, 3, 2)\n",
    "a.shape"
   ]
  },
  {
   "cell_type": "code",
   "execution_count": null,
   "metadata": {
    "collapsed": true
   },
   "outputs": [],
   "source": [
    "a[0, 2, 1]"
   ]
  },
  {
   "cell_type": "code",
   "execution_count": null,
   "metadata": {
    "collapsed": true
   },
   "outputs": [],
   "source": [
    "b = a.transpose(1, 2, 0)\n",
    "b.shape"
   ]
  },
  {
   "cell_type": "code",
   "execution_count": null,
   "metadata": {
    "collapsed": true
   },
   "outputs": [],
   "source": [
    "b[2, 1, 0]"
   ]
  },
  {
   "cell_type": "code",
   "execution_count": null,
   "metadata": {
    "collapsed": true
   },
   "outputs": [],
   "source": [
    "# Check that shuffling dimensions creates a view of the array"
   ]
  },
  {
   "cell_type": "markdown",
   "metadata": {},
   "source": [
    "- **II.3.5. Resizing**: \n",
    "\n",
    "Size of an array can be changed with `ndarray.resize`:"
   ]
  },
  {
   "cell_type": "code",
   "execution_count": null,
   "metadata": {},
   "outputs": [],
   "source": [
    "a = np.arange(4)\n",
    "a.resize((8,))   # you give as argument the new shape of the array\n",
    "a\n"
   ]
  },
  {
   "cell_type": "markdown",
   "metadata": {},
   "source": [
    "However, it must not be referred to somewhere else:"
   ]
  },
  {
   "cell_type": "code",
   "execution_count": null,
   "metadata": {},
   "outputs": [],
   "source": [
    "b = a\n",
    "a.resize((4,))   "
   ]
  },
  {
   "cell_type": "markdown",
   "metadata": {},
   "source": [
    "**Exercises:**\n",
    "\n",
    "- Use flatten as an alternative to ravel. What is the difference? (Hint: check which one returns a view and which a copy)\n",
    "- Experiment with transpose for dimension shuffling.\n"
   ]
  },
  {
   "cell_type": "code",
   "execution_count": null,
   "metadata": {},
   "outputs": [],
   "source": []
  },
  {
   "cell_type": "markdown",
   "metadata": {},
   "source": [
    "- **II.3.6. Meshgrid**: \n",
    "\n",
    "A very useful method that returns coordinate matrices from coordinate vectors. This is extremely useful when you want to evaluate a function on a grid (i.e. $z = f(x, y)$) ... which is something very common in observational astronomy ! This is also useful when you want to do contour plots (to e.g. interpolate over a regular grid). \n",
    "\n",
    "The way to proceed is to define your `x` and `y` vectors (corresponding to the (x,y) coordinates on a grid is the following:\n",
    "``` python\n",
    "x_vec, y_vec = np.linspace(0, 5, 6), np.linspace(0, 5, 3)\n",
    "X, Y = meshgrid(x_vec,y_vec)\n",
    "\n",
    "# Now you can evaluate the function z = (x**2 + y**2)\n",
    "Z = X**2 + Y**2\n",
    "```\n",
    "\n",
    "`X` and `Y` created  with meshgrid() are now arrays of shape (3, 6) (3 rows and 6 columns) containing respectively coordinate x (for X) and y (for Y) of each grid element. This can be generalised to larger dimensions !\n",
    "\n",
    "So, the array `Z` of shape (3,6) corresponds to points with the following coordinates:\n",
    "\n",
    "['(0.0,0.0)', '(1.0,0.0)', '(2.0,0.0)', '(3.0,0.0)', '(4.0,0.0)', '(5.0,0.0)']   \n",
    "['(0.0,2.5)', '(1.0,2.5)', '(2.0,2.5)', '(3.0,2.5)', '(4.0,2.5)', '(5.0,2.5)']   \n",
    "['(0.0,5.0)', '(1.0,5.0)', '(2.0,5.0)', '(3.0,5.0)', '(4.0,5.0)', '(5.0,5.0)']   \n",
    "\n",
    "** Note: **\n",
    "This function supports both indexing conventions through the indexing keyword argument.  Giving the string 'ij' returns a meshgrid with matrix indexing, while 'xy' returns a meshgrid with Cartesian indexing. In the 2-D case with inputs of length M and N, the outputs are of shape (N, M) for 'xy' indexing and (M, N) for 'ij' indexing.  In the 3-D case with inputs of length M, N and P, outputs are of shape (N, M, P) for 'xy' indexing and (M, N, P) for 'ij' indexing. In other words, indexing 'ij' yields a transposed version of the array obtained with indices i,j. See `help(meshgrid)` for more details. "
   ]
  },
  {
   "cell_type": "code",
   "execution_count": null,
   "metadata": {},
   "outputs": [],
   "source": [
    "# Experiment with \"meshgrid()\" following the code above. \n",
    "import numpy as np\n",
    "x_vec, y_vec = np.linspace(0, 5, 6), np.linspace(0, 5, 3)\n",
    "X, Y = np.meshgrid(x_vec,y_vec)\n",
    "def gauss2D(X, Y):\n",
    "    return np.exp( -0.5*(X**2 + Y**2) )\n",
    "\n",
    "gauss2D(X, Y)\n",
    "# Try to write a command that prints at the screen the coordinates of the grid elements (as above) (TIP: you do not need meshgrid)"
   ]
  },
  {
   "cell_type": "markdown",
   "metadata": {},
   "source": [
    "** Exercise **: \n",
    "\n",
    "We will use meshgrid [later](Modules_in__python_matplotlib.ipynb#meshgrid), after we have learned how to visualise results with `python`. "
   ]
  },
  {
   "cell_type": "markdown",
   "metadata": {},
   "source": [
    "### II.4 What makes `numpy` arrays useful structures ?  <a class=\"anchor\" id=\"II.4\"></a>\n",
    "\n",
    "Python is fast *for coding and developping* but python is slow when it comes to *execution*, especially when it comes to execution of `for` loops.    \n",
    "The reason behind this low speed is e.g. that when it does `for a in range(10): a + b`, it has to check the `type` of `a`, of `b` and of *each value* in those lists before executing. \n",
    "\n",
    "`numpy` helps speeding up code through 4 strategies:\n",
    "1. `ufunc`\n",
    "2. aggregation\n",
    "3. broadcasting\n",
    "4. slicing, masking, fancy indexing"
   ]
  },
  {
   "cell_type": "markdown",
   "metadata": {},
   "source": [
    "#### II.4.1 `ufunc`: operates elementwise on objects. <a class=\"anchor\" id=\"II.4.1\"></a>\n",
    "\n",
    "Those `ufunc` are included (compiled) in `numpy`. They include: \n",
    "\n",
    "- all mathematic operation: +, -, /, *, `**`, \n",
    "- Mathematical expressions: sin, exp, cos, log10, ... \n",
    "- Comparison operators <, >, =, ...\n",
    "- etc ... \n",
    "\n",
    "** Example:**\n",
    "``` python\n",
    "import numpy as np\n",
    "# Basic python\n",
    "a = [1,2,3,4,5]\n",
    "b = [ a + val for val in a]   # add 5 to each element of the list\n",
    "# In numpy\n",
    "a = np.array(a)\n",
    "b = a + 5                     # add 5 to each element of the array.\n",
    "```"
   ]
  },
  {
   "cell_type": "code",
   "execution_count": null,
   "metadata": {},
   "outputs": [],
   "source": [
    "# implement the above example for a list of 1000 elements \n",
    "# use %timeit before calculating b to see improvement in speed\n"
   ]
  },
  {
   "cell_type": "markdown",
   "metadata": {},
   "source": [
    "#### II.4.2 *aggregation*:   <a class=\"anchor\" id=\"II.4.2\"></a>\n",
    "\n",
    "Functions which summarize values of an array such as `min`, `max`, `sum`, `mean`, ... \n",
    "\n",
    "** Example: **\n",
    "\n",
    "``` python\n",
    "# python version of an agregation\n",
    "from random import random\n",
    "c = [ random() for i in range(10000) ]\n",
    "%timeit min(c)\n",
    "#same in numpy:\n",
    "c = np.array(c)\n",
    "%timeit c.min()  \n",
    "```\n",
    "This also works on multidimensional arrays: \n",
    "\n",
    "``` python \n",
    "M = np.random.randint(0, 10, (10,4))\n",
    "M.sum(axis=0)\n",
    "M.sum(axis=1)\n",
    "```\n",
    "\n",
    "Aggregation available: \n",
    "`np.min()`, `np.max`, `np.prod()`, `np.mean()`, `np.std()`, `np.median()`, `np.any()`, `np.all()`, `np.nanmin()` (and nan versions of above aggregation), `np.argmin()`, `np.argmax()`, `np.percentile()`, ...\n"
   ]
  },
  {
   "cell_type": "code",
   "execution_count": null,
   "metadata": {},
   "outputs": [],
   "source": [
    "import numpy as np\n",
    "from random import random\n",
    "c = [ random() for i in range(1000) ]\n",
    "%timeit min(c)\n",
    "#same in numpy:\n",
    "c = np.array(c)\n",
    "%timeit c.min() "
   ]
  },
  {
   "cell_type": "markdown",
   "metadata": {},
   "source": [
    "#### II.4.3 *Broadcasting*:   <a class=\"anchor\" id=\"II.4.3\"></a>\n",
    "\n",
    "Set of rules by which `ufuncs` operates on arrays of different sizes and/or dimensions. \n",
    "\n",
    "The term [broadcasting](https://docs.scipy.org/doc/numpy/user/basics.broadcasting.html) describes how `numpy` treats arrays with different shapes during arithmetic operations. Subject to certain constraints, the smaller array is “broadcast” across the larger array so that they have compatible shapes. Broadcasting provides a means of vectorizing array operations so that looping occurs in C instead of Python. It does this without making needless copies of data and usually leads to efficient algorithm implementations. There are, however, cases where broadcasting is a bad idea because it leads to inefficient use of memory that slows computation.\n",
    "Application to three cases: \n",
    "\n",
    "![From astroML book](Figures/fig_broadcast_visual_1.png)\n",
    "\n",
    "\n",
    "\n",
    "The rules / how this works:\n",
    "\n",
    "* If array shapes differ, left-pad the smaller shape with 1s \n",
    "* If any dimension does not match, broadcast the dimension with size 1\n",
    "* If neither non matching dimensions is 1 raise an error\n",
    "\n",
    "This broadcasting strategy allows one to avoid doing `for` loops for some operations. \n"
   ]
  },
  {
   "cell_type": "markdown",
   "metadata": {},
   "source": [
    "#### II.4.4 Slicing, masking and fancy indexing:    <a class=\"anchor\" id=\"II.4.4\"></a>\n",
    "\t \n",
    "- **Mask**: a mask is a boolean array that can be used to \"mask\" some indices of an array: \n",
    "\n",
    "``` python\n",
    "mask = np.array([False, False, True, False, True, False])\n",
    "c = np.array([1, 3, 6, 9, 10, 2])\n",
    "c[mask]\n",
    "    Out: array([6, 10])\n",
    "    \n",
    "mask = (c < 4) | (c > 8)\n",
    "c[mask]\n",
    "    Out: array([1, 3, 9, 10, 2])\n",
    "```\n",
    " "
   ]
  },
  {
   "cell_type": "code",
   "execution_count": null,
   "metadata": {},
   "outputs": [],
   "source": [
    "mask = np.array([False, False, True, False, True, False])\n",
    "c = np.array([1, 3, 6, 9, 10, 2])\n",
    "c[mask]"
   ]
  },
  {
   "cell_type": "markdown",
   "metadata": {},
   "source": [
    "- **Fancy indexing**: passing a list/array of indices to get elements of a numpy array  (this only works for arrays !) This avoids to loop over the indices. \n",
    "\n",
    "``` python\n",
    "ind = [1, 3, 4]\n",
    "c[ind]  \n",
    "   Out: array([3, 9, 10])\n",
    "```"
   ]
  },
  {
   "cell_type": "code",
   "execution_count": null,
   "metadata": {},
   "outputs": [],
   "source": [
    "ind = [1, 3, 4]\n",
    "print c\n",
    "print c[ind]"
   ]
  },
  {
   "cell_type": "markdown",
   "metadata": {},
   "source": [
    "- **Multi-dimensional** array: \n",
    "\n",
    "We can apply mask and fancy indexing in multidimension.   \n",
    "Remember that first index is row, and second is column.   \n",
    "Remember how slicing works: `a[start:end:step]`   : \n",
    "- Omitting one value goes up to the end of the sequence. \n",
    "- Omitting the second \"colon\" implies step=1.  \n",
    "- With negative steps you count backward\n",
    "- Start/step can be either positive or negative indices (but then you count from the end). "
   ]
  },
  {
   "cell_type": "code",
   "execution_count": null,
   "metadata": {},
   "outputs": [],
   "source": [
    "a = np.arange(10)\n",
    "print a\n",
    "a[a>3]"
   ]
  },
  {
   "cell_type": "markdown",
   "metadata": {},
   "source": [
    "``` python\n",
    "M = np.arange(12).reshape((3,4))\n",
    "    Out: \n",
    "    array([[ 0,  1,  2,  3],\n",
    "           [ 4,  5,  6,  7],\n",
    "           [ 8,  9, 10, 11]])\n",
    "\n",
    "M[0,1] # gives value at row 0 and column 1. \n",
    "M[:, 1]  # Combines slices and indices -> all rows of column one\n",
    "M[M-3 < 2]# can also do masking of n dimensional array\n",
    "M[[1,0], :2] # Use fancy indexing and slicing - 1st 2 elements, of rows 1 and 2\n",
    "M[M.sum(axis=1) > 2, 4:] # mixing masking and slicing \n",
    "```\n",
    "\n",
    "An illustration of indexing in numpy arrays:\n",
    "![Illustration of `np` indexing](Figures/numpy_indexing.png)\n",
    "\n",
    "**Exercise**:\n",
    "- Try the different flavours of slicing, using start, end and step: starting from a linspace, try to obtain odd numbers counting backwards, and even numbers counting forwards.\n",
    "\n",
    "- Reproduce the slices in the diagram above. You may use the following expression to create the array:    \n",
    "`np.arange(6) + np.arange(0, 51, 10)[:, np.newaxis]`"
   ]
  },
  {
   "cell_type": "code",
   "execution_count": null,
   "metadata": {},
   "outputs": [],
   "source": [
    "# Implement the exercise above\n",
    "np.arange(6) + np.arange(0, 51, 10)[:, np.newaxis]"
   ]
  },
  {
   "cell_type": "markdown",
   "metadata": {},
   "source": [
    "#### II.5 Reading arrays from a file and string formatting:    <a class=\"anchor\" id=\"II.5\"></a>\n",
    "\n",
    "Reading tables saved in a formated text file can be done with `numpy.loadtxt('myfile.txt')`, while saving your array is done with `numpy.savetxt('myfile.txt')`.   \n",
    "Clever loading of text/csv files: `numpy.genfromtxt()`/`numpy.recfromcsv()`. Those commands can fill missing values in a table, read column names, exclude some columns, and guess data-type using `dtype = None`.   \n",
    "Fast and efficient, but numpy-specific, binary format: `numpy.save()`/`numpy.load()`."
   ]
  },
  {
   "cell_type": "markdown",
   "metadata": {},
   "source": [
    "There is another flexible way to read/write in file, which is through the use of the `file()` object. For this, three operations are generally needed: \n",
    "``` python\n",
    "f = open('myfile.txt', 'r')  # 'r' for read mode, 'w' for write mode, 'a' for append mode\n",
    "f.read()  # this would read the whole file as a single string ; other methods allow one more flexible read\n",
    "f.close() \n",
    "```\n",
    "If you do `f.read()` twice, you will see an empty string ... as the file then \"points\" to the end of the file, and there is nothing left to read. Somehow, the methods that access the file object go sequentially through the \"string content\" of that object. With `read()` you take the string as a whole (which could be a problem memore-wise if the file is large !).    \n",
    "\n",
    "There is several ways to do this. One is by using a `for` loop:\n",
    "``` python\n",
    "f = open('myfile.txt', 'r')\n",
    "for line in f:\n",
    "    print repr(line)\n",
    "```"
   ]
  },
  {
   "cell_type": "code",
   "execution_count": null,
   "metadata": {},
   "outputs": [],
   "source": [
    "f = open('data.txt', 'r')\n",
    "for line in f:\n",
    "    print repr(line)   # repr(object) return the canonical string representation of the object"
   ]
  },
  {
   "cell_type": "code",
   "execution_count": null,
   "metadata": {},
   "outputs": [],
   "source": [
    "f = open('data.txt', 'r')\n",
    "#for line in f.readlines():\n",
    "#    print repr(line)\n",
    "a = f.readlines()\n",
    "a[10].replace('.', ',')"
   ]
  },
  {
   "cell_type": "markdown",
   "metadata": {},
   "source": [
    "Each line is being returned as a string. Notice the \\n at the end of each line - this is a line return character, which indicates the end of a line.\n",
    "\n",
    "Alternatively, you could also do:\n",
    "``` python\n",
    "f = open('myfile.txt', 'r')\n",
    "for line in f.readlines():\n",
    "    print repr(line)\n",
    "```\n",
    "BUT `f.readlines()` actually reads in the whole file and splits it into a **list** of lines (while `for line in f` reads one line at a time), so for large files this can be memory intensive. The above option is therefore prefered.     \n",
    " \n",
    "Once a line is read, it is possible to apply string methods, as on normal string:    \n",
    "- Remove `\\n`: `line.strip()`\n",
    "- Split the string into list of strings: `line.split()`\n",
    "- Replace a specific character by another: `line.replace(',', '.')`  # replace comma by a dot.\n",
    "- Access a specific element of a splitter list and convert it to float: `float(line.split()[2])`\n",
    "\n",
    "To write a file, you basically follow the same procedure: \n",
    "``` python\n",
    "f = open('myfile.txt', 'w')\n",
    "f.writelines(mylist_of_lines)   # mylist_of_lines contains the lines you want to write. Ensure that they end with `\\n`\n",
    "\n",
    "# you can also use:\n",
    "f.write(mylist_of_lines[0]+mylist_of_lines[1]+ ... + mylist_of_lines_[n])  # you can use list comprenhesion as argument\n",
    "f.close()\n",
    "```\n",
    "\n",
    "**Exercise:**\n",
    "\n",
    "Read the file `data.txt` and display the some columns you care about for that file using:\n",
    "- the file object\n",
    "- Try to do the same using `numpy.loadtxt()`  \n",
    "- Try to do the same using using `numpy.genfromtxt()`.   \n",
    "Bonus:      \n",
    "- Try to build a numpy array with the data in data.txt as read using f = open('data.txt'). \n",
    "- Modify 1 column of the file (replace it with 0) and write the results in `data_new.txt`\n",
    "\n",
    "**Note: **\n",
    "\n",
    "Those methods/functions for reading ascii files are not always optimal to read tables containing both string and floats. Other packages, such as `pandas` and `astropy`, offer more flexible functions to read large variety and formats of tables.    "
   ]
  },
  {
   "cell_type": "markdown",
   "metadata": {},
   "source": [
    "#### Formatting Strings\n",
    "\n",
    "It often happens that you do not need to save all the decimals of a number, or would like to see it in scientific notation. For that purpose, you need to use the `%` operator to specify the formatting of the variable you want to show at the screen or save in a file. The variable does not appear explicitly in the string but after it in a tuple, preceded by the `%`. Within the string, the `%` operator will be followed by a format string such as `%f` for a float or `%e` for scientific notation. The sequence `'%.2f'%variable` basically tells that the `%` operator converts the `variable` into a float with 2 digits after the dot. This is generalized to a sequence of variable, by defining the tuple object that contains all the variables to be formatted (but you need to specify the format you want for those, the association between the format and the variable being done easily as you have put your variable into a tuple-object).   \n",
    "\n",
    "Example:\n",
    "``` python\n",
    "print '%i is the square of %i' %(4.000, 2)\n",
    "    Out: 4 is the square of 2\n",
    "```"
   ]
  },
  {
   "cell_type": "code",
   "execution_count": null,
   "metadata": {},
   "outputs": [],
   "source": [
    "a, b = 5.00000, 2.32425\n",
    "print '%.i dsasoigaos %.3f hgfkafk' %(a,b)\n",
    "print '%i' %a, 'afadjsfha %.3e' %b "
   ]
  },
  {
   "cell_type": "markdown",
   "metadata": {},
   "source": [
    "Here are some commonly used formatting characters:\n",
    "- `%s`: String (or any object with a string representation, like numbers)\n",
    "- `%d` or `%i`: Integers\n",
    "- `%.<number_of_digits>f`: Floating point numbers with fixed number of digits to the right of the dot. \n",
    "- `%.<number_of_digits>e`: scientific notation with fixed number of digits to the right of the dot.\n",
    "You may find more about string formatting in [python 2 documentation](https://docs.python.org/2/library/stdtypes.html#string-formatting).  \n",
    "\n",
    "**Note**: There is another very useful way in python to save \"full objects\" and access and use them latter using all their characteristics. This can be done by importing the `pickle` [module](https://docs.python.org/2/library/pickle.html), or even better (faster) [cPickle]( http://docs.python.org/library/pickle.html#module-cPickle). When you want to write a pickle into a file, simply open your file (`pkl_file = open()`), use `pickle.dump(obj, pkl_file, protocol=-1)`, and close your file (`pkl_file.close()`). To read an object saved in a pickle file, you can follow the same procedure but use `\tobj = pickle.load(pkl_file)` instead of `pickle.dump()`. The `pandas` module also allows you to read/write pickle objects: see `pandas.read_pickle()` and `pandas.to_pickle()`"
   ]
  },
  {
   "cell_type": "code",
   "execution_count": null,
   "metadata": {},
   "outputs": [],
   "source": [
    "# Create three float variables a, b, c and give them some value (e.g. a=2.3, b=3, c=-5). \n",
    "# Print the sentence: `a=2.00, b=3 and c=-5.00e+00` using the formating format described above.\n",
    "a, b, c = 2.3, 3, -5\n",
    "print \"a = %.2f , b= %i and c= %.2e\" %(a,b,c)"
   ]
  },
  {
   "cell_type": "code",
   "execution_count": null,
   "metadata": {},
   "outputs": [],
   "source": [
    "# Create a 1-D array of 5 floats and print their value with 2 digits floats. TIP: use list comprehension\n",
    "a = np.linspace(0,1,5)\n",
    "print ['%.2f' %i for i in a]"
   ]
  },
  {
   "cell_type": "markdown",
   "metadata": {},
   "source": [
    "### II.6 Summary:   <a class=\"anchor\" id=\"II.6\"></a>\n",
    "\n",
    "What do you need to know to get started?\n",
    "\n",
    "- Know how to create arrays : `np.array`, `np.arange`, `np.ones`, `np.zeros`.\n",
    "\n",
    "- Know the shape of the array with `array.shape`, then use *slicing* to obtain different views of the array: `array[start:end:step]` (and variations around that syntax). Adjust the shape of the array using reshape or flatten it with ravel.\n",
    "\n",
    "- Obtain a subset of the elements of an array and/or modify their values with masks (`a[a < 0] = 0`).\n",
    "\n",
    "- Know miscellaneous operations on arrays, such as finding the mean or max (`ufunct`: `array.max()`, `array.mean()`). No need to retain everything, but have the reflex to search in the documentation (online docs, `help()`, `lookfor()`)!!\n",
    "\n",
    "- Master the *indexing* with arrays of integers, as well as *broadcasting*. Know more NumPy functions to handle various array operations.\n",
    "\n",
    "- Be able to read/write date into a file, and format numbers at screen (or when writing them into files): `open()`, `close()`, `np.savetxt()/np.loadtxt()`, use of `%` operator. \n"
   ]
  },
  {
   "cell_type": "markdown",
   "metadata": {
    "collapsed": true
   },
   "source": [
    "## II.7 References and supplementary material: <a class=\"anchor\" id=\"VI\"></a>\n",
    "\n",
    "- Excellent video introducing numpy (and that inspired part of the numpy section of this notebook) by J. Vandeplas: https://www.youtube.com/watch?v=EEUXKG97YRw\n",
    "\n",
    "- Numpy quick-start: https://docs.scipy.org/doc/numpy-dev/user/quickstart.html\n"
   ]
  },
  {
   "cell_type": "code",
   "execution_count": null,
   "metadata": {},
   "outputs": [],
   "source": []
  }
 ],
 "metadata": {
  "anaconda-cloud": {},
  "kernelspec": {
   "display_name": "Python 2",
   "language": "python",
   "name": "python2"
  },
  "language_info": {
   "codemirror_mode": {
    "name": "ipython",
    "version": 2
   },
   "file_extension": ".py",
   "mimetype": "text/x-python",
   "name": "python",
   "nbconvert_exporter": "python",
   "pygments_lexer": "ipython2",
   "version": "2.7.13"
  }
 },
 "nbformat": 4,
 "nbformat_minor": 1
}
