{
 "cells": [
  {
   "cell_type": "markdown",
   "metadata": {},
   "source": [
    "# Python modules & introduction to `numpy`, `scipy`, `matplotlib`"
   ]
  },
  {
   "cell_type": "markdown",
   "metadata": {},
   "source": [
    "## Table of Content\n",
    "\n",
    "- [I. What is a module ?](#I.--What-is-a-module-?)\n",
    "- [II. Numpy](#II): See the separate Notebook [Modules_in__python_numpy.ipynb](Modules_in__python_numpy.ipynb). It coverss the following topics:\n",
    "    * II.1 Array Definition and construction\n",
    "    * II.2 Array copies and views\n",
    "    * II.3 Shape manipulation\n",
    "    * II.4 What makes numpy Arrays useful structures ?: `ufunc`, Aggregation, Broadcasting, Slicing, masking and fancy indexing. \n",
    "    * II.5 Reading arrays from a file and string formatting\n",
    "- [III. Matplotlib](#III) See the separate Notebook [Modules_in__python_matplolib.ipynb](Modules_in__python_matplotlib.ipynb)\n",
    "    * [III.1 Simple plot](#III.1)\n",
    "    * [III.2 A bit more advanced plotting](#III.2)\n",
    "        - [III.2.1 Plot properties](#III.2.1)\n",
    "        - [III.2.2 Create multiple subplots](#III.2.2)\n",
    "        - [III.2.3 Twin axes](#III.2.3)\n",
    "        - [III.2.4 Export your figure](#III.2.4)\n",
    "- [IV. Scipy](#IV) See the separate Notebook [Modules_in__python_scipy.ipynb](Modules_in__python_scipy.ipynb)\n",
    "- [V. The standard library](#V) See the separate Notebook [Modules_in__python_scipy.ipynb](Modules_in__python_scipy.ipynb)\n",
    "- [VI. References and supplementary material](#VI)"
   ]
  },
  {
   "cell_type": "markdown",
   "metadata": {},
   "source": [
    "## I.  What is a module ?\n",
    "\n",
    "We have seen the main structures/objects (e.g. `list`, `dictionary`) during the last lecture as well as methods attached to those (e.g. `list.append(val)`). We have also seen how to build functions (kind of scripts that allow you to automatize some sequences of operations). The  Notebook [Recap_python_L1.ipynb](Recap_python_L1.ipynb) summarizes the main things we have learned. \n",
    "\n",
    "If you quit from the `Ipython` interpreter and enter it again, the definitions you have made (functions and variables) are lost. Therefore, if you want to write a somewhat longer program, you'd better use a text editor to prepare the input for the interpreter and run it with that file as input instead. This is known as creating a script. As your program gets longer, you may want to split it into several files for easier maintenance. You may also want to use a handy function that you’ve written in several programs without copying its definition into each program.\n",
    "\n",
    "To support this, Python has a way to put definitions in a file and use them in a script or in an interactive instance of the interpreter. Such a file is called a module; definitions from a module can be imported into other modules or into the main module (the collection of variables that you have access to in a script executed at the top level and in calculator mode).\n",
    "\n",
    "A module is a file containing Python definitions and statements. The file name is the module name with the suffix `.py` appended. When you want to make use of a module in a program or in an interactive window, you should simply do: \n",
    "``` python\n",
    "import module\n",
    "```\n",
    "Then, you call functions in you script simply by doing `module.funtion()`. \n",
    "\n",
    "** Example **: \n",
    "In file `myawesomemodule.py`, we have written\n",
    "``` python\n",
    "def talk():\n",
    "    print 'What do you want master ?'\n",
    "    return\n",
    "```\n",
    "\n",
    "Then, in Ipython/Jupyter, you can simply do: \n",
    "``` python \n",
    "import myawesomemodule\n",
    "myawesomemodule.talk()   # call the function talk() you have defined in myawesomemodule.py\n",
    "    Out: 'What do you want master ?'\n",
    "\n",
    "# you can also do this the following way\n",
    "import myawesomemodule as ms\n",
    "ms.talk()\n",
    "\n",
    "# or, if you want to only call the function talk:\n",
    "from myawesomemodule import talk\n",
    "talk()\n",
    "\n",
    "```\n",
    "\n",
    "Sometimes, you'll also hear about *packages*. *Packages* are simply ensemble of modules, and you load/import them the same way you do for modules. \n",
    "\n",
    "**Exercise:**\n",
    "\n",
    "Create a module, that you will call `area`, that calculates areas of simple geometric figures.   \n",
    "You can start with a square, and a circle."
   ]
  },
  {
   "cell_type": "code",
   "execution_count": 23,
   "metadata": {},
   "outputs": [
    {
     "name": "stdout",
     "output_type": "stream",
     "text": [
      "What do you want master ?\n"
     ]
    }
   ],
   "source": [
    "# Import the module `area` you have created and calculate the area of a square of side s=2; circle of radius r=2)\n",
    "#import myawesomemodule as ms \n",
    "reload(myawesomemodule)\n",
    "import area\n",
    "# talk()\n",
    "#print area.square(2)\n",
    "#print area.circle(2)"
   ]
  },
  {
   "cell_type": "markdown",
   "metadata": {},
   "source": [
    "In python, there is `.pyc` files often generated with the same name as the module/~~script~~ you are importing/~~running~~. Imagine you have a module `sayhello.py`. When you import your module the first time, a file `sayhello.pyc` will be created, that contains an already-\"byte-compiled\" version of `sayhello.py` to speed up the execution. The modification time of the version of `sayhello.py` used to create `sayhello.pyc` is recorded in `sayhello.pyc`, and the `.pyc` file is ignored if these don't match. A program does not run faster when read from a `pyc` instead of a `py`, but **it is loaded** more quickly.  \n",
    "\n",
    "If you have loaded your module in an `Ipython` and then modify it with an editor, it won't account directly for your modifications (because the `pyc` has not been re-compiled). You need to [reload()](https://docs.python.org/2/library/functions.html#reload) your module to implement your changes in the current session. \n",
    "\n",
    "** Notes: **\n",
    "When a module named `spam` is imported, the interpreter first searches for a built-in module with that name. If not found, it then searches for a file named `spam.py` in a list of directories given by the variable `sys.path` (see below). `sys.path` is initialized from these locations:\n",
    "- the directory containing the input script (or the current directory).\n",
    "- `PYTHONPATH` (a list of directory names, with the same syntax as the shell variable PATH).\n",
    "- the installation-dependent default.\n",
    "\n",
    "After initialization, Python programs can modify `sys.path`. The directory containing the script being run is placed at the beginning of the search path, ahead of the standard library path. This means that scripts in that directory will be loaded instead of modules of the same name in the library directory. This is an error unless the replacement is intended."
   ]
  },
  {
   "cell_type": "markdown",
   "metadata": {},
   "source": [
    "*TIP*: You can create your own modules ovbiously, but one of the great asset of python is the availability of a **huge** library of third-party modules, often designed by scientists for scientists (including astronomers !). Some of these modules introduce new structures/objects that you may have to masterize/understand by yourself. There is some modules that **YOU NEED TO KNOW** to efficiently work on data-science related projects: `numpy`, `scipy` and `matplotlib` ... We will extensively use those modules when studying numerical methods for data analysis. \n"
   ]
  },
  {
   "cell_type": "markdown",
   "metadata": {},
   "source": [
    "## II. `numpy`:  <a class=\"anchor\" id=\"II\"></a>\n",
    "\n",
    "`numpy` can be seen as the implementation of mathematical functions and operations for python language. It also introduces one key object `arrays`. An introduction to this module is given in [Modules_in__python_numpy.ipynb](Modules_in__python_numpy.ipynb)"
   ]
  },
  {
   "cell_type": "markdown",
   "metadata": {},
   "source": [
    "## III. `matplotlib`: Visualisation with python   <a class=\"anchor\" id=\"III\"></a>\n",
    "\n",
    "An introduction to this module is given in [Modules_in__python_matplotlib.ipynb](Modules_in__python_matplotlib.ipynb)\n",
    "\n",
    "*What is `matplotlib` ?* Matplotlib is a python 2-d plotting library which produces publication quality figures in a variety of formats and interactive environments across platforms. Matplotlib can be used in Python scripts, the Python and IPython shell, web application servers, and six graphical user interface toolkits. A good way to see the matplotlib capabilities is to skim through the [documentation](http://matplotlib.sourceforge.net), and more specifically have a look to the [Thumbnail gallery](http://www.matplotlib.sourceforge.net/gallery.html). See the Section [References](#VI) of this notebook to find more specific links to Matplotlib documentation.\n",
    "\n",
    "In order to be able to plot a figure, you may import the `pyplot` package using \n",
    "``` python\n",
    "import matplotlib.pyplot as plt\n",
    "```\n",
    "This package gives you access to set of commands that are similar to `MATLAB` commands. \n",
    "In addition, within a `JuPyter` notebook, you may want to see your figure within your notebook. For this purpose, you need (e.g. at the begining of your notebook, or before making your first figure) use the `magic` command\n",
    "``` python\n",
    "%matplotlib inline\n",
    "```"
   ]
  },
  {
   "cell_type": "markdown",
   "metadata": {},
   "source": [
    "## IV. `scipy`  <a class=\"anchor\" id=\"IV\"></a>\n",
    "\n",
    "An introduction to this package is given in [Modules_in__python_scipy.ipynb](Modules_in__python_scipy.ipynb)\n",
    "\n",
    "The scipy package contains various toolboxes dedicated to common issues in scientific computing. Its different submodules correspond to different applications, such as interpolation, integration, optimization, image processing, statistics, special functions, etc.\n",
    "\n",
    "`scipy` can be compared to other standard scientific-computing libraries, such as the GSL (GNU Scientific Library for C and C++), or Matlab’s toolboxes. scipy is the core package for scientific routines in Python; it is meant to operate efficiently on numpy arrays, so that numpy and scipy work hand in hand.\n",
    "\n",
    "Before implementing a routine, it is worth checking if the desired data processing is not already implemented in Scipy. As non-professional programmers, scientists often tend to re-invent the wheel, which leads to buggy, non-optimal, difficult-to-share and unmaintainable code. By contrast, Scipy‘s routines are optimized and tested, and should therefore be used when possible.\n",
    "\n",
    "We will NOT cover in details all the scipy capabilities/routines as this would be quite boring. We will briefly give an overview of some of them such that you know this exists ! We will also make use of several scipy functions in the future classes. "
   ]
  },
  {
   "cell_type": "markdown",
   "metadata": {},
   "source": [
    "## V. The standard library  <a class=\"anchor\" id=\"V\"></a>\n",
    "\n",
    "This section gives an overview of the very useful modules methods you may need to use at some point to manage your files, directory structures, platform-related file naming conventions, ...\n",
    "Details on the standard library (typically `os` and `sys` modules) are given in [Modules_in__python_scipy.ipynb](Modules_in__python_scipy.ipynb)."
   ]
  },
  {
   "cell_type": "markdown",
   "metadata": {},
   "source": [
    "## VI. References and supplementary material: <a class=\"anchor\" id=\"VI\"></a>\n",
    "\n",
    "**Appendix A** of the book <a class=\"anchor\" id=\"book\"></a> *Statistics, data mining and Machine learning in astronomy* by Z. Ivezic et al. in Princeton Series in Modern Astronomy.  \n",
    "\n",
    "Other useful references to know more about the topics covered in this class: \n",
    "    \n",
    "- The python tutorial (Chap. 6): [https://docs.python.org/2/tutorial/modules.html](https://docs.python.org/2/tutorial/modules.html)\n",
    "    \n",
    "- Standard python library:[http://www.ster.kuleuven.be/~pieterd/python/html/pure_python/standard_library.html](http://www.ster.kuleuven.be/~pieterd/python/html/pure_python/standard_library.html)\n",
    "    \n",
    "- Scipy lecture notes: (from which part of numpy, scipy, matplotlib tutorial are inspired): [http://www.scipy-lectures.org/index.html](http://www.scipy-lectures.org/index.html)  (creative Commons 4.0)\n",
    "  \n",
    "- Excellent video introducing numpy (and that inspired part of the numpy section of this notebook) by J. Vandeplas: https://www.youtube.com/watch?v=EEUXKG97YRw\n",
    "\n",
    "- Numpy quick-start: https://docs.scipy.org/doc/numpy-dev/user/quickstart.html\n",
    "\n",
    "- About minimization of functions and finding local/global minima with scipy (topic not covered in this lecture): http://www.scipy-lectures.org/advanced/mathematical_optimization/index.html\n",
    "\n",
    "Specific Matplotlib documentation (where to go when you do not know how to plot this/that):\n",
    "\n",
    "- [Thumbnail gallery](http://matplotlib.sourceforge.net/gallery.html): hundreds of thumbnails linking to the source code used to make them (find a plot like the one you want to make): a VERY useful resource !\n",
    "- Pyplot Tutorial: http://matplotlib.org/users/pyplot_tutorial.html\n",
    "- [Matplotlib home page](http://matplotlib.sourceforge.net): key pylab plotting commands in a table. \n",
    "- Matplotlib manual: http://matplotlib.sourceforge.net/contents.html\n",
    "- [Code examples](http://matplotlib.sourceforge.net/examples/): extensive examples showing how to use matplotlib commands.\n"
   ]
  },
  {
   "cell_type": "code",
   "execution_count": null,
   "metadata": {
    "collapsed": true
   },
   "outputs": [],
   "source": []
  }
 ],
 "metadata": {
  "anaconda-cloud": {},
  "kernelspec": {
   "display_name": "Python 2",
   "language": "python",
   "name": "python2"
  },
  "language_info": {
   "codemirror_mode": {
    "name": "ipython",
    "version": 2
   },
   "file_extension": ".py",
   "mimetype": "text/x-python",
   "name": "python",
   "nbconvert_exporter": "python",
   "pygments_lexer": "ipython2",
   "version": "2.7.13"
  }
 },
 "nbformat": 4,
 "nbformat_minor": 1
}
