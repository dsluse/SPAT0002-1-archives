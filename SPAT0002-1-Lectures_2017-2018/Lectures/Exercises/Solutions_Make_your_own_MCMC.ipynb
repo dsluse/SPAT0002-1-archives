{
 "cells": [
  {
   "cell_type": "markdown",
   "metadata": {},
   "source": [
    "# Bayesian inference: Part 2: Solutions to Exercises"
   ]
  },
  {
   "cell_type": "markdown",
   "metadata": {},
   "source": [
    "## VI. Implementing your own MCMC"
   ]
  },
  {
   "cell_type": "code",
   "execution_count": 1,
   "metadata": {},
   "outputs": [],
   "source": [
    "# As usual, we start with some imports\n",
    "%matplotlib inline\n",
    "import numpy as np\n",
    "import matplotlib.pyplot as plt\n",
    "from scipy import stats\n",
    "import scipy"
   ]
  },
  {
   "cell_type": "markdown",
   "metadata": {},
   "source": [
    "### VI.1 Metropolis-Hastings Procedure\n",
    "\n",
    "Recall the Metropolis-Hastings procedure:\n",
    "\n",
    "1. Define a posterior $p(\\theta~|~D, I)$\n",
    "2. Define a *proposal density* $p(\\theta_{i + 1}~|~\\theta_i)$, which must be a symmetric function, but otherwise is unconstrained (a Gaussian is the usual choice).\n",
    "3. Choose a starting point $\\theta_0$\n",
    "4. Repeat the following:\n",
    "\n",
    "   1. Given $\\theta_i$, draw a new $\\theta_{i + 1}$ from the proposal distribution\n",
    "   \n",
    "   2. Compute the *acceptance ratio*\n",
    "      $$\n",
    "      a = \\frac{p(\\theta_{i + 1}~|~D,I)}{p(\\theta_i~|~D,I)}\n",
    "      $$\n",
    "   \n",
    "   3. If $a \\ge 1$, the proposal is more likely: accept the draw and add $\\theta_{i + 1}$ to the chain.\n",
    "   \n",
    "   4. If $a < 1$, then accept the point with probability $a$: this can be done by drawing a uniform random number $r$ and checking if $a < r$. If the point is accepted, add $\\theta_{i + 1}$ to the chain. If not, then add $\\theta_i$ to the chain *again*.\n",
    "   \n",
    "The goal is to produce a \"chain\", i.e. a list of $\\theta$ values, where each $\\theta$ is a vector of parameters for your model.\n",
    "Here we'll write a simple Metropolis-Hastings sampler in Python.\n",
    "\n",
    "Note that the ``np.random.randn()`` function will be useful: it returns a pseudorandom value drawn from a standard normal distribution (i.e. mean of zero and variance of 1)."
   ]
  },
  {
   "cell_type": "markdown",
   "metadata": {},
   "source": [
    "### VI.2 Implementation\n",
    "\n",
    "The cells below describe the various steps that you will implement by yourself\n",
    "Estimated time: 45 minutes"
   ]
  },
  {
   "cell_type": "markdown",
   "metadata": {},
   "source": [
    "*Data:* We'll use data drawn from a straight line model"
   ]
  },
  {
   "cell_type": "code",
   "execution_count": 2,
   "metadata": {},
   "outputs": [],
   "source": [
    "def make_data(intercept, slope, N=20, dy=2, rseed=42):\n",
    "    rand = np.random.RandomState(rseed)\n",
    "    x = 100 * rand.rand(20)\n",
    "    y = intercept + slope * x\n",
    "    y += dy * rand.randn(20)\n",
    "    return x, y, dy * np.ones_like(x)\n",
    "\n",
    "theta_true = (2, 0.5)\n",
    "x, y, dy = make_data(*theta_true)"
   ]
  },
  {
   "cell_type": "markdown",
   "metadata": {},
   "source": [
    "First plot the data to see what we're looking at (Use a ``plt.errorbar()`` plot with the provided data)"
   ]
  },
  {
   "cell_type": "code",
   "execution_count": 3,
   "metadata": {},
   "outputs": [
    {
     "data": {
      "text/plain": [
       "<Container object of 3 artists>"
      ]
     },
     "execution_count": 3,
     "metadata": {},
     "output_type": "execute_result"
    },
    {
     "data": {
      "image/png": "[encoded data removed]",
      "text/plain": [
       "<matplotlib.figure.Figure at 0x2b7b801dce90>"
      ]
     },
     "metadata": {},
     "output_type": "display_data"
    }
   ],
   "source": [
    "plt.errorbar(x, y, yerr=dy, marker='d', ls='')"
   ]
  },
  {
   "cell_type": "markdown",
   "metadata": {},
   "source": [
    "Our model will also be a line, as we have done in the previous lecture. "
   ]
  },
  {
   "cell_type": "code",
   "execution_count": 4,
   "metadata": {},
   "outputs": [],
   "source": [
    "def model(theta, x):\n",
    "    # the `theta` argument is a list of parameter values, e.g., theta = [slope, intercept] for a line\n",
    "    return theta[0]*x + theta[1]"
   ]
  },
  {
   "cell_type": "markdown",
   "metadata": {},
   "source": [
    "We'll start with the assumption that the data are independent and identically distributed so that the likelihood is simply a product of Gaussians (one big Gaussian). We'll also assume that the uncertainties reported are correct, and that there are no uncertainties on the `x` data. We need to define a function that will evaluate the (ln)likelihood of the data, given a particular choice of your model parameters. A good way to structure this function is as follows:"
   ]
  },
  {
   "cell_type": "code",
   "execution_count": 5,
   "metadata": {},
   "outputs": [],
   "source": [
    "def ln_likelihood(theta, x, y, dy):\n",
    "    # we will pass the parameters (theta) to the model function\n",
    "    # the other arguments are the data\n",
    "    y_model = model(theta, x)\n",
    "    return -0.5 * np.sum( np.log(2 * np.pi * dy ** 2) + (y - y_model) ** 2 / dy ** 2 )"
   ]
  },
  {
   "cell_type": "markdown",
   "metadata": {},
   "source": [
    "What about priors? Remember your prior only depends on the model parameters, but be careful about what kind of prior you are specifying for each parameter. Do we need to properly normalize the probabilities?"
   ]
  },
  {
   "cell_type": "code",
   "execution_count": 6,
   "metadata": {},
   "outputs": [],
   "source": [
    "def ln_prior(theta):\n",
    "    if (np.abs(theta[0]) < 1000):\n",
    "        return 0 # log(1)\n",
    "    else:\n",
    "        return -np.inf  # log(0)"
   ]
  },
  {
   "cell_type": "markdown",
   "metadata": {},
   "source": [
    "Now we can define a function that evaluates the (ln)posterior probability, which is just the sum of the ln prior and ln likelihood:"
   ]
  },
  {
   "cell_type": "code",
   "execution_count": 7,
   "metadata": {},
   "outputs": [],
   "source": [
    "def ln_posterior(theta, x, y, dy):\n",
    "    return ln_prior(theta) + ln_likelihood(theta, x, y, dy)"
   ]
  },
  {
   "cell_type": "markdown",
   "metadata": {},
   "source": [
    "Now write a function to actually run a Metropolis-Hastings MCMC sampler. Ford (2005) includes a great step-by-step walkthrough of the Metropolis-Hastings algorithm, and we'll base our code on that. Fill-in the steps mentioned in the comments below:"
   ]
  },
  {
   "cell_type": "code",
   "execution_count": 8,
   "metadata": {},
   "outputs": [],
   "source": [
    "def run_mcmc(ln_posterior, nsteps, theta0, stepsize, args=(x,y,dy)):\n",
    "    \"\"\"\n",
    "    Run a Markov Chain Monte Carlo\n",
    "    \n",
    "    Parameters\n",
    "    ----------\n",
    "    ln_posterior: callable\n",
    "        our function to compute the posterior\n",
    "    nsteps: int\n",
    "        the number of steps in the chain\n",
    "    theta0: list\n",
    "        the starting guess for parameters theta\n",
    "    stepsize: float \n",
    "        a parameter controlling the size of the random step\n",
    "        e.g. it could be the width of the Gaussian distribution\n",
    "    args: tuple (optional)\n",
    "        additional arguments (data) passed to ln_posterior\n",
    "    \"\"\"\n",
    "    x,y,dy = args\n",
    "    # Create the array of size (nsteps, ndims) to hold the chain\n",
    "    ndims = len(theta0)  \n",
    "    chain = np.zeros(shape=(nsteps, ndims))\n",
    "    # Initialize the first row of this with theta0\n",
    "    chain[0,:] = theta0\n",
    "    \n",
    "    # Create the array of size nsteps to hold the ln-posterior for each point\n",
    "    likely = np.zeros(nsteps)\n",
    "    # Initialize the first entry of this with the ln-posterior at theta0\n",
    "    likely[0] = ln_posterior(theta0, x, y, dy)\n",
    "    \n",
    "    # Loop for nsteps\n",
    "    for i in range(1, nsteps):\n",
    "        # Randomly draw a new theta from the proposal distribution.\n",
    "        # for example, you can do a normally-distributed step by utilizing\n",
    "        # the np.random.randn() function or scipy.random.normal\n",
    "        theta_new = chain[i-1]+scipy.random.normal(0, stepsize, ndims)\n",
    "        # Calculate the probability for the new state\n",
    "\n",
    "        lnpnew = ln_posterior(theta_new, x, y, dy)\n",
    "        # Alternative: pnew = ln_posterior(theta_new, *args)\n",
    "        \n",
    "        # Compare it to the probability of the old state\n",
    "        # Using the acceptance probability function\n",
    "        # (remember that you've computed the log probability, not the probability!)\n",
    "        p_accept = np.exp(lnpnew) / np.exp(likely[i-1])\n",
    "        # Alternative: lnp_accept = lnpnew - likely[i-1]\n",
    "        \n",
    "        # Chose a random number r between 0 and 1 to compare with p_accept\n",
    "        r = np.random.rand()\n",
    "        # If p_accept>1 or p_accept>r, accept the step\n",
    "        if  (p_accept > 1) or (p_accept> r):\n",
    "        # Save the probability to the i^th entry of the array\n",
    "            likely[i] = lnpnew\n",
    "        # Save the position to the i^th row of the chain\n",
    "            chain[i,:] = theta_new\n",
    "        # Else, do not accept the step\n",
    "        else:\n",
    "        # Set the position and probability are equal to the previous values\n",
    "            likely[i] = likely[i-1]\n",
    "            chain[i,:] = chain[i-1,:]\n",
    "    # Return the chain and probabilities\n",
    "    return chain, likely"
   ]
  },
  {
   "cell_type": "markdown",
   "metadata": {},
   "source": [
    "Now run the MCMC code on the data provided."
   ]
  },
  {
   "cell_type": "code",
   "execution_count": 9,
   "metadata": {},
   "outputs": [
    {
     "name": "stderr",
     "output_type": "stream",
     "text": [
      "/home/dominis/anaconda2/lib/python2.7/site-packages/ipykernel/__main__.py:45: RuntimeWarning: invalid value encountered in double_scalars\n",
      "/home/dominis/anaconda2/lib/python2.7/site-packages/ipykernel/__main__.py:45: RuntimeWarning: divide by zero encountered in double_scalars\n"
     ]
    }
   ],
   "source": [
    "t0 = [0, -10]\n",
    "nsteps, stepsize=30000, 0.1\n",
    "chain_ini, posterior = run_mcmc(ln_posterior, nsteps, theta0=t0, stepsize=stepsize, args=(x,y,dy))"
   ]
  },
  {
   "cell_type": "markdown",
   "metadata": {},
   "source": [
    "Plot the position of the walker as a function of step number for each of the parameters. Are the chains converged? "
   ]
  },
  {
   "cell_type": "code",
   "execution_count": 10,
   "metadata": {},
   "outputs": [
    {
     "data": {
      "image/png": "[encoded data removed]",
      "text/plain": [
       "<matplotlib.figure.Figure at 0x2b7b80516990>"
      ]
     },
     "metadata": {},
     "output_type": "display_data"
    }
   ],
   "source": [
    "f, ax = plt.subplots(nrows=2)\n",
    "for i in range(2):\n",
    "    ax[i].plot(chain_ini[:,i])"
   ]
  },
  {
   "cell_type": "code",
   "execution_count": 11,
   "metadata": {},
   "outputs": [
    {
     "data": {
      "text/plain": [
       "[<matplotlib.lines.Line2D at 0x2b7b5924a450>]"
      ]
     },
     "execution_count": 11,
     "metadata": {},
     "output_type": "execute_result"
    },
    {
     "data": {
      "image/png": "[encoded data removed]",
      "text/plain": [
       "<matplotlib.figure.Figure at 0x2b7b839537d0>"
      ]
     },
     "metadata": {},
     "output_type": "display_data"
    }
   ],
   "source": [
    "f, ax = plt.subplots(nrows=1)\n",
    "ax.plot(chain_ini[:,0], chain_ini[:,1])"
   ]
  },
  {
   "cell_type": "code",
   "execution_count": 12,
   "metadata": {},
   "outputs": [],
   "source": [
    "# Re-run the chain from the final position\n",
    "chain, posterior = run_mcmc(ln_posterior, nsteps, theta0=chain_ini[-1,:], stepsize=stepsize, args=(x,y,dy))"
   ]
  },
  {
   "cell_type": "markdown",
   "metadata": {},
   "source": [
    "Make histograms of the samples for each parameter. Should you include all of the samples? "
   ]
  },
  {
   "cell_type": "code",
   "execution_count": 13,
   "metadata": {},
   "outputs": [
    {
     "data": {
      "image/png": "[encoded data removed]",
      "text/plain": [
       "<matplotlib.figure.Figure at 0x2b7b83a30ed0>"
      ]
     },
     "metadata": {},
     "output_type": "display_data"
    }
   ],
   "source": [
    "f, ax = plt.subplots(nrows=2)\n",
    "for i in range(2):\n",
    "    ax[i].plot(chain[:,i])"
   ]
  },
  {
   "cell_type": "markdown",
   "metadata": {},
   "source": [
    "Compare the new chain with the previous one"
   ]
  },
  {
   "cell_type": "code",
   "execution_count": 14,
   "metadata": {},
   "outputs": [
    {
     "data": {
      "text/plain": [
       "[<matplotlib.lines.Line2D at 0x2b7b83a57090>]"
      ]
     },
     "execution_count": 14,
     "metadata": {},
     "output_type": "execute_result"
    },
    {
     "data": {
      "image/png": "[encoded data removed]",
      "text/plain": [
       "<matplotlib.figure.Figure at 0x2b7b83aa9b10>"
      ]
     },
     "metadata": {},
     "output_type": "display_data"
    }
   ],
   "source": [
    "f, ax = plt.subplots(nrows=1)\n",
    "ax.plot(chain_ini[:,0], chain_ini[:,1], color='orange')\n",
    "ax.plot(chain[:,0], chain[:,1], alpha=0.5)"
   ]
  },
  {
   "cell_type": "markdown",
   "metadata": {},
   "source": [
    "Visualize the distribution of the 2 parameters (and correlation)"
   ]
  },
  {
   "cell_type": "code",
   "execution_count": 15,
   "metadata": {},
   "outputs": [
    {
     "data": {
      "image/png": "[encoded data removed]",
      "text/plain": [
       "<matplotlib.figure.Figure at 0x2b7b83a9ed10>"
      ]
     },
     "metadata": {},
     "output_type": "display_data"
    }
   ],
   "source": [
    "h2 = plt.hist2d(chain[:,0], chain[:,1], bins=40)"
   ]
  },
  {
   "cell_type": "markdown",
   "metadata": {},
   "source": [
    "Report your constraints on the model parameters:      \n",
    "This is the number for the abstract of the paper (or to report in the text of your thesis work) – the challenge is to figure out how to accurately summarize a multi-dimensional posterior (which is **the result** in Bayesianism) with a few numbers (which is what readers want to see as they skim the paper/thesis/report)."
   ]
  },
  {
   "cell_type": "code",
   "execution_count": 16,
   "metadata": {},
   "outputs": [
    {
     "name": "stdout",
     "output_type": "stream",
     "text": [
      "true intercept:2.0\n",
      "true slope:0.50\n",
      "intercept = 2.00 +/- 0.85.\n",
      "slope = 0.49 +/- 0.02\n"
     ]
    }
   ],
   "source": [
    "theta_best = chain.mean(0)\n",
    "theta_std = chain.std(0)\n",
    "\n",
    "print 'true intercept:%.1f'%theta_true[0] \n",
    "print 'true slope:%.2f'%theta_true[1] \n",
    "print 'intercept = %.2f +/- %.2f.'%(theta_best[1], theta_std[1])\n",
    "print 'slope = %.2f +/- %.2f'%(theta_best[0], theta_std[0])"
   ]
  },
  {
   "cell_type": "code",
   "execution_count": null,
   "metadata": {
    "collapsed": true
   },
   "outputs": [],
   "source": []
  }
 ],
 "metadata": {
  "kernelspec": {
   "display_name": "Python [default]",
   "language": "python",
   "name": "python2"
  },
  "language_info": {
   "codemirror_mode": {
    "name": "ipython",
    "version": 2
   },
   "file_extension": ".py",
   "mimetype": "text/x-python",
   "name": "python",
   "nbconvert_exporter": "python",
   "pygments_lexer": "ipython2",
   "version": "2.7.14"
  }
 },
 "nbformat": 4,
 "nbformat_minor": 2
}
