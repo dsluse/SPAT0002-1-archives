{
 "cells": [
  {
   "cell_type": "markdown",
   "metadata": {},
   "source": [
    "# Python Training Exercises \\#2 "
   ]
  },
  {
   "cell_type": "code",
   "execution_count": 1,
   "metadata": {},
   "outputs": [],
   "source": [
    "import numpy as np"
   ]
  },
  {
   "cell_type": "markdown",
   "metadata": {},
   "source": [
    "1. Create a variable and save your name in it. Then print out `Hello <name>` where `<name>` comes from the saved variable."
   ]
  },
  {
   "cell_type": "code",
   "execution_count": 2,
   "metadata": {},
   "outputs": [
    {
     "name": "stdout",
     "output_type": "stream",
     "text": [
      "Hello Dominique\n"
     ]
    }
   ],
   "source": [
    "name = 'Dominique'\n",
    "print('Hello %s' %name)"
   ]
  },
  {
   "cell_type": "markdown",
   "metadata": {},
   "source": [
    "2. Create a dictionary with month as key and number of days as value. For example, one entry would have ‘january’ as key and 31 as the value.     \n",
    "\n",
    "For this exercise, you may benefit of using [zip()](https://docs.python.org/3.3/library/functions.html#zip) built-in function, which aggregates elements from elements from each of the iterable. "
   ]
  },
  {
   "cell_type": "code",
   "execution_count": 3,
   "metadata": {},
   "outputs": [],
   "source": [
    "months = ['Jan', 'Feb', 'Mar', 'Apr', 'May', 'Jun', 'Jul', 'Aug', 'Sep', 'Oct', 'Nov', 'Dec']\n",
    "n_days = np.zeros(12)+31\n",
    "n_days[1:6:2] = 30\n",
    "n_days[1] = 28\n",
    "n_days[8:12:2] = 30\n",
    "months_dic = dict(zip(months, [int(n) for n in n_days]))"
   ]
  },
  {
   "cell_type": "markdown",
   "metadata": {},
   "source": [
    "3. Loop through the dictionary defined for Q2, and print the month and number of days for each entry on a separate line."
   ]
  },
  {
   "cell_type": "code",
   "execution_count": 4,
   "metadata": {},
   "outputs": [
    {
     "name": "stdout",
     "output_type": "stream",
     "text": [
      "Jan 31\n",
      "Feb 28\n",
      "Mar 31\n",
      "Apr 30\n",
      "May 31\n",
      "Jun 30\n",
      "Jul 31\n",
      "Aug 31\n",
      "Sep 30\n",
      "Oct 31\n",
      "Nov 30\n",
      "Dec 31\n"
     ]
    }
   ],
   "source": [
    "for m in months_dic:\n",
    "    print(m, months_dic[m]) "
   ]
  },
  {
   "cell_type": "markdown",
   "metadata": {},
   "source": [
    "4. Loop through the dictionary above, and print the month and number of days for each entry on a separate line, but only months with less than 31 days."
   ]
  },
  {
   "cell_type": "code",
   "execution_count": 5,
   "metadata": {},
   "outputs": [
    {
     "name": "stdout",
     "output_type": "stream",
     "text": [
      "Feb 28\n",
      "Apr 30\n",
      "Jun 30\n",
      "Sep 30\n",
      "Nov 30\n"
     ]
    }
   ],
   "source": [
    "for m in months_dic:\n",
    "    if months_dic[m] < 31:\n",
    "        print(m, months_dic[m]) "
   ]
  },
  {
   "cell_type": "markdown",
   "metadata": {},
   "source": [
    "5. Write a function that accepts a string argument and returns the number of characters in the string."
   ]
  },
  {
   "cell_type": "code",
   "execution_count": 6,
   "metadata": {},
   "outputs": [
    {
     "data": {
      "text/plain": [
       "8"
      ]
     },
     "execution_count": 6,
     "metadata": {},
     "output_type": "execute_result"
    }
   ],
   "source": [
    "def len_of_str(s):\n",
    "    '''    Returns lenght of a string   '''\n",
    "    return len(s)\n",
    "len_of_str('November')"
   ]
  },
  {
   "cell_type": "markdown",
   "metadata": {},
   "source": [
    "### Reference\n",
    "\n",
    "Some of the above exercises have been inspired by http://people.duke.edu/~ccc14/cfar-data-2016/"
   ]
  },
  {
   "cell_type": "code",
   "execution_count": null,
   "metadata": {},
   "outputs": [],
   "source": []
  }
 ],
 "metadata": {
  "kernelspec": {
   "display_name": "Python [conda env:intel-python2]",
   "language": "python",
   "name": "conda-env-intel-python2-py"
  },
  "language_info": {
   "codemirror_mode": {
    "name": "ipython",
    "version": 3
   },
   "file_extension": ".py",
   "mimetype": "text/x-python",
   "name": "python",
   "nbconvert_exporter": "python",
   "pygments_lexer": "ipython3",
   "version": "3.6.3"
  }
 },
 "nbformat": 4,
 "nbformat_minor": 2
}
