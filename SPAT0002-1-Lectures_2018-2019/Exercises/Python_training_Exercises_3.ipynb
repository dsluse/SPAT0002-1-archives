{
 "cells": [
  {
   "cell_type": "markdown",
   "metadata": {},
   "source": [
    "# Exercises to manipulate scipy functions/packages\n",
    "\n",
    "Those exercises consists mostly in practicing the material covered in [Modules_in__python_scipy.ipynb](../02-Main_useful_python_modules/Modules_in__python_scipy.ipynb)"
   ]
  },
  {
   "cell_type": "markdown",
   "metadata": {},
   "source": [
    "1. Calculate bessel functions of order 0, 1, 2 between 0 and 10 and plot the results on the screen"
   ]
  },
  {
   "cell_type": "code",
   "execution_count": null,
   "metadata": {},
   "outputs": [],
   "source": []
  },
  {
   "cell_type": "markdown",
   "metadata": {},
   "source": [
    "2a. Build two matrices $A$ and $B$ of 2x2 elements and calculate their product $A \\dot B$    \n",
    "2b. Calculate $A^{-1}$, the inverse of $A$. Verify that the result is effectively the inverse matrix.     \n",
    "2c. Return the diagonal elements of $B$.    \n",
    "2d. Calculate the determinant of $B$    "
   ]
  },
  {
   "cell_type": "code",
   "execution_count": null,
   "metadata": {},
   "outputs": [],
   "source": []
  },
  {
   "cell_type": "markdown",
   "metadata": {},
   "source": [
    "3a. Generate a coarsely sampled function $y = f(x) = x^2$ (with x in $[-5,5]$, sampled every integer values).     \n",
    "3b. Interpolate $f(x)$ for $x = np.arange(-5,5,0.1)$. Compare linear and quadratic interpolation.     \n",
    "3c. Visualise the results.      "
   ]
  },
  {
   "cell_type": "code",
   "execution_count": null,
   "metadata": {},
   "outputs": [],
   "source": []
  },
  {
   "cell_type": "markdown",
   "metadata": {},
   "source": [
    "4. Generate a fake noisy sine signal using the following command: \n",
    "\n",
    "``` python\n",
    "import numpy as np\n",
    "time_step = 0.02\n",
    "period = 5.\n",
    "time_vec = np.arange(0, 20, time_step)\n",
    "x = 2 * np.pi / period * time_vec\n",
    "signal = np.sin(x) + 0.5 * np.random.randn(time_vec.size)\n",
    "```\n",
    "\n",
    "4a. Visualise your noisy signal and overplot the noiseless signal     \n",
    "4b. Use the fast fourier transform to calculate the period of your signal "
   ]
  },
  {
   "cell_type": "code",
   "execution_count": null,
   "metadata": {},
   "outputs": [],
   "source": []
  },
  {
   "cell_type": "markdown",
   "metadata": {},
   "source": [
    "5a. Print out the name of the directory in which you are working.       \n",
    "5b. Create a list of the filenames contained in that directory.    \n",
    "5c. Create a second list where the extensions `.ipynb` has been removed    "
   ]
  },
  {
   "cell_type": "code",
   "execution_count": null,
   "metadata": {},
   "outputs": [],
   "source": []
  }
 ],
 "metadata": {
  "kernelspec": {
   "display_name": "Python [conda env:intel-python2]",
   "language": "python",
   "name": "conda-env-intel-python2-py"
  },
  "language_info": {
   "codemirror_mode": {
    "name": "ipython",
    "version": 3
   },
   "file_extension": ".py",
   "mimetype": "text/x-python",
   "name": "python",
   "nbconvert_exporter": "python",
   "pygments_lexer": "ipython3",
   "version": "3.6.3"
  }
 },
 "nbformat": 4,
 "nbformat_minor": 2
}
