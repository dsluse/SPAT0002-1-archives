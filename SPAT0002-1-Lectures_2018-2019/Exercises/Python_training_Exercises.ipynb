{
 "cells": [
  {
   "cell_type": "markdown",
   "metadata": {},
   "source": [
    "# Training Exercises\n",
    "\n",
    "This notebook contains a series of short exercises that aim at practicing basic python commands expected to be known after introduction to python lectures (Except exercise [06](#06-Plotting-and-statistics) that also uses `scipy.stats` . "
   ]
  },
  {
   "cell_type": "markdown",
   "metadata": {},
   "source": [
    "## 01 Loading a module \n",
    "\n",
    "- (a) How to load the numpy module ?\n",
    "- (b) How do you define an alias for calling the module in your script ? \n",
    "- (c) What is the `magic command` to get figures displayed in a notebook ? \n",
    "- (d) How to get `help` about a module. "
   ]
  },
  {
   "cell_type": "code",
   "execution_count": null,
   "metadata": {
    "collapsed": true
   },
   "outputs": [],
   "source": []
  },
  {
   "cell_type": "markdown",
   "metadata": {},
   "source": [
    "## 02 Array manipulation\n",
    "\n",
    "- (a) Create an array `a` of 10 float numbers uniformly distirbuted in the range [-5,5].  \n",
    "- (b) Create an array `loga` of 10 float numbers logarithmically distributed between 0.01 and 10.  \n",
    "- (c) Create an array `b` of 10 booleans, each odd index being `True`\n",
    "- (d) Create an array `c` containing only the cube of the odd elements of `a`. \n",
    "- (e) Reshape the array `a` into a `2x5` (2 rows, 5 columns) array\n",
    "- (f) Create an array `d` filled with 3 (i.e. each element has the value 3), and of shape `5x2` (5 rows, 2 columns). "
   ]
  },
  {
   "cell_type": "code",
   "execution_count": null,
   "metadata": {
    "collapsed": true
   },
   "outputs": [],
   "source": []
  },
  {
   "cell_type": "markdown",
   "metadata": {},
   "source": [
    "## 03 Array Manipulation 2\n",
    "\n",
    "- (a) Create a 2 D array `x` of random float numbers and normalize this array by its maximum value\n",
    "- (b) Set x[3,2] = np.nan   \n",
    "- (c) Find if there are elements of the `x` array are NaN\n",
    "- (d) Find the positions of the NaN elements in the `x` array "
   ]
  },
  {
   "cell_type": "code",
   "execution_count": null,
   "metadata": {
    "collapsed": true
   },
   "outputs": [],
   "source": []
  },
  {
   "cell_type": "markdown",
   "metadata": {},
   "source": [
    "## 04 Simple plotting\n",
    "\n",
    "- (a) Load matplotlib module and plot a function y = 3x + 1 with x having 30 values in the range [-3.,3.]\n",
    "- (b) Add a label 'x' for the x axis and a label 'y = 3x + 1' for the y axis\n",
    "- (c) Add a title 'My results' to your figure"
   ]
  },
  {
   "cell_type": "code",
   "execution_count": null,
   "metadata": {
    "collapsed": true
   },
   "outputs": [],
   "source": []
  },
  {
   "cell_type": "markdown",
   "metadata": {},
   "source": [
    "## 05 Slightly more advanced plotting \n",
    "\n",
    "- (a) Create a figure with 2 pannels aranged as 2 columns\n",
    "- (b) Create an array `dx` of 100 random points distributed in the range [-0.2, 0.2], and an array `x` of 100 points in the range [-3,3]. Use these two arrays to generate a fake data sample $y = 3x + 1. + dx$. \n",
    "- (c) Plot your fake data on the left pannel and overplot the underlying model $y_{ori} = 3x + 1.$ .  \n",
    "- (d) Calculate the residual $y_{ori} - y$ and plot it on the right pannel\n",
    "- (e) Overplot on the right pannel a `red` horizontal line of equation $y=0$ \n",
    "- (f) Set the y range of the right plot to [-0.5, 0.5]"
   ]
  },
  {
   "cell_type": "code",
   "execution_count": null,
   "metadata": {
    "collapsed": true
   },
   "outputs": [],
   "source": []
  },
  {
   "cell_type": "markdown",
   "metadata": {},
   "source": [
    "## 06 Plotting and statistics\n",
    "\n",
    "This exercise is slightly more advanced and requires knowledge of `scipy.stats` (see the notebook [Frequentist_inference_01.ipynb](../04-Basic_statistical_inference_frequentists_2/Frequentist_inference_01.ipynb) )\n",
    "\n",
    "- (a) Using the results of Exercise [5](#05-Slightly-more-advanced-plotting), plot a histogram showing the residuals $y_{ori}-y$\n",
    "- (b) Use the module `scipy.stats` to fit a gaussian PDF and overplot the results of this fit. \n"
   ]
  },
  {
   "cell_type": "code",
   "execution_count": null,
   "metadata": {
    "collapsed": true
   },
   "outputs": [],
   "source": []
  },
  {
   "cell_type": "markdown",
   "metadata": {},
   "source": [
    "## 07 Lists and arrays\n",
    "\n",
    "- (a) Use the `for` loop to fill a list that will hopefully contain 4 arrays: $y=x$, $y=2*x$, $y=3*x$, $y=4*x$. `x` should be an array of 5 values distributed between 0 and 5. Print the result at the screen. \n",
    "- (b) How would you proceed to create the same list in one line of code (remember *list comprehension*) ?"
   ]
  },
  {
   "cell_type": "code",
   "execution_count": null,
   "metadata": {
    "collapsed": true
   },
   "outputs": [],
   "source": []
  },
  {
   "cell_type": "markdown",
   "metadata": {},
   "source": [
    "## 08 Functions\n",
    "\n",
    "- (a) Create a function that takes as argument an array `theta`, and a constant phase term `phi`, and returns $y = sin(\\theta + \\phi)$. \n",
    "- (b) Plot your function (on the same figure) for three different values $\\phi = (-\\pi/3., +\\pi / 3., \\pi / 2.)$. Take $\\theta$ in the range $[-4 \\pi, + 4\\pi]$. Add a legend to identify each curve. \n",
    "- (c) Repeat the exercise but using degrees instead of radians to express $\\theta$ and $\\phi$ (i.e. you need to create a second function that takes as input `theta` and `phi` in degrees). "
   ]
  },
  {
   "cell_type": "code",
   "execution_count": null,
   "metadata": {
    "collapsed": true
   },
   "outputs": [],
   "source": []
  }
 ],
 "metadata": {
  "kernelspec": {
   "display_name": "Python [default]",
   "language": "python",
   "name": "python2"
  },
  "language_info": {
   "codemirror_mode": {
    "name": "ipython",
    "version": 2
   },
   "file_extension": ".py",
   "mimetype": "text/x-python",
   "name": "python",
   "nbconvert_exporter": "python",
   "pygments_lexer": "ipython2",
   "version": "2.7.14"
  }
 },
 "nbformat": 4,
 "nbformat_minor": 2
}
