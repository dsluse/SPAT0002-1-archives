{
 "cells": [
  {
   "cell_type": "markdown",
   "metadata": {},
   "source": [
    "# Recap Lecture 1 : `Python` basics \n"
   ]
  },
  {
   "cell_type": "markdown",
   "metadata": {},
   "source": [
    "We have learned about: \n",
    "- [the main built-in structures](#Main-built-in-structures-and-methods:): [`List`](#Lists), [`tuple`](#Tuple), [`dictionary`](#Dictionary), [`set`](#Set)\n",
    "- We have learned about several important [methods to modify Lists, sets, and tuples:](#Lists-sets-and-tuple-methods) concatenation (+), repeat (\\*), add elements at the end (append), insert element (insert), drop an object (pop), sort elements (sort).   \n",
    "- We have seen how to define [Control flow statements:](#Control-flow-statements) [`if`](#If), [`for`](#for), [`while`](#while). \n",
    "- We have seen how to [declare a function](#Functions) and add documentation to a function using triple quotes \"\"\"  (aka add a `DocString`)\n",
    "- We have learned how to write [`list comprehensions`](#List-comprehensions) ( [ x+1 for x in L] ) to increase speed and improve readability. \n",
    "- The importance of indentation in writing code, especially when defining a `function`, create `loops`, set `conditions`. \n",
    "- We have seen that there is in general no need to pre-declare a variable, nor its type. However, one should be careful that *numbers not followed by a .* are interpreted as integers, but are float otherwise. This can generate bugs as the division of 2 integers is an integer (in python 2.7, not for version > 3). \n",
    "- We have started to be familiar with [slicing through lists](#About-indexing-and-slicing), and realise that the *first index* of a sequence is *zero*. "
   ]
  },
  {
   "cell_type": "markdown",
   "metadata": {},
   "source": [
    "## Main built-in structures and methods: \n",
    "\n",
    "### Lists\n",
    "\n",
    "- You define a list by putting sequence of elements (*objects* of possibly different types) into square brackets.   \n",
    "\n",
    "**Example:** \n",
    "``` python\n",
    "L = [1, 'Hello', 3., 6]\n",
    "L_empty = []\n",
    "```\n",
    "\n",
    "- You access elements of a list by giving their position in the sequence (remember that the first element has index 0):\n",
    "``` python\n",
    "L = [1, 'Hello', 3., 6, 'World']\n",
    "L[0]\n",
    "    Out: 1\n",
    "L[4]\n",
    "    Out: 'World'\n",
    "```"
   ]
  },
  {
   "cell_type": "code",
   "execution_count": null,
   "metadata": {
    "collapsed": false
   },
   "outputs": [],
   "source": [
    "L = [1, 'Hello', 3., 6, 'World']\n",
    "#type(L)\n",
    "print(type(L[2]))\n"
   ]
  },
  {
   "cell_type": "markdown",
   "metadata": {},
   "source": [
    "### Tuple\n",
    "\n",
    "A tuple is like a list BUT its elements are **immutable**, which means that once they are created, the items **cannot be changed**.    \n",
    "\n",
    "Tuples are similar to lists but they are separated by parentheses `( )` instead of square brackets `[ ]`.   \n",
    "They support indexing and slicing like lists.\n",
    "\n",
    "**Example:**\n",
    "``` python\n",
    "L = [1,2,3,4]  # this is a List\n",
    "T = (1,2,3,4)  # this is a Tuple\n",
    "```"
   ]
  },
  {
   "cell_type": "code",
   "execution_count": null,
   "metadata": {
    "collapsed": false
   },
   "outputs": [],
   "source": [
    "L = [1,2,3,4]\n",
    "L[2] = 7\n",
    "L"
   ]
  },
  {
   "cell_type": "code",
   "execution_count": null,
   "metadata": {
    "collapsed": false
   },
   "outputs": [],
   "source": [
    "T = (1,2,3,4)\n",
    "T[2] = 7\n",
    "T"
   ]
  },
  {
   "cell_type": "markdown",
   "metadata": {},
   "source": [
    "### Set\n",
    "\n",
    "A **set** is a bit like a list BUT its elements are **unordered** and **unique** (no repetition).  \n",
    "A set is built using the function `set([])`\n",
    "\n",
    "**Example:**\n",
    "``` python \n",
    "S = set([1,1,2,4,3,5])\n",
    "```"
   ]
  },
  {
   "cell_type": "code",
   "execution_count": null,
   "metadata": {
    "collapsed": false
   },
   "outputs": [],
   "source": [
    "#S = set([1,1,2,4,3,5])\n",
    "S = {1,2,34,5,1}\n",
    "S"
   ]
  },
  {
   "cell_type": "markdown",
   "metadata": {},
   "source": [
    "### Lists sets and tuple methods\n",
    "\n",
    "There are many operations that can be performed on lists, sets and tuples and that you may want to use very soon.\n",
    "\n",
    "- Add and remove elements from a list:\n",
    "``` python\n",
    "L.append(5) # Append an object at the end of a list\n",
    "L.insert(3, 'q')  # insert a string \"q\" at location 3. \n",
    "L.pop()     # Removes last object (or object at a specified index) of a list\n",
    "L.extend([6,8])  # Extend list, 'in-place'\n",
    "```\n",
    "- Concatenate and repeat lists:\n",
    "``` python\n",
    "L + L     # Concatenation\n",
    "    Out: [1,2,3,4,1,2,3,4]\n",
    "2 * L     # Repetition\n",
    "    Out: [1, 2, 3, 4, 1, 2, 3, 4]\n",
    "```\n",
    "- Sort elements of a list:\n",
    "\n",
    "``` python\n",
    "L.sort()   # sort in-place\n",
    "\n",
    "```\n",
    "\n",
    "- Conversion of lists to other types:\n",
    "\t* Convert list to a tuple (Remember that tuple are immutable -> cannot be changed !):   \n",
    "        `tuple(mylist)` \n",
    "\t* Convert list to set: (set is a unordered collection of unique items => duplicates are LOST!)    \n",
    "        `set(mylist)`\n",
    "    * Convert list of strings to strings:    \n",
    "        `''.join(Ls)`  \n",
    "        "
   ]
  },
  {
   "cell_type": "code",
   "execution_count": null,
   "metadata": {
    "collapsed": false
   },
   "outputs": [],
   "source": [
    "help(L.insert)"
   ]
  },
  {
   "cell_type": "code",
   "execution_count": null,
   "metadata": {
    "collapsed": false
   },
   "outputs": [],
   "source": [
    "L =[1,4,56,31, 3]\n",
    "L.sort()\n",
    "print(L)"
   ]
  },
  {
   "cell_type": "markdown",
   "metadata": {},
   "source": [
    "### Dictionary\n",
    "\n",
    "Another common built-in `Python` object is the **dictionary**. The dictionary stores an unordered sequence of key-value pairs. It is defined using curly brackets `{ }`, and like lists allows mixing of types. It is a bit like a `list` for which each element has a label such that you can access this element by its label instead of accessing it by its position.\n",
    "\n",
    "**Example:**\n",
    "``` python\n",
    "D = {'one': 1, 'two': 2, 'three': 3, 'four': L}  # L is a list as defined above\n",
    "D['two']\n",
    "    Out:  2\n",
    "D = dict(one=1, two=2, three=3, four=L)  # Another way to create a dictionary \n",
    "\n",
    "D = dict(zip([keys], [values]))   # A third way using zip built-in function.  \n",
    "```"
   ]
  },
  {
   "cell_type": "code",
   "execution_count": null,
   "metadata": {
    "collapsed": false
   },
   "outputs": [],
   "source": [
    "D = {'one': 1, 'two': 2, 'three': 3, 'four': L} \n",
    "print(D['two'])"
   ]
  },
  {
   "cell_type": "markdown",
   "metadata": {},
   "source": [
    "## About indexing and slicing\n",
    "\n",
    "Elements of a list and of a tuple can be accessed via their `index`. Warning, the first element has index `0`.\n",
    "\n",
    "### Indexing\n",
    "\n",
    "Think of the indices as pointing between characters, with the left edge of the first character numbered 0. Then the right edge of the last character of a string of n characters has index n, for example:\n",
    "\n",
    "``` python\n",
    " +---+---+---+---+---+---+\n",
    " | P | y | t | h | o | n |\n",
    " +---+---+---+---+---+---+\n",
    " 0   1   2   3   4   5   6\n",
    "-6  -5  -4  -3  -2  -1\n",
    "```\n",
    "The first row of numbers gives the position of the indices 0...6 (hereabove, in the string `'python'`); the second row gives the corresponding negative indices. The slice `[i:j]` from `i` to `j` consists of all characters between the edges labeled `i` and `j`, respectively.  \n",
    "\n",
    "By calling item \\# i, one gets the item at the right side of i. This is why calling item `n` of a list or string or (...) of size `n` will result an error message: there is no item on the right side of position `n` (n=6 in the example above).   \n",
    "\n",
    "\n",
    "### Slicing \n",
    "\n",
    "To access several elements of a list/a sublist, this is called **index slicing**, you can use the semicolon `:`. The slicing can work in various ways:   \n",
    "**Example: **\n",
    "``` python\n",
    "L[0:2]   # First two elements of a list  ; note that item with index #2 is EXCLUDED\n",
    "L[:2]    # First two elements, 0 is implicit\n",
    "L[::2]   # every 2 elements (from the first one with index 0)\n",
    "L[-2:]   # Last two items \n",
    "L[i:]    # From the item i until the end (last entry is implicit). No error message if i > len(L) \n",
    "L[::-1]  # All items in reverse order\n",
    "    \n",
    "```\n",
    "For non-negative indices, the length of a slice is the difference of the indices, if both are within bounds. \n"
   ]
  },
  {
   "cell_type": "code",
   "execution_count": null,
   "metadata": {
    "collapsed": false
   },
   "outputs": [],
   "source": [
    "print(L)\n",
    "print(L[-3:])"
   ]
  },
  {
   "cell_type": "markdown",
   "metadata": {},
   "source": [
    "## Control flow statements\n",
    "\n",
    "### If\n",
    "\n",
    "The basic syntax for an if-statement is the following:\n",
    "``` python \n",
    "if condition:\n",
    "    # do something\n",
    "elif condition:\n",
    "    # do something else\n",
    "else:\n",
    "    # do yet something else\n",
    "```\n",
    "\n",
    "Notice that there is no statement to end the `if` statement. Notice also the presence of a colon (`:`) after each control flow statement. Python relies on *indentation* and *colons* to determine whether it is in a specific block of code.\n",
    "\n",
    "The conditions in the statements can be anything that returns a boolean value.  \n",
    "Standard comparisons can be used (`==` for equal, `!=` for not equal, `<=` for less or equal, `>=` for greater or equal, `<` for less than, and `>` for greater than), as well as logical operators (`and`, `or`, `not`). Parentheses can be used to isolate different parts of conditions, to make clear in what order the comparisons should be executed, for example:\n",
    "\n",
    "``` python\n",
    "if (a == 1 and b <= 3) or c > 3:\n",
    "    # do something\n",
    "```\n",
    "\n",
    "Note that an empty object (e.g. empty list, tuple, dict) returns a boolean with value `False` such that the following statement ``` if object: #do something``` will not return an error:\n",
    "``` python\n",
    "L = []\n",
    "if L:\n",
    "    print('L is not empty and contains %s' %L)\n",
    "else:\n",
    "    print('L is empty')\n",
    "```"
   ]
  },
  {
   "cell_type": "code",
   "execution_count": null,
   "metadata": {
    "collapsed": false
   },
   "outputs": [],
   "source": [
    "a = 1\n",
    "b=0\n",
    "c=1\n",
    "if (a == 1 and b <= 3) or c > 3:\n",
    "    print('a =', a)\n",
    "#else:\n",
    "#print('Condition not verified')"
   ]
  },
  {
   "cell_type": "code",
   "execution_count": null,
   "metadata": {
    "collapsed": false
   },
   "outputs": [],
   "source": [
    "L = [1,2]\n",
    "if L:\n",
    "    print('L is not empty and contains %s' %L)\n",
    "else:\n",
    "    print('L is empty')"
   ]
  },
  {
   "cell_type": "markdown",
   "metadata": {},
   "source": [
    "### for\n",
    "\n",
    "The most common type of loop is the `for` loop. In its most basic form, its synthax is straightforward:\n",
    "\n",
    "``` python\n",
    "for value in iterable:\n",
    "    # do things\n",
    "```\n",
    "\n",
    "The iterable can be any `Python` object that can be iterated over. This includes `lists`, `tuples`, `dictionaries`, `strings`.\n",
    "\n",
    "A common type of `for` loop is one where the value should go between two integers with a specific set size. To do this, we can use the `range` function. If its argument is a single value, it will return a list ranging from 0 to the value minus 1:\n",
    "\n",
    "``` python\n",
    "range(10)\n",
    "    Out: [0, 1, 2, 3, 4, 5, 6, 7, 8, 9]\n",
    "range(3, 12)   # 3 and 12 are the starting and one plus the ending value\n",
    "    Out: [3, 4, 5, 6, 7, 8, 9, 10, 11]\n",
    "range(2, 20, 2)  # the third number, if specified, is taken to be the step size\n",
    "    Out: [2, 4, 6, 8, 10, 12, 14, 16, 18]\n",
    "``` \n",
    "\n",
    "The range function can be used as the iterable in a for loop."
   ]
  },
  {
   "cell_type": "code",
   "execution_count": null,
   "metadata": {
    "collapsed": false
   },
   "outputs": [],
   "source": [
    "L = [1,2,3,4]\n",
    "for myvar in L:\n",
    "    print(myvar)"
   ]
  },
  {
   "cell_type": "markdown",
   "metadata": {},
   "source": [
    "### while\n",
    "\n",
    "The `while` loop which is similar to the `for` loop, but the number of iterations is defined by a condition rather than an iterator:\n",
    "\n",
    "``` python \n",
    "a = 0\n",
    "while a < 10:   # a < 10 is the condition\n",
    "    print(a)    # This line is the first \"looping block\n",
    "    a += 1      # This line is the second \"looping block\"\n",
    "\n",
    "```"
   ]
  },
  {
   "cell_type": "code",
   "execution_count": null,
   "metadata": {
    "collapsed": false
   },
   "outputs": [],
   "source": [
    "a = 0\n",
    "while a < 4:\n",
    "    print(a)\n",
    "    a = a + 1 "
   ]
  },
  {
   "cell_type": "markdown",
   "metadata": {},
   "source": [
    "## Functions\n",
    "\n",
    "A function is a kind of \"mini-script\" that can accept (optionally) one or several parameters. Here is how you define a function:\n",
    "\n",
    "``` python\n",
    "def moffat1D(r, I, alpha, beta):\n",
    "    '''\n",
    "    Description:\n",
    "    ------------\n",
    "    Function that returns the value of a Moffat profile at position r.\n",
    "    '''\n",
    "    arg = (r / alpha)**2 + 1\n",
    "    y = I / arg**(beta)\n",
    "    return y\n",
    "```\n",
    "\n",
    "This function the value of a Moffat profile/function at position `r`:   \n",
    "$$\n",
    "y = I_0  \\left( \\left ( \\frac{r}{\\alpha} \\right )^2 +1 \\right)^{-\\beta}\n",
    "$$\n"
   ]
  },
  {
   "cell_type": "code",
   "execution_count": null,
   "metadata": {
    "collapsed": false
   },
   "outputs": [],
   "source": [
    "def moffat1D(r, I, alpha, beta):\n",
    "    '''\n",
    "    Description:\n",
    "    ------------\n",
    "    Function that returns the value of a Moffat profile at position r.\n",
    "    '''\n",
    "    arg = (r / alpha)**2 + 1\n",
    "    y = I / arg**(beta)\n",
    "    return y\n",
    "\n",
    "moffat1D(0.1, 1, 2, 1)"
   ]
  },
  {
   "cell_type": "markdown",
   "metadata": {},
   "source": [
    "**TIP**: Within Jupyter, you can access the help (*including help for your defined functions*) using the key combination `Shift-Tab` (One tab -> small pop-up window help; 2 Tab -> large pop-up window; 4 Tab -> \"permanent\" window) just after the first parenthese accepting the function argument. "
   ]
  },
  {
   "cell_type": "markdown",
   "metadata": {},
   "source": [
    "### List comprehensions\n",
    "\n",
    "This is a very useful (and `pythonic` way to operate on elements of a list (or other structures). ** When possible try to favor list comprehensions over the use of `for` loops **.\n",
    "A common programming structure when assigning values to a list is the following:\n",
    "\n",
    "```python\n",
    "l = []                      # create the list\n",
    "for i in range(10):\n",
    "    l.append(i**2)\n",
    "```\n",
    "\n",
    "List comprehensions provide a shorter and more readable way of writing the same loop:\n",
    "\n",
    "``` python\n",
    "l = [i**2 for i in range(10)]\n",
    "``` "
   ]
  },
  {
   "cell_type": "code",
   "execution_count": null,
   "metadata": {
    "collapsed": false
   },
   "outputs": [],
   "source": [
    "l = []\n",
    "for i in range(3, 10):\n",
    "    l.append(i**2)\n",
    "print(l)"
   ]
  },
  {
   "cell_type": "code",
   "execution_count": null,
   "metadata": {
    "collapsed": false
   },
   "outputs": [],
   "source": [
    "l = [i**2 for i in range(3,10)]\n",
    "print(l)"
   ]
  },
  {
   "cell_type": "code",
   "execution_count": null,
   "metadata": {
    "collapsed": false
   },
   "outputs": [],
   "source": [
    "%timeit l = [i**2 for i in range(1000)]\n",
    "\n",
    "def fillsquares():\n",
    "    l = []                      # create the list\n",
    "    for i in range(1000):\n",
    "        l.append(i**2)\n",
    "    return l\n",
    "\n",
    "print('Now, the same using a function and a for loop:')\n",
    "%timeit l = fillsquares()"
   ]
  },
  {
   "cell_type": "code",
   "execution_count": null,
   "metadata": {
    "collapsed": true
   },
   "outputs": [],
   "source": []
  }
 ],
 "metadata": {
  "anaconda-cloud": {},
  "kernelspec": {
   "display_name": "Python [conda env:intel-python2]",
   "language": "python",
   "name": "conda-env-intel-python2-py"
  },
  "language_info": {
   "codemirror_mode": {
    "name": "ipython",
    "version": 3
   },
   "file_extension": ".py",
   "mimetype": "text/x-python",
   "name": "python",
   "nbconvert_exporter": "python",
   "pygments_lexer": "ipython3",
   "version": "3.6.3"
  }
 },
 "nbformat": 4,
 "nbformat_minor": 2
}
