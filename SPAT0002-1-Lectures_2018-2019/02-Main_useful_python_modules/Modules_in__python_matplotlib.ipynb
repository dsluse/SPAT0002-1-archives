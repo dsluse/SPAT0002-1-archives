{
 "cells": [
  {
   "cell_type": "markdown",
   "metadata": {},
   "source": [
    "# Introduction to `matplotlib`"
   ]
  },
  {
   "cell_type": "markdown",
   "metadata": {},
   "source": [
    "This Notebook provides an overview of the capabilities of the `matplotlib` module. It covers Sect. III of [Modules_in__python.ipynb](Modules_in__python.ipynb). \n",
    "\n",
    "## Table of Content\n",
    "\n",
    "[III. Matplotlib](#III)\n",
    "- [III.1 Simple plot](#III.1)\n",
    "- [III.2 A bit more advanced plotting](#III.2)\n",
    "    * [III.2.1 Plot properties](#III.2.1)\n",
    "    * [III.2.2 Create multiple subplots](#III.2.2)\n",
    "    * [III.2.3 Twin axes](#III.2.3)\n",
    "    * [III.2.4 Export your figure](#III.2.4)\n",
    "    * [III.2.5 Import styling options for your figure](#III.2.5)\n",
    "- [III.3 References](#VI)"
   ]
  },
  {
   "cell_type": "markdown",
   "metadata": {},
   "source": [
    "## III. `matplotlib`: Visualisation with python   <a class=\"anchor\" id=\"III\"></a>\n",
    "\n",
    "For now, we have basically only used in-line coding and reading/writing results at screen/in files. This is nice but for an interactive language one would like to be able to visualise/plot results easily, without using other software. Even better, one would like to be able to generate publishing-quality figures. This capability to visualize data/results with a high flexibility and generate the figures you will present in your paper/report/poster is fortunatelly also one of the strengths of `Python` ... People sometimes complain that generating figures that match exactly what you aim at is not always easy ... This is *partly* true. As you'll see below, you can already do a lot with the basic commands you have access with matplotlib.\n",
    "\n",
    "*What is `matplotlib` ?* Matplotlib is a python 2-d plotting library which produces publication quality figures in a variety of formats and interactive environments across platforms. Matplotlib can be used in Python scripts, the Python and IPython shell, web application servers, and six graphical user interface toolkits. A good way to see the matplotlib capabilities is to skim through the [documentation](http://matplotlib.sourceforge.net), and more specifically have a look to the [Thumbnail gallery](http://www.matplotlib.sourceforge.net/gallery.html). See the Section [References](#VI) of this notebook to find more specific links to Matplotlib documentation.\n",
    "\n",
    "In order to be able to plot a figure, you may import the `pyplot` package using \n",
    "``` python\n",
    "import matplotlib.pyplot as plt\n",
    "```\n",
    "This package gives you access to set of commands that are similar to `MATLAB` commands. \n",
    "In addition, within a `JuPyter` notebook, you may want to see your figure within your notebook. For this purpose, you need (e.g. at the begining of your notebook, or before making your first figure) use the `magic` command\n",
    "``` python\n",
    "%matplotlib inline\n",
    "```"
   ]
  },
  {
   "cell_type": "code",
   "execution_count": null,
   "metadata": {},
   "outputs": [],
   "source": [
    "%matplotlib inline\n",
    "import matplotlib.pyplot as plt\n",
    "import numpy as np"
   ]
  },
  {
   "cell_type": "markdown",
   "metadata": {},
   "source": [
    "You may use another *backend* (a \"program\" that is used behind the scene, in the back of \"python-store\") to plot your figure. Type `%matplotlib -list` to see the various possibilities. One needs to experiment to see what is localy available (while \"inline\" should generally work and allows you to keep your figure in the notebook, which is useful to share your work). If you want to make interactive plots, I advise you to do them within an `IPython` console (but/even if this can be done within jupyter as well, e.g. with `%matplotlib notebook`).  \n",
    "\n",
    "A common option consists in launching Ipython --pylab (or --matplotlib does the same thing nowadays), this is (essentially) equivalent to do `from pylab import *` in your Ipthon window (or in your Jupyter Notebook). In fact, `pylab` is nothing more than a module provided by `matplotlib` that pulls in everything in `matplotlib.pyplot` and a selection of useful functions/modules from matplotlib and numpy. See  [Matplotlib, pylab, and pyplot: how are they related?](http://matplotlib.sourceforge.net/faq/usage_faq.html#matplotlib-pylab-and-pyplot-how-are-they-related) for more discussion on this topic. Finally, note that in many examples you will see code like:\n",
    "``` python\n",
    "import matplotlib.pyplot as plt  # set plt as alias for matplotlib.pyplot\n",
    "plt.plot([1,2], [3,4])\n",
    "```\n",
    "\n",
    "This is good practice for writing scripts and programs, since it is clear that the plot command is from the `matplotlib.pyplot` package. We’ll adopt this alias for the examples in this course. But once you’re familiar with the commands, you can omit the `plt.` **when plotting in the interactive ipython shell** (but keep it in scripts !) to reduce the amount of typing needed."
   ]
  },
  {
   "cell_type": "markdown",
   "metadata": {},
   "source": [
    "### III.1 Simple plot <a class=\"anchor\" id=\"III.1\"></a>\n",
    "\n",
    "Once you have imported pyplot, plotting a figure showing e.g. a line with coordinates `x=np.arange(10)`, and `y = 2. * x + 1.` is as simple as:"
   ]
  },
  {
   "cell_type": "code",
   "execution_count": null,
   "metadata": {},
   "outputs": [],
   "source": [
    "x = np.arange(10)\n",
    "y = 2. * x + 1.    \n",
    "plt.plot(x, y, '-.', x+3, y, '-.')\n",
    "plt.xlabel('x')\n",
    "plt.ylabel('y')"
   ]
  },
  {
   "cell_type": "markdown",
   "metadata": {},
   "source": [
    "Note that if you do simply `plot(y)`, you will also get an answer: the x axis will then be assumed to be a sequence of same length as y, and starting at 0.   \n",
    "\n",
    "You have basically four different ways to call `plot()` without looking too much into the details to its arguments:\n",
    "``` python\n",
    "plt.plot(y)   # assumes x = np.arange(len(y))\n",
    "plt.plot(x, y) # Assumes solid line styles\n",
    "plt.plot(x, y, 'd') # The third argument is the linestyle\n",
    "plt.plot(x1, y1, 'd', x2, y2, '3', x3, y3, '--')  # plot n different sets of of curves with n different linestyles (here n=3)\n",
    "```\n",
    "you may sometimes also need to add `plt.show()` to visualize your plot. This is now often implicit when Ipython is loaded with option --matplotlib or --pylab, but if you do not see your plotting window popping up, this may mean that you need to use `plt.show()`\n",
    "\n",
    "Finally, as a figure without axis name does not make much sense, you can add labels to abcissa and ordinate axis using:\n",
    "``` python\n",
    "plt.xlabel('My x quantity')\n",
    "plt.ylabel('My y quantity')\n",
    "```"
   ]
  },
  {
   "cell_type": "code",
   "execution_count": null,
   "metadata": {},
   "outputs": [],
   "source": [
    "# Try out the above plotting commands \n",
    "x1 = np.arange(10.)\n",
    "x2 = np.arange(3, 9)\n",
    "y1 = 3. * x1 \n",
    "y2 = 8. * x2 + 1.\n",
    "plt.plot(x1, y1, '-', x2, y2, '3')"
   ]
  },
  {
   "cell_type": "markdown",
   "metadata": {},
   "source": [
    "Who said plotting with python is complicated ? Basic plotting is rather simple, and you can customize your plot a bit more using various plotting optional parameters as arguments of the function plot:"
   ]
  },
  {
   "cell_type": "markdown",
   "metadata": {},
   "source": [
    "#### Set the color using *color* (or *c*)"
   ]
  },
  {
   "cell_type": "code",
   "execution_count": null,
   "metadata": {},
   "outputs": [],
   "source": [
    "plt.plot(x1, y1, '-', color='red')   # main colors are 'b', 'g', 'r', 'c', 'm', 'y', 'k', 'w' for blue, green, red, ..."
   ]
  },
  {
   "cell_type": "markdown",
   "metadata": {},
   "source": [
    "#### Set the line width using *linewidth* (or *lw*)"
   ]
  },
  {
   "cell_type": "code",
   "execution_count": null,
   "metadata": {},
   "outputs": [],
   "source": [
    "plt.plot(x1, y1, lw=5)  "
   ]
  },
  {
   "cell_type": "markdown",
   "metadata": {},
   "source": [
    "#### Set the line transparency using parameter *alpha*"
   ]
  },
  {
   "cell_type": "code",
   "execution_count": null,
   "metadata": {},
   "outputs": [],
   "source": [
    "plt.plot(x1, y1-1., '-', lw=4, alpha=0.2)\n",
    "plt.plot(x1, y1, '-', lw=4, alpha=1.) "
   ]
  },
  {
   "cell_type": "markdown",
   "metadata": {},
   "source": [
    "#### Add a *legend* for each line by associating a label to it and then do `plt.legend()`"
   ]
  },
  {
   "cell_type": "code",
   "execution_count": null,
   "metadata": {},
   "outputs": [],
   "source": [
    "plt.plot(x1, y1) # , label=\"line 1\")\n",
    "plt.plot(x1+2, y1)\n",
    "#plt.legend()\n",
    "plt.legend(['line1', 'line2'], loc='best')  # loc is for location: see help of plt.legend()"
   ]
  },
  {
   "cell_type": "markdown",
   "metadata": {},
   "source": [
    "#### Use special characters (latex style) by adding `r` or `R` before your string and call math character with '$$'"
   ]
  },
  {
   "cell_type": "code",
   "execution_count": null,
   "metadata": {},
   "outputs": [],
   "source": [
    "plt.plot(x1, y1, color='g', lw=2, ls=\"-.\")\n",
    "plt.xlabel(r\"$\\sigma$\")"
   ]
  },
  {
   "cell_type": "markdown",
   "metadata": {},
   "source": [
    "#### Set limits of your plot: `plt.xlim()`, `plt.ylim()`"
   ]
  },
  {
   "cell_type": "code",
   "execution_count": null,
   "metadata": {},
   "outputs": [],
   "source": [
    "plt.plot(x1, y1, color='g', lw=2, ls=\"-.\")\n",
    "plt.xlim(5, 10)\n",
    "plt.ylim(y1.min() - 1., y1.max() + 1.)"
   ]
  },
  {
   "cell_type": "markdown",
   "metadata": {},
   "source": [
    "#### set ticks location and label: `plt.xticks(), plt.yticks()`"
   ]
  },
  {
   "cell_type": "code",
   "execution_count": null,
   "metadata": {},
   "outputs": [],
   "source": [
    "plt.plot(x1, y1, color='g', lw=2, ls=\"-.\")\n",
    "plt.xticks([2,4,6,8], ['two', 'four', 'six', 'height'])\n",
    "plt.yticks([0,1,2,5], ['zero', 'one', '2.00', '5E1'])"
   ]
  },
  {
   "cell_type": "markdown",
   "metadata": {},
   "source": [
    "#### Add some text at a specific position: `plt.text()`"
   ]
  },
  {
   "cell_type": "code",
   "execution_count": null,
   "metadata": {},
   "outputs": [],
   "source": [
    "plt.plot(x1, y1, color='g', lw=2, ls=\"-.\")\n",
    "plt.text(1,2, 'Waw !')"
   ]
  },
  {
   "cell_type": "markdown",
   "metadata": {},
   "source": [
    "#### Add a title to your plot: `plt.title()`"
   ]
  },
  {
   "cell_type": "code",
   "execution_count": null,
   "metadata": {},
   "outputs": [],
   "source": [
    "plt.title('What a wonderful plot (humm)')"
   ]
  },
  {
   "cell_type": "markdown",
   "metadata": {},
   "source": [
    "#### Use log scale: `plt.xscale()`, `plt.yscale()`"
   ]
  },
  {
   "cell_type": "code",
   "execution_count": null,
   "metadata": {},
   "outputs": [],
   "source": [
    "x = np.logspace(0.1, 1, 10)\n",
    "y = np.log10(x)\n",
    "plt.plot(x,y)\n",
    "plt.xscale('log')"
   ]
  },
  {
   "cell_type": "markdown",
   "metadata": {},
   "source": [
    "#### Create, clear and/or close a figure: `plt.figure()`, `plt.clf()`, `plt.close()`\n",
    "\n",
    "- `f = plt.figure()` creates a new figure object `f` with options you can specify (e.g. figsize=(w, h), num). \n",
    "- `plt.clf()` (i.e. clear figure) *empty* your figure, and make it ready for a new plot.   \n",
    "- `plt.close()` removes any internal reference to your figure (if you create a figure `fig = plt.figure()`, `fig = plt.figure()`, python will give different numbers to each figure and so keep both in memory). Hence, if you plot many figures, close your figure once not used to free memory. If you do it within Jupyter, your figure will not appear at the screen (but you may be able to [save it](#III.2.4) into an exernal file before closing it). Use `plt.close('all')` to close ALL your figures, or give the figure name (e.g. `f` in the example above, or id, to close a specific figure. "
   ]
  },
  {
   "cell_type": "code",
   "execution_count": null,
   "metadata": {},
   "outputs": [],
   "source": [
    "# What will be the output of the following command lines ? \n",
    "# (guess before printing enter)\n",
    "fig = plt.figure()\n",
    "plt.plot(x,y)\n",
    "plt.plot(np.arange(6))\n",
    "\n",
    "fig = plt.figure()\n",
    "plt.plot(np.arange(6))\n",
    "plt.clf()\n",
    "plt.plot(x,y)\n",
    "plt.savefig('nicefig.pdf', dpi=200, format='pdf' )\n",
    "plt.close(fig)\n",
    "# Comment the last line and re-run the cell"
   ]
  },
  {
   "cell_type": "markdown",
   "metadata": {},
   "source": [
    "### Summary\n",
    "\n",
    "- To make a plot, we need first to import the `matplotlib.pyplot` (`as plt`). If you are in jupyter, use the `magic` command `%matplotlib inline` to be able to see your plot in your browser. \n",
    "- For simple plots (i.e. to quickly visualize the results of an operation) you may use `plt.plot()`, filling the functions with the parameters you want to change (linesize, linewidth, color, alpha, label). \n",
    "- There are series of methods to modify some of the main properties of your plot: add a label (`plt.xlabel`/`plt.ylabel`), add a title (`plt.title`), change the plotting limits (`plt.xlim`, `plt.ylim`), modify the ticks (`plt.xticks`, `plt.yticks`), add text (`plt.text`), add a legend (`plt.legend()`). \n",
    "- Use `plt.clf()` to clear the content of a figure, and `plt.close()` to close a figure. "
   ]
  },
  {
   "cell_type": "markdown",
   "metadata": {},
   "source": [
    "### III.2 A bit more advanced plotting <a class=\"anchor\" id=\"III.2\"></a>\n",
    "\n",
    "You can also do many different kind of \"simple plots\" like:\n",
    "- Scatter plot `plt.scatter(x, y, s, c)` (s=pt size, c=color, sequence of colors or sequence of numbers)\n",
    "- Plot with errorbars: `plt.errorbars(x, y, xerr, yerr)`\n",
    "- Plot values in a 2D-array: `plt.imshow(X, aspect='equal', interpolation='nearest')`   (X is a 2D array)\n",
    "- Calculate an histogram and plot it on-the-fly: `plt.hist(x, bins=20, range=[min, max])`  (bins is number of bins)\n",
    "- Plot a step function: `plt.step(x, y)`  (x is assumed to be uniformly increasing)\n",
    "\n",
    "But if you want to have more control on your figure, more flexibility in doing plots, you may need to consider your \"plot\" in an object oriented manner.\n",
    "\n",
    "In fact, when you do `plt.plot()`, you do three things:\n",
    "1. You create an *object* window (called **figure**), that is empty (no axis): `f = plt.figure()`\n",
    "2. You then create an **axes** object within that figure. This object **axes** is in fact a *subplot* that delimits the area where you will draw your plot: `ax = f.add_subplot(1,1,1)` (you add a subplot with 1 row, 1 column, and its id is 1). \n",
    "3. You draw your plot in the subplot we have just defined: `ax.plot(x, y)`\n",
    "\n",
    "Try this out in the cell below"
   ]
  },
  {
   "cell_type": "code",
   "execution_count": null,
   "metadata": {},
   "outputs": [],
   "source": [
    "plt.plot(x,y)\n",
    "f = plt.figure()\n",
    "axx = f.add_subplot(1,1,1)\n",
    "axx.plot(x,y)"
   ]
  },
  {
   "cell_type": "markdown",
   "metadata": {},
   "source": [
    "#### III.2.1 Plot properties    <a class=\"anchor\" id=\"III.2.1\"></a>\n",
    "\n",
    "This method is more convenient for advanced plot and you will often find this \"object oriented approach\" to make plots in the source code of the figures you find in the [matplotlib gallery](http://matplotlib.sourceforge.net/gallery.html) and they may serve as source of inspiration for your own fancy figure. This approach is also the one followed to generate the figures of our reference [book](http://www.astroml.org/). \n",
    "\n",
    "Now that we know that the area where we draw is *one or several axes*, we may have a look to the functions (that we should call *methods*) that modify the aspect of the plot. Most of the commands we have seen before to define plot extension, ticks, labels, ... change slightly of naming, starting now with the prefix `set_`method. For example:\n",
    "``` python\n",
    "plt.xlabel()  -> ax.set_xlabel()   # Adds xlabel\n",
    "plt.xlim()    -> ax.set_xlim()     # defines the limits of x-axis\n",
    "plt.title()   -> ax.set_title()    # Set title of object ax / of your subplot\n",
    "plt.xticks()  -> ax.set_xticks()   # Set the xticks\n",
    "\n",
    "```\n",
    "And many more ! You may try `help(ax)` (after defining such an object) to see all its properties. Similarly to the `set_` methods, there is `get_` methods that allow you to know the existing (default) properties of `ax` and modify them. \n",
    "For example, you may want to know the values of the `xticks` of your subplot and modify them in the following way:\n",
    "``` python\n",
    "ax.get_xticks()  \n",
    "    Out: [1,2,3,4]\n",
    "# you can choose to show only two\n",
    "ax.set_xticks([1,3])\n",
    "# And change the way they are labeled:\n",
    "ax.set_xticklabels(['un', 'three'])\n",
    "```\n",
    "\n",
    "Finally, you can modify the appearance of the tick labels (size, color, ...) using:\n",
    "(this is not a well known command but very useful !! Keep it in mind)\n",
    "``` python\n",
    "ax.tick_params(axis='both', which='major', labelsize=10)\n",
    "ax.tick_params(axis='both', which='minor', labelsize=8)\n",
    "```\n",
    "\n",
    "** Exercise: **\n",
    "\n",
    "- Create a figure using `ax`, plot `y=sin(x)` between -2$\\pi$ and 2$\\pi$.  \n",
    "- Add labels and title, modify the `xticks` such that they show up in units of $\\pi$ (i.e. pi symbol). "
   ]
  },
  {
   "cell_type": "code",
   "execution_count": null,
   "metadata": {},
   "outputs": [],
   "source": [
    "f = plt.figure()\n",
    "ax = f.add_subplot(1,1,1)\n",
    "x = np.linspace(-2*np.pi, 2*np.pi, 100)\n",
    "ax.set_title('y = sin(x)')\n",
    "ax.set_xlabel('x')\n",
    "ax.set_ylabel('sin(x)')\n",
    "xtick_pos = [-2.*np.pi, -np.pi, 0, np.pi, 2.*np.pi]\n",
    "xtick_name = [r'-2$\\pi$', r'$\\pi$', '0', '$\\pi$', '2$\\pi$']\n",
    "ax.set_xticks(xtick_pos)\n",
    "ax.set_xticklabels(xtick_name)\n",
    "ax.plot(x, np.sin(x))"
   ]
  },
  {
   "cell_type": "code",
   "execution_count": null,
   "metadata": {
    "collapsed": true
   },
   "outputs": [],
   "source": []
  },
  {
   "cell_type": "markdown",
   "metadata": {},
   "source": [
    "#### III.2.2 Create multiple subplots   <a class=\"anchor\" id=\"III.2.2\"></a>\n",
    "\n",
    "There are basically three options: \n",
    "\n",
    "- The first one follows the same approach than what we did before:  \n",
    "``` python\n",
    "# Note the use of figsize argument that takes a tuple of integers corresponding to width and height in inches\n",
    "f = plt.figure(figsize=(8,6))     \n",
    "ax1 = f.add_subplot(2,1,1)\n",
    "ax2 = f.add_subplot(2, 1, 2)\n",
    "```\n",
    "It is then possible to adjust the spacing between the subplots using [subplots_adjust](http://matplotlib.org/api/pyplot_api.html#matplotlib.pyplot.subplots_adjust), or use the [gridspec](http://matplotlib.org/users/gridspec.html) functionality for more advanced subplotting. `f.subplots_adjust(left=None, bottom=None, right=None, top=None, wspace=None, hspace=None)` allows you to modify the space between different subplots and w.r.t. the margins of the figure. The values are all in relative units w.r.t. the size of the figure (i.e. 1 is the full width/heigth of the figure). While left/right/top/bottom fix the position w.r.t. the borders, `wspace` and `hspace` fixes the interspace (width / height) between the different subplots. \n",
    "\n",
    "- There is a simple and (I think) very convenient alternative if you simply want to quickly make several subplots in the same figure:\n",
    "``` python \n",
    "f, ax = plt.subplots(nrows=n)\n",
    "```\n",
    "If $n > 1$, then ax is a `list` of `axes` objects. You can then easily put your plotting command in a loop to plot different results in different subplots. If you want to force the x/y axis to have the same extent, use argument `sharex=True`. You can also modify the relative space between subplots using `f.subplotadjust()`. The arguments `subplot_kw` accept also a dictionary as argument. This `dict` may contain keywords associated to the `add_subplot()` method that is used behind the scene to create the panels of your figure. You can for example use `subplot_kw={'aspect':'equal'}` as a parameter to enforce x-y axes to have the same size.\n",
    "\n",
    "- A third possibility, is to uses the method `add_axes` instead of `add_subplot` to add your axes object in the figure (this is somehow a more logical cammand !). The main option of `add_axes` however differs from add_subplot:  \n",
    "``` python\n",
    "f.add_axes([x_bleft, y_bleft, dx, dy]) \n",
    "```\n",
    "The argument `x_bleft`, `y_bleft` define the position of the lower-left corner of the *subplot*, and and `dx` and `dy` are the width and height of the subplot, with all values specified in relative units (where 0 is left/bottom and 1 is top/right). This is therefore very easy to add an inset plot at an arbitrary position on your figure !\n",
    "\n",
    "**Exercise**\n",
    "\n",
    "- Create a figure made of 2 subplots located on two different rows. Plot a sine colored in red on the top row, and a cosine in blue on the bottom one. Add a vertical (horizontal) line in the *two* subplots at x = 0 (y=0).\n",
    "- Create two *square* sublots in a figure that has figsize=(10, 6), leaving enough space for the axis and tick labels. (The second figure can be inside the first one or separated). Then, plot a line in each of these subplots. \n",
    "\n",
    "**Note**: \n",
    "\n",
    "Lines connecting the axis tick marks and noting the boundaries of the data area are called `spines`. You can access them though `ax.spines['left/right/top/bottom']`. You can move them or change their appearance using methods `ax.spine['left'].set_color('none')` (erase left spine), `ax.spine['right'].set_position(('data', 0))` (move the right spine to 0), ... See http://matplotlib.org/api/spines_api.html for more information.  "
   ]
  },
  {
   "cell_type": "code",
   "execution_count": null,
   "metadata": {},
   "outputs": [],
   "source": []
  },
  {
   "cell_type": "code",
   "execution_count": null,
   "metadata": {},
   "outputs": [],
   "source": [
    "# Create two square sublots in a figure that has figsize=(10, 6), leaving enough space for the axis and tick labels.\n"
   ]
  },
  {
   "cell_type": "markdown",
   "metadata": {},
   "source": [
    "#### III.2.3 Twin axes  <a class=\"anchor\" id=\"III.2.3\"></a>\n",
    "\n",
    "In some cases, it can be desirable to show two different x axes (e.g. distance and redshift), or two different y axes (e.g. two different quantities such as density and temperature). Matplotlib provides an easy way to create twin axes. For example:\n",
    "``` python\n",
    "fig = plt.figure()\n",
    "ax1 = fig.add_subplot(1, 1, 1)\n",
    "ax2 = ax1.twinx()\n",
    "```\n",
    "\n",
    "creates a new set of axes (`ax2`) that *shares the x-axis with ax1*, but can have a *separate y-axis* (similarly, `twiny` would return a second set of axes sharing the y-axis, but with a separate x-axis). As an example, we can use this command to plot two different quantities as a function of time:"
   ]
  },
  {
   "cell_type": "code",
   "execution_count": null,
   "metadata": {},
   "outputs": [],
   "source": [
    "# Plot using twin axes\n"
   ]
  },
  {
   "cell_type": "markdown",
   "metadata": {},
   "source": [
    "#### III.2.4. Export your figure:   <a class=\"anchor\" id=\"III.2.4\"></a>\n",
    "\n",
    "Once you are happy with the figure you have created, you can save your figure in many different formats. This figure saving can also be done within a script. \n",
    "You simply do:\n",
    "``` python\n",
    "f = plt.figure(figsize=(8,6))\n",
    "ax1 = f.add_subplot(2,1,1)\n",
    "ax1.plot(x,y)\n",
    "f.savefig('mynicefigure.png', dpi=200, format='png')  # format is in general optional as the extension of your file defines it\n",
    "```\n",
    "\n",
    "Alternatively, `plt.savefig('myfigure')` will also save the current active figure. In ipython, and interactive window plotting (in general qt backend) you can also click in the window on the small \"disk\" icon. The interactive window also allows you to modify the size and subplot properties interactively (you can even change the line properties, ...). Although this may look convenient, this is not recommended to create the final version of your figure only that way. Use it maybe to experiment with various presentation and save the parameter results when you are happy such that latter on, you can re-launch your script with exactly the same set of parameters and get exactly the same output. If you want to make a minor change to your figure, just edit the lines concerned by those changes !\n",
    "\n",
    "*What to think about before saving your (final) figure ? *\n",
    "\n",
    "- Format of the output file: use of 'png' is generally not recommended for paper-quality print, but is good if you want to share your figure e.g. on the web, or make a figure for a presentation. \"Word\"/Office documents also better deal with this format. For scientific publications, \"pdf\" or \"ps\" (postscript) are best. \n",
    "- If you have several curves on your figure, verify that your plot is still readable in black and white. If not, think of using the variety of line styles and/or modify the linewidth and/or modify transparency (alpha) when possible to distinguish the various curves. Note that transparency is not always kept properly after savefig (especially when saving in postscript format). Think also to color blinded people and avoid using \"green\" and \"red\" on the same figure ! You can use color blindness simulator http://www.color-blindness.com/coblis-color-blindness-simulator/ to check the legibility of your figure !\n",
    "- Are the labels, legend, ticks, large enough. You can modify the size of the labels using \"fontsize\" argument in `set_xlabel` (either \"small/medium/large\" or a float: 16/18 may be good for many application). Modifying the size of the ticks may be a bit more painful (but see below the [rcparameters](#rcparameters)), but remember also this simple way to change the size (but also color, ...) of the tick-labels: \n",
    "``` python\n",
    "ax.tick_params(axis='both', which='major', labelsize=10)\n",
    "```\n",
    "- Beware that a fontsize that looks good on a figure of (10,8), may not on a figure of (18, 14). Especially since those figures may be shrinked in your publication (to occupy 1/2 columns). For that reason do not forget the argument \"`figsize()`\" when defining your figure. \n",
    "- You may feel, after exporting your figure, that there is still a lot of white space on top/left/bottom/up compared to the effective figure size. You can surely change this using the `subplot_adjust()` but there is a cheapper and generally effective way to do it with a single command line:\n",
    "``` python\n",
    "f.tight_layout()\n",
    "``` \n",
    "This command will make the adjustment for you. \n"
   ]
  },
  {
   "cell_type": "markdown",
   "metadata": {},
   "source": [
    "**Exercises:** <a class=\"anchor\" id=\"meshgrid\"></a>\n",
    "\n",
    "This exercise makes use of meshgrid and matplotlib.\n",
    "\n",
    "- Evaluate a 2-D Gaussian (or 2D Moffat) centered on a grid of 20x20 pixels centered on 0. \n",
    "- Use the plotting command `CS = contour(X,Y,Z)` to visualise your results (! contour is a method of object axes). Use `clabel(CS)` to put labels on the contours. Try using with `contourf()`: what is the difference ? \n",
    "- Do the same but center the gaussian at x=2 and y = 0 and visualise your results. \n",
    "- Use `plt.imshow()` (instead of `plt.contours()` to visualise your results. "
   ]
  },
  {
   "cell_type": "code",
   "execution_count": null,
   "metadata": {},
   "outputs": [],
   "source": []
  },
  {
   "cell_type": "code",
   "execution_count": null,
   "metadata": {},
   "outputs": [],
   "source": [
    "f, ax = plt.subplots(1 , subplot_kw={'aspect':'equal'})\n",
    "CSf = ax.contourf(X, Y, Z) "
   ]
  },
  {
   "cell_type": "code",
   "execution_count": null,
   "metadata": {},
   "outputs": [],
   "source": []
  },
  {
   "cell_type": "markdown",
   "metadata": {},
   "source": [
    "#### Note:  Set (default) plot properties with `rc` parameters  <a class=\"anchor\" id=\"rcparameters\"></a>\n",
    "\n",
    "\n",
    "In practice, this can be a lot of work for simple and common things (e.g. setting the tick label properties) to set the plot properties as in III.2.1, so matplotlib allows users to specify default properties via rc parameters. These can be set either in a ~/.matplotlib/matplotlibrc file, or in a script. To set these via a file, see [matplotlibrc](#http://matplotlib.sourceforge.net/users/customizing.html#a-sample-matplotlibrc-file) (this also shows all the options that are availables). Example (modified) lines from this script include: Example (modified) lines from this script include:\n",
    "``` python\n",
    "#xtick.major.size     : 4      # major tick size in points\n",
    "#xtick.minor.size     : 2      # minor tick size in points\n",
    "#xtick.major.pad      : 4      # distance to major tick label in points\n",
    "#xtick.minor.pad      : 4      # distance to the minor tick label in points\n",
    "#xtick.color          : r      # color of the tick labels\n",
    "#xtick.labelsize      : medium # fontsize of the tick labels\n",
    "#xtick.direction      : out     # direction: in or out\n",
    "```\n",
    "These lines are commented out by default, but you can uncomment them to make them active. However, it’s often easier to define properties on a per-script basis using the rc function. This function’s first argument is the category of the settings, and this is followed by a set of keyword arguments to set the parameters for this element. \n",
    "You can also set these parameters directly using:\n",
    "``` python\n",
    "plt.rc('xtick', color='r', labelsize='medium', direction='out')\n",
    "plt.rc('xtick.major', size=4, pad=4)\n",
    "plt.rc('xtick.minor', size=2, pad=4)\n",
    "```\n",
    "\n",
    "Finally, to best deal with latex characters / formating in figures, it is recommended to modify/set some rc parameters in the following way:\n",
    "``` python \n",
    "plt.rc('text', usetex=True)\n",
    "plt.rcParams['text.latex.preamble']=[r\"\\usepackage{color}\"]\n",
    "plt.rcParams['text.latex.preamble']=[r\"\\usepackage{wasysym}\"]\n",
    "plt.rcParams['text.latex.preamble']=[r\"\\usepackage{amsmath}\"] \n",
    "``` "
   ]
  },
  {
   "cell_type": "markdown",
   "metadata": {},
   "source": [
    "**Note about exporting to eps**\n",
    "\n",
    "Some journals require eps (encapsulated postscript) formating for figure which is not always well supported by matplotlib, in particular transparency is often lost. To export to `eps` it is then recommended to save the figure in pdf and use (in command line in a shell or run it using `os.system()`) `pdftops -eps` to convert to eps. "
   ]
  },
  {
   "cell_type": "markdown",
   "metadata": {},
   "source": [
    "#### III.2.5 Specify default figure settings in an external file <a class=\"anchor\" id=\"III.2.5\"></a>\n",
    "\n",
    "It is possible to set a series of parameters for your figure in an external `style file` (ascii file) that you import in the begining of your plotting script. Imagine that you have a style file `Fig_style.txt`, then you simply have to include at the begining of your plotting script: \n",
    "``` python\n",
    "plt.style.use('Fig_style')\n",
    "```\n",
    "\n",
    "This approach allows one to create ensemble of figures in a uniform way, and also share figure setting (e.g. between co-authors of a paper) in a simple way. Any styling options specified *after* importing that style file will overwirte the defaults (and should therefore be avoided !). \n",
    "\n",
    "The content of your file `Fig_style.txt` could be something like:\n",
    "\n",
    "``` python\n",
    "# Define main axes properties and color cycle\n",
    "axes.titlesize : 18\n",
    "axes.labelsize : 16\n",
    "lines.linewidth : 3\n",
    "lines.markersize : 10\n",
    "axes.prop_cycle : cycler('color', ['0CABBE','57D6D9','EBDDB6','F4965E','F0551C'])\n",
    "\n",
    "# Ticks styling\n",
    "xtick.top : True\n",
    "xtick.labelsize : 13\n",
    "xtick.minor.visible : True\n",
    "xtick.direction : in\n",
    "\n",
    "ytick.right : True\n",
    "ytick.labelsize : 13\n",
    "ytick.minor.visible : True\n",
    "ytick.direction : in\n",
    "\n",
    "# legend formating\n",
    "legend.loc : upper right\n",
    "legend.frameon : True\n",
    "legend.framealpha : 1.0\n",
    "legend.edgecolor : 0.0\n",
    "legend.fancybox : False\n",
    "legend.fontsize : 13\n",
    "\n",
    "# colormap\n",
    "image.cmap : viridis\n",
    "\n",
    "# Ensures use of \"tight_layout\" for saving the figure\n",
    "savefig.bbox : tight\n",
    "```\n",
    "\n",
    "**Notes** Some default styling also exists and could be called using the same command `plt.style.use('style_name')`. See `plt.style.available` to get a list of available default style setups existing locally. "
   ]
  },
  {
   "cell_type": "markdown",
   "metadata": {},
   "source": [
    "### Summary: \n",
    "\n",
    "- We have explored the use of the \"axes\" object to more easily manage plot properties. Those \"axes\" can be created using `ax = fig.add_subplot()` or `f, ax = plt.subplots()`. This methodology also allows you to easily create a figure with multiple subpannels. \n",
    "- Main properties of axes objects are set using ax.set_XX, such as `ax.set_xlabel()`, `ax.set_xticks`, ... To get existing properties, we can use ax.get_XX. \n",
    "- Twin axes are easily created with \"axes\" objects using `ax2 = ax1.twinx()` / `ax2 = ax1.twiny()`\n",
    "- We also know how to save a figure in various formats using `f.savefig()`, and listed some key aspects to think of before saving a final version of a figure for publication (label and tick sizes, file format, layout, legibility in black and white).  "
   ]
  },
  {
   "cell_type": "markdown",
   "metadata": {},
   "source": [
    "## III.3 References and supplementary material: <a class=\"anchor\" id=\"VI\"></a>\n",
    "\n",
    "Specific Matplotlib documentation (where to go when you do not know how to plot this/that):\n",
    "\n",
    "- [Thumbnail gallery](http://matplotlib.sourceforge.net/gallery.html): hundreds of thumbnails linking to the source code used to make them (find a plot like the one you want to make): a VERY useful resource !\n",
    "- Pyplot Tutorial: http://matplotlib.org/users/pyplot_tutorial.html\n",
    "- [Matplotlib home page](http://matplotlib.sourceforge.net): key pylab plotting commands in a table. \n",
    "- Matplotlib manual: http://matplotlib.sourceforge.net/contents.html\n",
    "- [Code examples](http://matplotlib.sourceforge.net/examples/): extensive examples showing how to use matplotlib commands.\n"
   ]
  }
 ],
 "metadata": {
  "anaconda-cloud": {},
  "kernelspec": {
   "display_name": "Python [conda env:intel-python2]",
   "language": "python",
   "name": "conda-env-intel-python2-py"
  },
  "language_info": {
   "codemirror_mode": {
    "name": "ipython",
    "version": 3
   },
   "file_extension": ".py",
   "mimetype": "text/x-python",
   "name": "python",
   "nbconvert_exporter": "python",
   "pygments_lexer": "ipython3",
   "version": "3.6.3"
  }
 },
 "nbformat": 4,
 "nbformat_minor": 2
}
