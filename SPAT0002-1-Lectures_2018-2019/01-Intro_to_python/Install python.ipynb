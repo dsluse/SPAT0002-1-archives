{
 "cells": [
  {
   "cell_type": "markdown",
   "metadata": {},
   "source": [
    "# How do I install a python distribution on my personal computer ?"
   ]
  },
  {
   "cell_type": "markdown",
   "metadata": {},
   "source": [
    "The easiest way to proceed is to install first the CONDA management system: https://conda.io/docs/ (Read that doc to understand how this works). \n",
    "\n",
    "In summary, you have two choices of python distributions: \n",
    "- 1) install `anaconda`, that comes with many pre-installed python packages and easy package and environment management: https://www.anaconda.com/download/\n",
    "- 2) install `miniconda`: this is a light-weight version of `anaconda` and you only install what you want / really need. https://conda.io/miniconda.html\n",
    " \n",
    "If disc-space is not a problem, go for (1), i.e. `anaconda` (if you define multiple environments, you might easily need up to 20Gb). Otpion (2) is also a viable alternative. \n",
    " \n",
    "During the lecture, we use Python 3.6, so this is the version you should install. The use of environment allows you to install easily other versions of python (e.g. 2.7) and use that environment for specific projects. \n",
    " \n",
    "Once anaconda is installed, you can easily install Jupyter http://jupyter.org/install, either via command line (there is an `anaconda prompt` on Windows; simply use the terminal on Linux or MacOS), or through `anaconda-navigator` (if you have installed the anaconda distribution). Anaconda-navigator can be launched from command line OR can be launched via a \"programme menu\". "
   ]
  },
  {
   "cell_type": "code",
   "execution_count": null,
   "metadata": {
    "collapsed": true
   },
   "outputs": [],
   "source": []
  }
 ],
 "metadata": {
  "kernelspec": {
   "display_name": "Python [conda env:root]",
   "language": "python",
   "name": "conda-root-py"
  },
  "language_info": {
   "codemirror_mode": {
    "name": "ipython",
    "version": 2
   },
   "file_extension": ".py",
   "mimetype": "text/x-python",
   "name": "python",
   "nbconvert_exporter": "python",
   "pygments_lexer": "ipython2",
   "version": "2.7.15"
  }
 },
 "nbformat": 4,
 "nbformat_minor": 2
}
